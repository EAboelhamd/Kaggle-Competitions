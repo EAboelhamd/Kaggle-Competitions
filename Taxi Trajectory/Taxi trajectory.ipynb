{
 "cells": [
  {
   "cell_type": "markdown",
   "metadata": {},
   "source": [
    "## Introduction:\n",
    "\n",
    "Competition link ==> https://www.kaggle.com/c/pkdd-15-predict-taxi-service-trajectory-i\n",
    "\n",
    "### Problem statement:\n",
    "1. In most cases, taxi drivers operating with an electronic dispatch system do not indicate the final destination of their current ride.\n",
    "2. Since taxis using electronic dispatch systems do not usually enter their drop off location, it is extremely difficult for dispatchers to know which taxi to contact. \n",
    "\n",
    "### Solution:\n",
    "- Predict the final destination of a taxi while it is in service based on (initial) partial trajectories. \n",
    "- The output of such a framework must be the final trip's destination (WGS84 coordinates)"
   ]
  },
  {
   "cell_type": "code",
   "execution_count": 1,
   "metadata": {
    "collapsed": true
   },
   "outputs": [],
   "source": [
    "## data manipulation\n",
    "import numpy as np\n",
    "import pandas as pd\n",
    "\n",
    "## reading the data \n",
    "import json\n",
    "import zipfile\n",
    "import csv\n",
    "\n",
    "## plotting .. \n",
    "import seaborn as sns\n",
    "import matplotlib.pyplot as plt\n",
    "% matplotlib inline\n",
    "\n",
    "## clustering \n",
    "from sklearn.cluster import KMeans\n",
    "from sklearn.metrics import silhouette_samples, silhouette_score\n",
    "\n",
    "## Feature Selection \n",
    "from sklearn.feature_selection import VarianceThreshold\n",
    "from sklearn.feature_selection import SelectKBest\n",
    "from sklearn.feature_selection import chi2\n",
    "\n",
    "\n",
    "## warnings\n",
    "import warnings\n",
    "warnings.filterwarnings(\"ignore\")"
   ]
  },
  {
   "cell_type": "markdown",
   "metadata": {},
   "source": [
    "## Reading the data:"
   ]
  },
  {
   "cell_type": "code",
   "execution_count": 2,
   "metadata": {
    "collapsed": true
   },
   "outputs": [],
   "source": [
    "zf = zipfile.ZipFile('train.csv.zip')\n",
    "df = pd.read_csv(zf.open('train.csv'), converters={'POLYLINE': lambda x: json.loads(x)[-1:]})"
   ]
  },
  {
   "cell_type": "code",
   "execution_count": 32,
   "metadata": {},
   "outputs": [
    {
     "data": {
      "text/html": [
       "<div>\n",
       "<table border=\"1\" class=\"dataframe\">\n",
       "  <thead>\n",
       "    <tr style=\"text-align: right;\">\n",
       "      <th></th>\n",
       "      <th>TRIP_ID</th>\n",
       "      <th>CALL_TYPE</th>\n",
       "      <th>ORIGIN_CALL</th>\n",
       "      <th>ORIGIN_STAND</th>\n",
       "      <th>TAXI_ID</th>\n",
       "      <th>TIMESTAMP</th>\n",
       "      <th>DAY_TYPE</th>\n",
       "      <th>MISSING_DATA</th>\n",
       "      <th>POLYLINE</th>\n",
       "    </tr>\n",
       "  </thead>\n",
       "  <tbody>\n",
       "    <tr>\n",
       "      <th>0</th>\n",
       "      <td>1372636858620000589</td>\n",
       "      <td>C</td>\n",
       "      <td>NaN</td>\n",
       "      <td>NaN</td>\n",
       "      <td>20000589</td>\n",
       "      <td>1372636858</td>\n",
       "      <td>A</td>\n",
       "      <td>False</td>\n",
       "      <td>[[-8.630838, 41.154489]]</td>\n",
       "    </tr>\n",
       "    <tr>\n",
       "      <th>1</th>\n",
       "      <td>1372637303620000596</td>\n",
       "      <td>B</td>\n",
       "      <td>NaN</td>\n",
       "      <td>7</td>\n",
       "      <td>20000596</td>\n",
       "      <td>1372637303</td>\n",
       "      <td>A</td>\n",
       "      <td>False</td>\n",
       "      <td>[[-8.66574, 41.170671]]</td>\n",
       "    </tr>\n",
       "    <tr>\n",
       "      <th>2</th>\n",
       "      <td>1372636951620000320</td>\n",
       "      <td>C</td>\n",
       "      <td>NaN</td>\n",
       "      <td>NaN</td>\n",
       "      <td>20000320</td>\n",
       "      <td>1372636951</td>\n",
       "      <td>A</td>\n",
       "      <td>False</td>\n",
       "      <td>[[-8.61597, 41.14053]]</td>\n",
       "    </tr>\n",
       "    <tr>\n",
       "      <th>3</th>\n",
       "      <td>1372636854620000520</td>\n",
       "      <td>C</td>\n",
       "      <td>NaN</td>\n",
       "      <td>NaN</td>\n",
       "      <td>20000520</td>\n",
       "      <td>1372636854</td>\n",
       "      <td>A</td>\n",
       "      <td>False</td>\n",
       "      <td>[[-8.607996, 41.142915]]</td>\n",
       "    </tr>\n",
       "    <tr>\n",
       "      <th>4</th>\n",
       "      <td>1372637091620000337</td>\n",
       "      <td>C</td>\n",
       "      <td>NaN</td>\n",
       "      <td>NaN</td>\n",
       "      <td>20000337</td>\n",
       "      <td>1372637091</td>\n",
       "      <td>A</td>\n",
       "      <td>False</td>\n",
       "      <td>[[-8.687268, 41.178087]]</td>\n",
       "    </tr>\n",
       "  </tbody>\n",
       "</table>\n",
       "</div>"
      ],
      "text/plain": [
       "               TRIP_ID CALL_TYPE  ORIGIN_CALL  ORIGIN_STAND   TAXI_ID  \\\n",
       "0  1372636858620000589         C          NaN           NaN  20000589   \n",
       "1  1372637303620000596         B          NaN             7  20000596   \n",
       "2  1372636951620000320         C          NaN           NaN  20000320   \n",
       "3  1372636854620000520         C          NaN           NaN  20000520   \n",
       "4  1372637091620000337         C          NaN           NaN  20000337   \n",
       "\n",
       "    TIMESTAMP DAY_TYPE MISSING_DATA                  POLYLINE  \n",
       "0  1372636858        A        False  [[-8.630838, 41.154489]]  \n",
       "1  1372637303        A        False   [[-8.66574, 41.170671]]  \n",
       "2  1372636951        A        False    [[-8.61597, 41.14053]]  \n",
       "3  1372636854        A        False  [[-8.607996, 41.142915]]  \n",
       "4  1372637091        A        False  [[-8.687268, 41.178087]]  "
      ]
     },
     "execution_count": 32,
     "metadata": {},
     "output_type": "execute_result"
    }
   ],
   "source": [
    "df.head()"
   ]
  },
  {
   "cell_type": "markdown",
   "metadata": {},
   "source": [
    "I think by using load(x) [-1:] we extracted the data of the distination (i.e. long and latitude related to the distination of the trip .. instead of retreiving the whole sequance of longitudes and latitudes .. \n",
    "\n",
    "Thus, POLYLINE is now ready to be used as a dependent variable in prediction .."
   ]
  },
  {
   "cell_type": "code",
   "execution_count": 33,
   "metadata": {
    "scrolled": true
   },
   "outputs": [
    {
     "data": {
      "text/plain": [
       "(1710670, 9)"
      ]
     },
     "execution_count": 33,
     "metadata": {},
     "output_type": "execute_result"
    }
   ],
   "source": [
    "np.shape(df)"
   ]
  },
  {
   "cell_type": "code",
   "execution_count": null,
   "metadata": {},
   "outputs": [],
   "source": []
  },
  {
   "cell_type": "markdown",
   "metadata": {},
   "source": [
    "There are about 1M+ records in this file ..\n",
    "\n",
    "As POLYLINE is the predicted variable .. and as it contains two values [longitude, latitude] .. \n",
    "I splitted these values into two seperate columns using R (just for simplicity and for trying different languages) .. \n",
    "\n",
    "The R code is stems from this notebook ==> https://www.kaggle.com/benhamner/last-location-benchmark\n",
    "\n",
    "What I'm gonna do now is to read the splitted POLYLINE from the file and add the new columns to the data frame .. "
   ]
  },
  {
   "cell_type": "code",
   "execution_count": 4,
   "metadata": {},
   "outputs": [
    {
     "data": {
      "text/html": [
       "<div>\n",
       "<table border=\"1\" class=\"dataframe\">\n",
       "  <thead>\n",
       "    <tr style=\"text-align: right;\">\n",
       "      <th></th>\n",
       "      <th>TRIP_ID</th>\n",
       "      <th>LATITUDE</th>\n",
       "      <th>LONGITUDE</th>\n",
       "    </tr>\n",
       "  </thead>\n",
       "  <tbody>\n",
       "    <tr>\n",
       "      <th>0</th>\n",
       "      <td>1.372637e+18</td>\n",
       "      <td>41.154489</td>\n",
       "      <td>-8.630838</td>\n",
       "    </tr>\n",
       "    <tr>\n",
       "      <th>1</th>\n",
       "      <td>1.372637e+18</td>\n",
       "      <td>41.170671</td>\n",
       "      <td>-8.665740</td>\n",
       "    </tr>\n",
       "    <tr>\n",
       "      <th>2</th>\n",
       "      <td>1.372637e+18</td>\n",
       "      <td>41.140530</td>\n",
       "      <td>-8.615970</td>\n",
       "    </tr>\n",
       "    <tr>\n",
       "      <th>3</th>\n",
       "      <td>1.372637e+18</td>\n",
       "      <td>41.142915</td>\n",
       "      <td>-8.607996</td>\n",
       "    </tr>\n",
       "    <tr>\n",
       "      <th>4</th>\n",
       "      <td>1.372637e+18</td>\n",
       "      <td>41.178087</td>\n",
       "      <td>-8.687268</td>\n",
       "    </tr>\n",
       "  </tbody>\n",
       "</table>\n",
       "</div>"
      ],
      "text/plain": [
       "        TRIP_ID   LATITUDE  LONGITUDE\n",
       "0  1.372637e+18  41.154489  -8.630838\n",
       "1  1.372637e+18  41.170671  -8.665740\n",
       "2  1.372637e+18  41.140530  -8.615970\n",
       "3  1.372637e+18  41.142915  -8.607996\n",
       "4  1.372637e+18  41.178087  -8.687268"
      ]
     },
     "execution_count": 4,
     "metadata": {},
     "output_type": "execute_result"
    }
   ],
   "source": [
    "polyline = pd.read_csv('last_location_benchmark.csv')\n",
    "polyline.head()"
   ]
  },
  {
   "cell_type": "code",
   "execution_count": 5,
   "metadata": {},
   "outputs": [
    {
     "data": {
      "text/plain": [
       "0    41.154489\n",
       "1    41.170671\n",
       "2    41.140530\n",
       "3    41.142915\n",
       "4    41.178087\n",
       "Name: LATITUDE, dtype: float64"
      ]
     },
     "execution_count": 5,
     "metadata": {},
     "output_type": "execute_result"
    }
   ],
   "source": [
    "polyline['LATITUDE'].head()"
   ]
  },
  {
   "cell_type": "code",
   "execution_count": 7,
   "metadata": {},
   "outputs": [
    {
     "data": {
      "text/html": [
       "<div>\n",
       "<table border=\"1\" class=\"dataframe\">\n",
       "  <thead>\n",
       "    <tr style=\"text-align: right;\">\n",
       "      <th></th>\n",
       "      <th>TRIP_ID</th>\n",
       "      <th>CALL_TYPE</th>\n",
       "      <th>ORIGIN_CALL</th>\n",
       "      <th>ORIGIN_STAND</th>\n",
       "      <th>TAXI_ID</th>\n",
       "      <th>TIMESTAMP</th>\n",
       "      <th>DAY_TYPE</th>\n",
       "      <th>MISSING_DATA</th>\n",
       "      <th>POLYLINE</th>\n",
       "      <th>LATITUDE</th>\n",
       "      <th>LONGITUDE</th>\n",
       "    </tr>\n",
       "  </thead>\n",
       "  <tbody>\n",
       "    <tr>\n",
       "      <th>0</th>\n",
       "      <td>1372636858620000589</td>\n",
       "      <td>C</td>\n",
       "      <td>NaN</td>\n",
       "      <td>NaN</td>\n",
       "      <td>20000589</td>\n",
       "      <td>1372636858</td>\n",
       "      <td>A</td>\n",
       "      <td>False</td>\n",
       "      <td>[[-8.630838, 41.154489]]</td>\n",
       "      <td>41.154489</td>\n",
       "      <td>-8.630838</td>\n",
       "    </tr>\n",
       "    <tr>\n",
       "      <th>1</th>\n",
       "      <td>1372637303620000596</td>\n",
       "      <td>B</td>\n",
       "      <td>NaN</td>\n",
       "      <td>7</td>\n",
       "      <td>20000596</td>\n",
       "      <td>1372637303</td>\n",
       "      <td>A</td>\n",
       "      <td>False</td>\n",
       "      <td>[[-8.66574, 41.170671]]</td>\n",
       "      <td>41.170671</td>\n",
       "      <td>-8.665740</td>\n",
       "    </tr>\n",
       "    <tr>\n",
       "      <th>2</th>\n",
       "      <td>1372636951620000320</td>\n",
       "      <td>C</td>\n",
       "      <td>NaN</td>\n",
       "      <td>NaN</td>\n",
       "      <td>20000320</td>\n",
       "      <td>1372636951</td>\n",
       "      <td>A</td>\n",
       "      <td>False</td>\n",
       "      <td>[[-8.61597, 41.14053]]</td>\n",
       "      <td>41.140530</td>\n",
       "      <td>-8.615970</td>\n",
       "    </tr>\n",
       "    <tr>\n",
       "      <th>3</th>\n",
       "      <td>1372636854620000520</td>\n",
       "      <td>C</td>\n",
       "      <td>NaN</td>\n",
       "      <td>NaN</td>\n",
       "      <td>20000520</td>\n",
       "      <td>1372636854</td>\n",
       "      <td>A</td>\n",
       "      <td>False</td>\n",
       "      <td>[[-8.607996, 41.142915]]</td>\n",
       "      <td>41.142915</td>\n",
       "      <td>-8.607996</td>\n",
       "    </tr>\n",
       "    <tr>\n",
       "      <th>4</th>\n",
       "      <td>1372637091620000337</td>\n",
       "      <td>C</td>\n",
       "      <td>NaN</td>\n",
       "      <td>NaN</td>\n",
       "      <td>20000337</td>\n",
       "      <td>1372637091</td>\n",
       "      <td>A</td>\n",
       "      <td>False</td>\n",
       "      <td>[[-8.687268, 41.178087]]</td>\n",
       "      <td>41.178087</td>\n",
       "      <td>-8.687268</td>\n",
       "    </tr>\n",
       "  </tbody>\n",
       "</table>\n",
       "</div>"
      ],
      "text/plain": [
       "               TRIP_ID CALL_TYPE  ORIGIN_CALL  ORIGIN_STAND   TAXI_ID  \\\n",
       "0  1372636858620000589         C          NaN           NaN  20000589   \n",
       "1  1372637303620000596         B          NaN             7  20000596   \n",
       "2  1372636951620000320         C          NaN           NaN  20000320   \n",
       "3  1372636854620000520         C          NaN           NaN  20000520   \n",
       "4  1372637091620000337         C          NaN           NaN  20000337   \n",
       "\n",
       "    TIMESTAMP DAY_TYPE MISSING_DATA                  POLYLINE   LATITUDE  \\\n",
       "0  1372636858        A        False  [[-8.630838, 41.154489]]  41.154489   \n",
       "1  1372637303        A        False   [[-8.66574, 41.170671]]  41.170671   \n",
       "2  1372636951        A        False    [[-8.61597, 41.14053]]  41.140530   \n",
       "3  1372636854        A        False  [[-8.607996, 41.142915]]  41.142915   \n",
       "4  1372637091        A        False  [[-8.687268, 41.178087]]  41.178087   \n",
       "\n",
       "   LONGITUDE  \n",
       "0  -8.630838  \n",
       "1  -8.665740  \n",
       "2  -8.615970  \n",
       "3  -8.607996  \n",
       "4  -8.687268  "
      ]
     },
     "execution_count": 7,
     "metadata": {},
     "output_type": "execute_result"
    }
   ],
   "source": [
    "df['LATITUDE'] = polyline['LATITUDE']\n",
    "df['LONGITUDE'] = polyline['LONGITUDE']\n",
    "df.head()"
   ]
  },
  {
   "cell_type": "markdown",
   "metadata": {},
   "source": [
    "## splitting the data: \n",
    "Before doing any kind of anaylsis .. we have to split the data into training (sometimes calles testing) and validation sets .. "
   ]
  },
  {
   "cell_type": "code",
   "execution_count": 8,
   "metadata": {},
   "outputs": [
    {
     "name": "stdout",
     "output_type": "stream",
     "text": [
      "('The length of the training set', 1368536)\n",
      "('The length of the testing set', 342133)\n",
      "('The length of the data after splitting', 1710669)\n"
     ]
    }
   ],
   "source": [
    "# ntrain .. 80% of the data as training data\n",
    "ntrain = (len(df)*80)/100\n",
    "train_data, test_data = df[:ntrain], df[ntrain+1:]\n",
    "\n",
    "print(\"The length of the training set\" ,len(train_data))\n",
    "print(\"The length of the testing set\" ,len(test_data))\n",
    "print(\"The length of the data after splitting\" ,len(train_data) + len(test_data))"
   ]
  },
  {
   "cell_type": "markdown",
   "metadata": {},
   "source": [
    "Well .. \n",
    "\n",
    "We gonna utilize only the training data of 1.4 million records in our analysis .."
   ]
  },
  {
   "cell_type": "markdown",
   "metadata": {},
   "source": [
    "## Data Exploration:\n",
    "1. Trip_id, origin_call, origin_stand, taxi_id and time_stamp: int \n",
    "2. Call_type, dat_type: categotical\n",
    "3. Missing_data: boolean\n",
    "4. Polyline: series of [long, lat] represent the trip positions every 15 seconds\n",
    "\n",
    "This means that the target variable is the last position in the polyline .. "
   ]
  },
  {
   "cell_type": "code",
   "execution_count": 7,
   "metadata": {},
   "outputs": [
    {
     "data": {
      "text/plain": [
       "TRIP_ID         False\n",
       "CALL_TYPE       False\n",
       "ORIGIN_CALL      True\n",
       "ORIGIN_STAND     True\n",
       "TAXI_ID         False\n",
       "TIMESTAMP       False\n",
       "DAY_TYPE        False\n",
       "MISSING_DATA    False\n",
       "POLYLINE        False\n",
       "dtype: bool"
      ]
     },
     "execution_count": 7,
     "metadata": {},
     "output_type": "execute_result"
    }
   ],
   "source": [
    "train_data.isnull().any()"
   ]
  },
  {
   "cell_type": "markdown",
   "metadata": {},
   "source": [
    "Only ORIGIN_CALL and ORIGIN_STAND having missing values .. \n",
    " \n",
    "let's count them .."
   ]
  },
  {
   "cell_type": "code",
   "execution_count": 8,
   "metadata": {},
   "outputs": [
    {
     "data": {
      "text/plain": [
       "TRIP_ID               0\n",
       "CALL_TYPE             0\n",
       "ORIGIN_CALL     1074556\n",
       "ORIGIN_STAND     718938\n",
       "TAXI_ID               0\n",
       "TIMESTAMP             0\n",
       "DAY_TYPE              0\n",
       "MISSING_DATA          0\n",
       "POLYLINE              0\n",
       "dtype: int64"
      ]
     },
     "execution_count": 8,
     "metadata": {},
     "output_type": "execute_result"
    }
   ],
   "source": [
    "train_data.isnull().sum()"
   ]
  },
  {
   "cell_type": "markdown",
   "metadata": {},
   "source": [
    "Oh .. \n",
    "\n",
    "Huge number of records are missing .. we could not ignore them !"
   ]
  },
  {
   "cell_type": "code",
   "execution_count": 9,
   "metadata": {},
   "outputs": [
    {
     "data": {
      "text/html": [
       "<div>\n",
       "<table border=\"1\" class=\"dataframe\">\n",
       "  <thead>\n",
       "    <tr style=\"text-align: right;\">\n",
       "      <th></th>\n",
       "      <th>TRIP_ID</th>\n",
       "      <th>ORIGIN_CALL</th>\n",
       "      <th>ORIGIN_STAND</th>\n",
       "      <th>TAXI_ID</th>\n",
       "      <th>TIMESTAMP</th>\n",
       "      <th>MISSING_DATA</th>\n",
       "    </tr>\n",
       "  </thead>\n",
       "  <tbody>\n",
       "    <tr>\n",
       "      <th>count</th>\n",
       "      <td>1.200000e+04</td>\n",
       "      <td>2555.000000</td>\n",
       "      <td>5759.000000</td>\n",
       "      <td>12000.000000</td>\n",
       "      <td>1.200000e+04</td>\n",
       "      <td>12000</td>\n",
       "    </tr>\n",
       "    <tr>\n",
       "      <th>mean</th>\n",
       "      <td>1.385424e+18</td>\n",
       "      <td>24692.093542</td>\n",
       "      <td>30.112346</td>\n",
       "      <td>20000350.710000</td>\n",
       "      <td>1.385424e+09</td>\n",
       "      <td>0</td>\n",
       "    </tr>\n",
       "    <tr>\n",
       "      <th>std</th>\n",
       "      <td>7.393313e+15</td>\n",
       "      <td>19820.636923</td>\n",
       "      <td>17.735036</td>\n",
       "      <td>210.785227</td>\n",
       "      <td>7.393313e+06</td>\n",
       "      <td>0</td>\n",
       "    </tr>\n",
       "    <tr>\n",
       "      <th>min</th>\n",
       "      <td>1.372641e+18</td>\n",
       "      <td>2001.000000</td>\n",
       "      <td>1.000000</td>\n",
       "      <td>20000001.000000</td>\n",
       "      <td>1.372641e+09</td>\n",
       "      <td>False</td>\n",
       "    </tr>\n",
       "    <tr>\n",
       "      <th>25%</th>\n",
       "      <td>1.379226e+18</td>\n",
       "      <td>6518.000000</td>\n",
       "      <td>15.000000</td>\n",
       "      <td>20000167.000000</td>\n",
       "      <td>1.379226e+09</td>\n",
       "      <td>0</td>\n",
       "    </tr>\n",
       "    <tr>\n",
       "      <th>50%</th>\n",
       "      <td>1.385408e+18</td>\n",
       "      <td>19146.000000</td>\n",
       "      <td>27.000000</td>\n",
       "      <td>20000346.000000</td>\n",
       "      <td>1.385408e+09</td>\n",
       "      <td>0</td>\n",
       "    </tr>\n",
       "    <tr>\n",
       "      <th>75%</th>\n",
       "      <td>1.391898e+18</td>\n",
       "      <td>41277.000000</td>\n",
       "      <td>47.000000</td>\n",
       "      <td>20000520.000000</td>\n",
       "      <td>1.391898e+09</td>\n",
       "      <td>0</td>\n",
       "    </tr>\n",
       "    <tr>\n",
       "      <th>max</th>\n",
       "      <td>1.398382e+18</td>\n",
       "      <td>63882.000000</td>\n",
       "      <td>63.000000</td>\n",
       "      <td>20000904.000000</td>\n",
       "      <td>1.398382e+09</td>\n",
       "      <td>False</td>\n",
       "    </tr>\n",
       "  </tbody>\n",
       "</table>\n",
       "</div>"
      ],
      "text/plain": [
       "            TRIP_ID   ORIGIN_CALL  ORIGIN_STAND          TAXI_ID  \\\n",
       "count  1.200000e+04   2555.000000   5759.000000     12000.000000   \n",
       "mean   1.385424e+18  24692.093542     30.112346  20000350.710000   \n",
       "std    7.393313e+15  19820.636923     17.735036       210.785227   \n",
       "min    1.372641e+18   2001.000000      1.000000  20000001.000000   \n",
       "25%    1.379226e+18   6518.000000     15.000000  20000167.000000   \n",
       "50%    1.385408e+18  19146.000000     27.000000  20000346.000000   \n",
       "75%    1.391898e+18  41277.000000     47.000000  20000520.000000   \n",
       "max    1.398382e+18  63882.000000     63.000000  20000904.000000   \n",
       "\n",
       "          TIMESTAMP MISSING_DATA  \n",
       "count  1.200000e+04        12000  \n",
       "mean   1.385424e+09            0  \n",
       "std    7.393313e+06            0  \n",
       "min    1.372641e+09        False  \n",
       "25%    1.379226e+09            0  \n",
       "50%    1.385408e+09            0  \n",
       "75%    1.391898e+09            0  \n",
       "max    1.398382e+09        False  "
      ]
     },
     "execution_count": 9,
     "metadata": {},
     "output_type": "execute_result"
    }
   ],
   "source": [
    "unique_id = pd.Series(train_data['TRIP_ID'].unique())\n",
    "limit = 1.2e4\n",
    "unique_id = unique_id.sample(n = limit)\n",
    "train_data = train_data[train_data.TRIP_ID.isin(unique_id)]\n",
    "train_data.describe()"
   ]
  },
  {
   "cell_type": "markdown",
   "metadata": {},
   "source": [
    "This is normal to have replication in taxi_id .. let's check the unique values in both taxi_id and trip_id"
   ]
  },
  {
   "cell_type": "code",
   "execution_count": 10,
   "metadata": {},
   "outputs": [
    {
     "data": {
      "text/plain": [
       "(12000, 437)"
      ]
     },
     "execution_count": 10,
     "metadata": {},
     "output_type": "execute_result"
    }
   ],
   "source": [
    "len(train_data['TRIP_ID'].unique()), len(train_data['TAXI_ID'].unique())"
   ]
  },
  {
   "cell_type": "markdown",
   "metadata": {},
   "source": [
    "Make sense .. \n",
    "\n",
    "To have 437 taxi doing 12000 trip along the year ! \n",
    "\n",
    "As the number of the trips equals the count of missing_data column .. this means that this column contains only FALSE values .. which means that ALL the polyline data are there ! .. \n",
    "\n",
    "Let's double check .. "
   ]
  },
  {
   "cell_type": "code",
   "execution_count": 11,
   "metadata": {},
   "outputs": [
    {
     "data": {
      "text/plain": [
       "array([False], dtype=object)"
      ]
     },
     "execution_count": 11,
     "metadata": {},
     "output_type": "execute_result"
    }
   ],
   "source": [
    "train_data['MISSING_DATA'].unique()"
   ]
  },
  {
   "cell_type": "markdown",
   "metadata": {},
   "source": [
    "YUP :) \n",
    "\n",
    "No missing polyline values .. "
   ]
  },
  {
   "cell_type": "markdown",
   "metadata": {},
   "source": [
    "\n",
    "### Let's work on Polyline column .."
   ]
  },
  {
   "cell_type": "code",
   "execution_count": 12,
   "metadata": {
    "collapsed": true
   },
   "outputs": [],
   "source": [
    "latlong = np.array([[p[0][1], p[0][0]] for p in df['POLYLINE'] if len(p)>0])"
   ]
  },
  {
   "cell_type": "code",
   "execution_count": 13,
   "metadata": {},
   "outputs": [
    {
     "data": {
      "text/plain": [
       "array([[ 41.154489,  -8.630838],\n",
       "       [ 41.170671,  -8.66574 ],\n",
       "       [ 41.14053 ,  -8.61597 ],\n",
       "       ..., \n",
       "       [ 41.158755,  -8.627454],\n",
       "       [ 41.173524,  -8.587026],\n",
       "       [ 41.149881,  -8.620893]])"
      ]
     },
     "execution_count": 13,
     "metadata": {},
     "output_type": "execute_result"
    }
   ],
   "source": [
    "latlong"
   ]
  },
  {
   "cell_type": "code",
   "execution_count": 14,
   "metadata": {},
   "outputs": [
    {
     "data": {
      "text/plain": [
       "(1704769, 2)"
      ]
     },
     "execution_count": 14,
     "metadata": {},
     "output_type": "execute_result"
    }
   ],
   "source": [
    "np.shape(latlong)"
   ]
  },
  {
   "cell_type": "markdown",
   "metadata": {},
   "source": [
    "As mentioned above, the latlong column now represents the latitude and longitude of the final distincation of each trip .. \n",
    "\n",
    "Let's cluster to find the most visited places .."
   ]
  },
  {
   "cell_type": "code",
   "execution_count": 15,
   "metadata": {
    "collapsed": true
   },
   "outputs": [],
   "source": [
    "range_n_clusters = [3]"
   ]
  },
  {
   "cell_type": "code",
   "execution_count": 16,
   "metadata": {},
   "outputs": [
    {
     "name": "stdout",
     "output_type": "stream",
     "text": [
      "Initialization complete\n",
      "Initialization complete\n",
      "Initialization complete\n",
      "Initialization complete\n",
      "Iteration  0, inertia 6852.329\n",
      "Iteration  0, inertia 5951.670\n",
      "Iteration  0, inertia 5241.570\n",
      "Iteration  0, inertia 8910.705\n",
      "Iteration  1, inertia 5212.121\n",
      "Converged at iteration 1\n",
      "Iteration  1, inertia 5212.121\n",
      "Converged at iteration 1\n",
      "Iteration  1, inertia 8217.702\n",
      "Iteration  1, inertia 4778.855\n",
      "Iteration  2, inertia 8182.898\n",
      "Iteration  2, inertia 4757.567\n",
      "Iteration  3, inertia 4754.498\n",
      "Iteration  3, inertia 8169.453\n",
      "Iteration  4, inertia 4754.005\n",
      "Converged at iteration 4\n",
      "Iteration  4, inertia 8167.104\n",
      "Iteration  5, inertia 8166.059\n",
      "Iteration  6, inertia 8164.529\n",
      "Iteration  7, inertia 8164.078\n",
      "Converged at iteration 7\n",
      "Initialization complete\n",
      "Initialization complete\n",
      "Iteration  0, inertia 6429.042\n",
      "Initialization complete\n",
      "Initialization complete\n",
      "Iteration  0, inertia 5274.252\n",
      "Iteration  1, inertia 5410.245\n",
      "Iteration  0, inertia 5207.178\n",
      "Iteration  0, inertia 7369.318\n",
      "Iteration  1, inertia 4792.131\n",
      "Iteration  2, inertia 5410.085\n",
      "Iteration  1, inertia 4829.818\n",
      "Iteration  1, inertia 4830.072\n",
      "Iteration  2, inertia 4755.553\n",
      "Iteration  3, inertia 5409.927\n",
      "Iteration  2, inertia 4786.237\n",
      "Iteration  2, inertia 4787.520\n",
      "Iteration  3, inertia 4754.049\n",
      "Converged at iteration 3\n",
      "Iteration  3, inertia 4763.727\n",
      "Iteration  4, inertia 5409.825\n",
      "Iteration  3, inertia 4764.067\n",
      "Iteration  5, inertia 5409.813\n",
      "Iteration  4, inertia 4755.688\n",
      "Iteration  4, inertia 4755.733\n",
      "Initialization complete\n",
      "Iteration  5, inertia 4754.270\n",
      "Iteration  5, inertia 4754.275\n",
      "Iteration  6, inertia 5409.809\n",
      "Converged at iteration 6\n",
      "Iteration  0, inertia 4897.392\n",
      "Iteration  6, inertia 4753.952\n",
      "Converged at iteration 6\n",
      "Iteration  6, inertia 4753.951\n",
      "Converged at iteration 6\n",
      "Iteration  1, inertia 4761.823\n",
      "Initialization complete\n",
      "Iteration  2, inertia 4755.470\n",
      "Iteration  0, inertia 4976.636\n",
      "Iteration  3, inertia 4754.417\n",
      "Iteration  1, inertia 4767.637\n",
      "Iteration  4, inertia 4754.075\n",
      "Converged at iteration 4\n",
      "Iteration  2, inertia 4755.888\n",
      "Iteration  3, inertia 4754.573\n",
      "Iteration  4, inertia 4754.126\n",
      "Converged at iteration 4\n"
     ]
    }
   ],
   "source": [
    "for n_clusters in range_n_clusters:    \n",
    "    clusterer = KMeans(n_clusters=n_clusters, verbose =1, n_jobs = -1).fit(latlong)\n",
    "    cluster_labels = clusterer.labels_\n",
    "    silhouette_avg = silhouette_score(latlong, cluster_labels, sample_size = 10000)\n",
    "    # The Silhouette Coefficient is calculated using the mean intra-cluster distance and the mean nearest-cluster distance for each sample."
   ]
  },
  {
   "cell_type": "code",
   "execution_count": 17,
   "metadata": {},
   "outputs": [
    {
     "name": "stdout",
     "output_type": "stream",
     "text": [
      "('For n_clusters = ', 3, ' The average silhouette_score is : ', 0.46287590332722067)\n"
     ]
    }
   ],
   "source": [
    "print(\"For n_clusters = \", n_clusters,\" The average silhouette_score is : \", silhouette_avg)"
   ]
  },
  {
   "cell_type": "markdown",
   "metadata": {},
   "source": [
    "It seems that the average distance between the 3 clusters is high !.. \n",
    "\n",
    "Let's plot heatmap for better visualization .. "
   ]
  },
  {
   "cell_type": "code",
   "execution_count": 18,
   "metadata": {
    "collapsed": true
   },
   "outputs": [],
   "source": [
    "bins = 1000\n",
    "lat_min, lat_max = 41.04961, 41.24961\n",
    "lon_min, lon_max = -8.71099, -8.51099"
   ]
  },
  {
   "cell_type": "markdown",
   "metadata": {},
   "source": [
    "Note that the coordinates of porto are [41.1496100, -8.6109900] .. this means that the above lat_min and max and lon_min and max are chosen randomly just to dominate the coordinates of porto .. "
   ]
  },
  {
   "cell_type": "code",
   "execution_count": 19,
   "metadata": {
    "collapsed": true
   },
   "outputs": [],
   "source": [
    "# process data in chunks to avoid using too much memory\n",
    "z = np.zeros((bins, bins))"
   ]
  },
  {
   "cell_type": "code",
   "execution_count": 20,
   "metadata": {},
   "outputs": [
    {
     "data": {
      "image/png": "[encoded data removed]",
      "text/plain": [
       "<matplotlib.figure.Figure at 0x7f341ddde910>"
      ]
     },
     "metadata": {},
     "output_type": "display_data"
    }
   ],
   "source": [
    "plt.figure(figsize = (11,7))\n",
    "\n",
    "for chunk in df:\n",
    "    z += np.histogram2d(*latlong.T, bins=bins, range=[[lat_min, lat_max], [lon_min, lon_max]])[0]\n",
    "    log_density = np.log(1+z)\n",
    "    plt.imshow(log_density[::-1,:], extent=[lat_min, lat_max, lon_min, lon_max]) # flip vertically"
   ]
  },
  {
   "cell_type": "markdown",
   "metadata": {},
   "source": [
    "The heatmap shows that the hottest visited places are those in the middle .. around 41.15 latitude and -8.63 to around -8.58 longitude ..  "
   ]
  },
  {
   "cell_type": "markdown",
   "metadata": {},
   "source": [
    "## Let's manipulate missing data:\n",
    "\n",
    "As we already have huge number of missing points .. we could not ignore their effect ! .. \n",
    "\n",
    "let's fill them by the mean values .. cause we are dealing with numerical variables .. \n",
    "\n",
    "Only ORIGIN_CALL and ORIGIN_STAND have missing values .. \n",
    "\n",
    "thus, before filling them with the mean value of the whole column .. \n",
    "\n",
    "The point is that it makes sense for those variables to have null values .. i.e. the ORIGIN_STAND is null whenever the CALL_TYPE is any value rather than B .. \n",
    "\n",
    "Hence, let's check if there is any relationship between those variables .. or if we can cluster them and fill their cells by the mean of its corresponding cluster !"
   ]
  },
  {
   "cell_type": "code",
   "execution_count": 21,
   "metadata": {},
   "outputs": [
    {
     "data": {
      "text/plain": [
       "<matplotlib.axes._subplots.AxesSubplot at 0x7f3414752290>"
      ]
     },
     "execution_count": 21,
     "metadata": {},
     "output_type": "execute_result"
    },
    {
     "data": {
      "image/png": "[encoded data removed]",
      "text/plain": [
       "<matplotlib.figure.Figure at 0x7f341ddd1e90>"
      ]
     },
     "metadata": {},
     "output_type": "display_data"
    }
   ],
   "source": [
    "corr = df.corr()\n",
    "sns.heatmap(corr, xticklabels=corr.columns.values, yticklabels=corr.columns.values)"
   ]
  },
  {
   "cell_type": "code",
   "execution_count": 22,
   "metadata": {},
   "outputs": [
    {
     "data": {
      "text/plain": [
       "array([[ 1.        , -0.00298254, -0.00298254,         nan,         nan],\n",
       "       [-0.00298254,  1.        ,  1.        ,         nan,         nan],\n",
       "       [-0.00298254,  1.        ,  1.        ,         nan,         nan],\n",
       "       [        nan,         nan,         nan,         nan,         nan],\n",
       "       [        nan,         nan,         nan,         nan,         nan]])"
      ]
     },
     "execution_count": 22,
     "metadata": {},
     "output_type": "execute_result"
    }
   ],
   "source": [
    "np.corrcoef([df.TAXI_ID, df.TIMESTAMP, df.TRIP_ID, df.ORIGIN_CALL, df.ORIGIN_STAND])"
   ]
  },
  {
   "cell_type": "markdown",
   "metadata": {},
   "source": [
    "The above plot is a heatmap that demonestrates the correlation between the numerical variables .. \n",
    "\n",
    "It shows that there is no strong correlation between those variables except (Taxi_ID and TIME_STAMP) that is a Unix Timestamp (in seconds), it identifies the trip’s start .. \n",
    "\n",
    "I think this strong correlation is intuitive cause it makes sense for every taxo to have a time for its correponding stip start time .. \n",
    "\n",
    "The numerical correlation matrix assures the information extracted from the heatmap .. "
   ]
  },
  {
   "cell_type": "markdown",
   "metadata": {},
   "source": [
    "mmmm .. \n",
    "\n",
    "Well, let's check if there is a relationship between the ORIGIN_CALL, ORIGIN_STAND and CALL_TYPE .. "
   ]
  },
  {
   "cell_type": "code",
   "execution_count": 65,
   "metadata": {},
   "outputs": [
    {
     "data": {
      "text/plain": [
       "B    658157\n",
       "C    416399\n",
       "A    293980\n",
       "Name: CALL_TYPE, dtype: int64"
      ]
     },
     "execution_count": 65,
     "metadata": {},
     "output_type": "execute_result"
    }
   ],
   "source": [
    "## CALL_TYPE ..\n",
    "train_data['CALL_TYPE'].value_counts()"
   ]
  },
  {
   "cell_type": "code",
   "execution_count": 66,
   "metadata": {},
   "outputs": [
    {
     "data": {
      "text/plain": [
       "<matplotlib.text.Text at 0x7f33df1782d0>"
      ]
     },
     "execution_count": 66,
     "metadata": {},
     "output_type": "execute_result"
    },
    {
     "data": {
      "image/png": "[encoded data removed]",
      "text/plain": [
       "<matplotlib.figure.Figure at 0x7f341ddd1e10>"
      ]
     },
     "metadata": {},
     "output_type": "display_data"
    }
   ],
   "source": [
    "df.CALL_TYPE.value_counts().plot(kind='bar')\n",
    "plt.xlabel(\"Call Type\")\n",
    "plt.ylabel(\"Number of Calls\")"
   ]
  },
  {
   "cell_type": "markdown",
   "metadata": {},
   "source": [
    "There is no huge gap between the number of calls stems from each source .. however, the maximum number of call comes from B ..  that indicates that this trip was demanded directly to a taxi driver on a specific stand .."
   ]
  },
  {
   "cell_type": "code",
   "execution_count": 67,
   "metadata": {},
   "outputs": [
    {
     "data": {
      "text/plain": [
       "15    64560\n",
       "57    39944\n",
       "9     28479\n",
       "33    27802\n",
       "23    27159\n",
       "Name: ORIGIN_STAND, dtype: int64"
      ]
     },
     "execution_count": 67,
     "metadata": {},
     "output_type": "execute_result"
    }
   ],
   "source": [
    "train_data['ORIGIN_STAND'].value_counts().head()"
   ]
  },
  {
   "cell_type": "markdown",
   "metadata": {},
   "source": [
    "The majority of the calls comes from stand number 15 (ORIGIN_STAND contains an unique identifier for the taxi stand. It identifies the starting point of the trip if CALL_TYPE = ’B’. Otherwise, it assumes a NULL value)\n",
    "\n"
   ]
  },
  {
   "cell_type": "code",
   "execution_count": 68,
   "metadata": {},
   "outputs": [
    {
     "data": {
      "text/plain": [
       "2002     45274\n",
       "63882     5306\n",
       "2001      2137\n",
       "13168     1072\n",
       "6728       883\n",
       "Name: ORIGIN_CALL, dtype: int64"
      ]
     },
     "execution_count": 68,
     "metadata": {},
     "output_type": "execute_result"
    }
   ],
   "source": [
    "train_data['ORIGIN_CALL'].value_counts().head()"
   ]
  },
  {
   "cell_type": "markdown",
   "metadata": {},
   "source": [
    "The majority of the calls comes from the sourse number 2002 (note that this variable contains an unique identifier for each phone number which was used to demand, at least, one service. It identifies the trip’s customer if CALL_TYPE=’A’. Otherwise, it assumes a NULL value)"
   ]
  },
  {
   "cell_type": "markdown",
   "metadata": {},
   "source": [
    "### Conclusion:\n",
    "There has to be an implecit relationship between these three variables .. if CALL_TYPE = 'B' ORIGIN_STAND has to take value .. If it is set to 'A' ORIGIN_CALL has to take value .. else, it is expected to be 'C' which means that the trip is demanded on a random street ..\n",
    "\n",
    "Let's group the data in both ORIGIN_STAND and ORIGIN_CALL based on CALL_TYPE to be able to impute the missing values with the median (to avoid biasness as the data as +ve skewed) correponding to each CALL_TYPE .. "
   ]
  },
  {
   "cell_type": "code",
   "execution_count": 9,
   "metadata": {},
   "outputs": [
    {
     "data": {
      "text/plain": [
       "array([[ 27.]])"
      ]
     },
     "execution_count": 9,
     "metadata": {},
     "output_type": "execute_result"
    }
   ],
   "source": [
    "stand = train_data.loc[train_data.ORIGIN_STAND.notnull(), :].groupby(\"CALL_TYPE\").agg({\"ORIGIN_STAND\":{\"Median_Stand\":np.median}})\n",
    "stand.values  # as stand now is a data dict"
   ]
  },
  {
   "cell_type": "code",
   "execution_count": 10,
   "metadata": {},
   "outputs": [
    {
     "data": {
      "text/plain": [
       "CALL_TYPE\n",
       "A         NaN\n",
       "B    19599671\n",
       "C         NaN\n",
       "Name: ORIGIN_STAND, dtype: float64"
      ]
     },
     "execution_count": 10,
     "metadata": {},
     "output_type": "execute_result"
    }
   ],
   "source": [
    "train_data.groupby(['CALL_TYPE'])['ORIGIN_STAND'].agg('sum')"
   ]
  },
  {
   "cell_type": "markdown",
   "metadata": {},
   "source": [
    "This assures the info. that the call type B comes only from origin_stand .. \n",
    "\n",
    "hence, let's safely replace any NA in origin_stand with the median of that column (i.e. 27)"
   ]
  },
  {
   "cell_type": "code",
   "execution_count": 11,
   "metadata": {
    "collapsed": true
   },
   "outputs": [],
   "source": [
    "train_data['ORIGIN_STAND'].fillna(train_data['ORIGIN_STAND'].mean(), inplace = True)"
   ]
  },
  {
   "cell_type": "code",
   "execution_count": 12,
   "metadata": {},
   "outputs": [
    {
     "data": {
      "text/plain": [
       "False"
      ]
     },
     "execution_count": 12,
     "metadata": {},
     "output_type": "execute_result"
    }
   ],
   "source": [
    "## let's check if it works well .. \n",
    "train_data['ORIGIN_STAND'].isnull().any().any()"
   ]
  },
  {
   "cell_type": "markdown",
   "metadata": {},
   "source": [
    "Great .. these is no NAs in ORIGIN_STAND so far .. \n",
    "\n",
    "Let's do the same with ORIGIN_CALL .. "
   ]
  },
  {
   "cell_type": "code",
   "execution_count": 13,
   "metadata": {},
   "outputs": [
    {
     "data": {
      "text/plain": [
       "array([[ 18723.]])"
      ]
     },
     "execution_count": 13,
     "metadata": {},
     "output_type": "execute_result"
    }
   ],
   "source": [
    "call = train_data.loc[train_data.ORIGIN_CALL.notnull(), :].groupby(\"CALL_TYPE\").agg({\"ORIGIN_CALL\":{\"Median_Call\":np.median}})\n",
    "call.values  # as stand now is a data dict"
   ]
  },
  {
   "cell_type": "code",
   "execution_count": 14,
   "metadata": {
    "collapsed": true
   },
   "outputs": [],
   "source": [
    "train_data['ORIGIN_CALL'].fillna(train_data['ORIGIN_CALL'].mean(), inplace = True)"
   ]
  },
  {
   "cell_type": "code",
   "execution_count": 15,
   "metadata": {},
   "outputs": [
    {
     "data": {
      "text/plain": [
       "False"
      ]
     },
     "execution_count": 15,
     "metadata": {},
     "output_type": "execute_result"
    }
   ],
   "source": [
    "## let's check if it works well .. \n",
    "train_data['ORIGIN_CALL'].isnull().any().any()"
   ]
  },
  {
   "cell_type": "markdown",
   "metadata": {},
   "source": [
    "It works well (y)"
   ]
  },
  {
   "cell_type": "markdown",
   "metadata": {},
   "source": [
    "## Checking DAY_TYPE column: \n",
    "\n",
    "Let's check day_type column alittle bit colser and test its relationship with other variables ..  "
   ]
  },
  {
   "cell_type": "code",
   "execution_count": 34,
   "metadata": {},
   "outputs": [
    {
     "data": {
      "text/plain": [
       "A    1710670\n",
       "Name: DAY_TYPE, dtype: int64"
      ]
     },
     "execution_count": 34,
     "metadata": {},
     "output_type": "execute_result"
    }
   ],
   "source": [
    "df['DAY_TYPE'].value_counts()"
   ]
  },
  {
   "cell_type": "code",
   "execution_count": 35,
   "metadata": {},
   "outputs": [
    {
     "data": {
      "text/plain": [
       "count     1710670\n",
       "unique          1\n",
       "top             A\n",
       "freq      1710670\n",
       "Name: DAY_TYPE, dtype: object"
      ]
     },
     "execution_count": 35,
     "metadata": {},
     "output_type": "execute_result"
    }
   ],
   "source": [
    "df['DAY_TYPE'].describe()"
   ]
  },
  {
   "cell_type": "markdown",
   "metadata": {},
   "source": [
    "mmmm .. it might be strange for that column to have only A values .. this means that all the calls where in a normal day, workday or weekend .. \n",
    "\n",
    "This might be becuase we are only working on a sample data from the available training set .. hence, the rest of the data might contains other values ..  \n",
    "\n",
    "## Manipulate the char variables:\n",
    "convert characters of CALL_TYPE and DAY_TYPE to integers to be able to utilize them in upcoming stages .. "
   ]
  },
  {
   "cell_type": "code",
   "execution_count": 16,
   "metadata": {},
   "outputs": [
    {
     "data": {
      "text/plain": [
       "0    0\n",
       "1    0\n",
       "2    0\n",
       "3    0\n",
       "4    0\n",
       "Name: CALL_TYPE, dtype: float64"
      ]
     },
     "execution_count": 16,
     "metadata": {},
     "output_type": "execute_result"
    }
   ],
   "source": [
    "train_data['CALL_TYPE'] = pd.get_dummies(train_data['CALL_TYPE'])\n",
    "train_data['CALL_TYPE'].head()"
   ]
  },
  {
   "cell_type": "code",
   "execution_count": 17,
   "metadata": {},
   "outputs": [
    {
     "data": {
      "text/plain": [
       "0    1\n",
       "1    1\n",
       "2    1\n",
       "3    1\n",
       "4    1\n",
       "Name: DAY_TYPE, dtype: float64"
      ]
     },
     "execution_count": 17,
     "metadata": {},
     "output_type": "execute_result"
    }
   ],
   "source": [
    "train_data['DAY_TYPE'] = pd.get_dummies(train_data['DAY_TYPE'])\n",
    "train_data['DAY_TYPE'].head()"
   ]
  },
  {
   "cell_type": "markdown",
   "metadata": {},
   "source": [
    "## Feature Selection:\n",
    "\n",
    "Let's select only the most signigifant variables for the prediction task (i.e. Missing_values expected to be insignificant as it only tells whether the predictor values are missing or not) ! "
   ]
  },
  {
   "cell_type": "code",
   "execution_count": 18,
   "metadata": {},
   "outputs": [
    {
     "data": {
      "text/plain": [
       "SelectKBest(k=4, score_func=<function chi2 at 0x7fae77f72de8>)"
      ]
     },
     "execution_count": 18,
     "metadata": {},
     "output_type": "execute_result"
    }
   ],
   "source": [
    "test = SelectKBest(score_func=chi2, k=4)\n",
    "test"
   ]
  },
  {
   "cell_type": "code",
   "execution_count": 19,
   "metadata": {},
   "outputs": [
    {
     "data": {
      "text/html": [
       "<div>\n",
       "<table border=\"1\" class=\"dataframe\">\n",
       "  <thead>\n",
       "    <tr style=\"text-align: right;\">\n",
       "      <th></th>\n",
       "      <th>TRIP_ID</th>\n",
       "      <th>CALL_TYPE</th>\n",
       "      <th>ORIGIN_CALL</th>\n",
       "      <th>ORIGIN_STAND</th>\n",
       "      <th>TAXI_ID</th>\n",
       "      <th>TIMESTAMP</th>\n",
       "      <th>DAY_TYPE</th>\n",
       "      <th>MISSING_DATA</th>\n",
       "      <th>POLYLINE</th>\n",
       "      <th>LATITUDE</th>\n",
       "      <th>LONGITUDE</th>\n",
       "    </tr>\n",
       "  </thead>\n",
       "  <tbody>\n",
       "    <tr>\n",
       "      <th>0</th>\n",
       "      <td>1372636858620000589</td>\n",
       "      <td>0</td>\n",
       "      <td>24491.167967</td>\n",
       "      <td>30.172</td>\n",
       "      <td>20000589</td>\n",
       "      <td>1372636858</td>\n",
       "      <td>1</td>\n",
       "      <td>False</td>\n",
       "      <td>[[-8.630838, 41.154489]]</td>\n",
       "      <td>41.154489</td>\n",
       "      <td>-8.630838</td>\n",
       "    </tr>\n",
       "    <tr>\n",
       "      <th>1</th>\n",
       "      <td>1372637303620000596</td>\n",
       "      <td>0</td>\n",
       "      <td>24491.167967</td>\n",
       "      <td>7.000</td>\n",
       "      <td>20000596</td>\n",
       "      <td>1372637303</td>\n",
       "      <td>1</td>\n",
       "      <td>False</td>\n",
       "      <td>[[-8.66574, 41.170671]]</td>\n",
       "      <td>41.170671</td>\n",
       "      <td>-8.665740</td>\n",
       "    </tr>\n",
       "    <tr>\n",
       "      <th>2</th>\n",
       "      <td>1372636951620000320</td>\n",
       "      <td>0</td>\n",
       "      <td>24491.167967</td>\n",
       "      <td>30.172</td>\n",
       "      <td>20000320</td>\n",
       "      <td>1372636951</td>\n",
       "      <td>1</td>\n",
       "      <td>False</td>\n",
       "      <td>[[-8.61597, 41.14053]]</td>\n",
       "      <td>41.140530</td>\n",
       "      <td>-8.615970</td>\n",
       "    </tr>\n",
       "    <tr>\n",
       "      <th>3</th>\n",
       "      <td>1372636854620000520</td>\n",
       "      <td>0</td>\n",
       "      <td>24491.167967</td>\n",
       "      <td>30.172</td>\n",
       "      <td>20000520</td>\n",
       "      <td>1372636854</td>\n",
       "      <td>1</td>\n",
       "      <td>False</td>\n",
       "      <td>[[-8.607996, 41.142915]]</td>\n",
       "      <td>41.142915</td>\n",
       "      <td>-8.607996</td>\n",
       "    </tr>\n",
       "    <tr>\n",
       "      <th>4</th>\n",
       "      <td>1372637091620000337</td>\n",
       "      <td>0</td>\n",
       "      <td>24491.167967</td>\n",
       "      <td>30.172</td>\n",
       "      <td>20000337</td>\n",
       "      <td>1372637091</td>\n",
       "      <td>1</td>\n",
       "      <td>False</td>\n",
       "      <td>[[-8.687268, 41.178087]]</td>\n",
       "      <td>41.178087</td>\n",
       "      <td>-8.687268</td>\n",
       "    </tr>\n",
       "  </tbody>\n",
       "</table>\n",
       "</div>"
      ],
      "text/plain": [
       "               TRIP_ID  CALL_TYPE   ORIGIN_CALL  ORIGIN_STAND   TAXI_ID  \\\n",
       "0  1372636858620000589          0  24491.167967        30.172  20000589   \n",
       "1  1372637303620000596          0  24491.167967         7.000  20000596   \n",
       "2  1372636951620000320          0  24491.167967        30.172  20000320   \n",
       "3  1372636854620000520          0  24491.167967        30.172  20000520   \n",
       "4  1372637091620000337          0  24491.167967        30.172  20000337   \n",
       "\n",
       "    TIMESTAMP  DAY_TYPE MISSING_DATA                  POLYLINE   LATITUDE  \\\n",
       "0  1372636858         1        False  [[-8.630838, 41.154489]]  41.154489   \n",
       "1  1372637303         1        False   [[-8.66574, 41.170671]]  41.170671   \n",
       "2  1372636951         1        False    [[-8.61597, 41.14053]]  41.140530   \n",
       "3  1372636854         1        False  [[-8.607996, 41.142915]]  41.142915   \n",
       "4  1372637091         1        False  [[-8.687268, 41.178087]]  41.178087   \n",
       "\n",
       "   LONGITUDE  \n",
       "0  -8.630838  \n",
       "1  -8.665740  \n",
       "2  -8.615970  \n",
       "3  -8.607996  \n",
       "4  -8.687268  "
      ]
     },
     "execution_count": 19,
     "metadata": {},
     "output_type": "execute_result"
    }
   ],
   "source": [
    "train_data.head()"
   ]
  },
  {
   "cell_type": "code",
   "execution_count": 20,
   "metadata": {
    "collapsed": true
   },
   "outputs": [],
   "source": [
    "X = train_data.loc[:, train_data.columns != 'POLYLINE']  ## set of independent variables \n",
    "Y = train_data.loc[:, train_data.columns == 'POLYLINE'] ## dependent variable"
   ]
  },
  {
   "cell_type": "markdown",
   "metadata": {},
   "source": [
    "## 1. VarianceThreshold Method: "
   ]
  },
  {
   "cell_type": "code",
   "execution_count": null,
   "metadata": {},
   "outputs": [],
   "source": [
    "sel = VarianceThreshold(threshold=(.8 * (1 - .8)))\n",
    "selected = sel.fit_transform(X)\n",
    "np.shape(selected)"
   ]
  },
  {
   "cell_type": "markdown",
   "metadata": {},
   "source": [
    "The means that the model has selected only 6 features out of 8 for the prediction task .. \n",
    "\n",
    "Those selected features have the lowest varience .. \n",
    "\n",
    "Let's try another feature selection model (i.e. PCA) to check the results .. "
   ]
  },
  {
   "cell_type": "markdown",
   "metadata": {},
   "source": [
    "## Prediction: \n",
    "\n",
    "Let's perfrom prediction task to predict the final distination for each trip (first of all on training data) ..\n",
    "\n",
    "This distination is defined by longitude and latitude .. hence, the prediction task will be performed twice .. to capture both .."
   ]
  },
  {
   "cell_type": "code",
   "execution_count": 22,
   "metadata": {},
   "outputs": [
    {
     "data": {
      "text/html": [
       "<div>\n",
       "<table border=\"1\" class=\"dataframe\">\n",
       "  <thead>\n",
       "    <tr style=\"text-align: right;\">\n",
       "      <th></th>\n",
       "      <th>TRIP_ID</th>\n",
       "      <th>CALL_TYPE</th>\n",
       "      <th>ORIGIN_CALL</th>\n",
       "      <th>ORIGIN_STAND</th>\n",
       "      <th>TAXI_ID</th>\n",
       "      <th>TIMESTAMP</th>\n",
       "      <th>DAY_TYPE</th>\n",
       "      <th>MISSING_DATA</th>\n",
       "    </tr>\n",
       "  </thead>\n",
       "  <tbody>\n",
       "    <tr>\n",
       "      <th>0</th>\n",
       "      <td>1372636858620000589</td>\n",
       "      <td>0</td>\n",
       "      <td>24491.167967</td>\n",
       "      <td>30.172</td>\n",
       "      <td>20000589</td>\n",
       "      <td>1372636858</td>\n",
       "      <td>1</td>\n",
       "      <td>False</td>\n",
       "    </tr>\n",
       "    <tr>\n",
       "      <th>1</th>\n",
       "      <td>1372637303620000596</td>\n",
       "      <td>0</td>\n",
       "      <td>24491.167967</td>\n",
       "      <td>7.000</td>\n",
       "      <td>20000596</td>\n",
       "      <td>1372637303</td>\n",
       "      <td>1</td>\n",
       "      <td>False</td>\n",
       "    </tr>\n",
       "    <tr>\n",
       "      <th>2</th>\n",
       "      <td>1372636951620000320</td>\n",
       "      <td>0</td>\n",
       "      <td>24491.167967</td>\n",
       "      <td>30.172</td>\n",
       "      <td>20000320</td>\n",
       "      <td>1372636951</td>\n",
       "      <td>1</td>\n",
       "      <td>False</td>\n",
       "    </tr>\n",
       "    <tr>\n",
       "      <th>3</th>\n",
       "      <td>1372636854620000520</td>\n",
       "      <td>0</td>\n",
       "      <td>24491.167967</td>\n",
       "      <td>30.172</td>\n",
       "      <td>20000520</td>\n",
       "      <td>1372636854</td>\n",
       "      <td>1</td>\n",
       "      <td>False</td>\n",
       "    </tr>\n",
       "    <tr>\n",
       "      <th>4</th>\n",
       "      <td>1372637091620000337</td>\n",
       "      <td>0</td>\n",
       "      <td>24491.167967</td>\n",
       "      <td>30.172</td>\n",
       "      <td>20000337</td>\n",
       "      <td>1372637091</td>\n",
       "      <td>1</td>\n",
       "      <td>False</td>\n",
       "    </tr>\n",
       "  </tbody>\n",
       "</table>\n",
       "</div>"
      ],
      "text/plain": [
       "               TRIP_ID  CALL_TYPE   ORIGIN_CALL  ORIGIN_STAND   TAXI_ID  \\\n",
       "0  1372636858620000589          0  24491.167967        30.172  20000589   \n",
       "1  1372637303620000596          0  24491.167967         7.000  20000596   \n",
       "2  1372636951620000320          0  24491.167967        30.172  20000320   \n",
       "3  1372636854620000520          0  24491.167967        30.172  20000520   \n",
       "4  1372637091620000337          0  24491.167967        30.172  20000337   \n",
       "\n",
       "    TIMESTAMP  DAY_TYPE MISSING_DATA  \n",
       "0  1372636858         1        False  \n",
       "1  1372637303         1        False  \n",
       "2  1372636951         1        False  \n",
       "3  1372636854         1        False  \n",
       "4  1372637091         1        False  "
      ]
     },
     "execution_count": 22,
     "metadata": {},
     "output_type": "execute_result"
    }
   ],
   "source": [
    "X = train_data.drop(['POLYLINE', 'LONGITUDE', 'LATITUDE'], axis=1)\n",
    "X.head()"
   ]
  },
  {
   "cell_type": "code",
   "execution_count": 23,
   "metadata": {},
   "outputs": [
    {
     "data": {
      "text/plain": [
       "TRIP_ID         False\n",
       "CALL_TYPE       False\n",
       "ORIGIN_CALL     False\n",
       "ORIGIN_STAND    False\n",
       "TAXI_ID         False\n",
       "TIMESTAMP       False\n",
       "DAY_TYPE        False\n",
       "MISSING_DATA    False\n",
       "POLYLINE        False\n",
       "LATITUDE         True\n",
       "LONGITUDE        True\n",
       "dtype: bool"
      ]
     },
     "execution_count": 23,
     "metadata": {},
     "output_type": "execute_result"
    }
   ],
   "source": [
    "# from sklearn import linear_model\n",
    "# regr = linear_model.LinearRegression()\n",
    "# regr.fit(X, train_data['LATITUDE'])\n",
    "\n",
    "train_data.isnull().any()"
   ]
  },
  {
   "cell_type": "code",
   "execution_count": null,
   "metadata": {
    "collapsed": true
   },
   "outputs": [],
   "source": []
  }
 ],
 "metadata": {
  "kernelspec": {
   "display_name": "Python 2",
   "language": "python",
   "name": "python2"
  },
  "language_info": {
   "codemirror_mode": {
    "name": "ipython",
    "version": 2
   },
   "file_extension": ".py",
   "mimetype": "text/x-python",
   "name": "python",
   "nbconvert_exporter": "python",
   "pygments_lexer": "ipython2",
   "version": "2.7.12"
  }
 },
 "nbformat": 4,
 "nbformat_minor": 2
}
