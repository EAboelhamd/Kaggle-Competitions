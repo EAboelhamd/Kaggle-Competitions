{
 "cells": [
  {
   "cell_type": "markdown",
   "metadata": {},
   "source": [
    "## Introduction:\n",
    "\n",
    "This document illustrates how to link excel and python capabilities .. \n",
    "link ==> https://github.com/EAboelhamd/StyleFrame"
   ]
  },
  {
   "cell_type": "code",
   "execution_count": 60,
   "metadata": {},
   "outputs": [],
   "source": [
    "import StyleFrame\n",
    "from StyleFrame import StyleFrame\n",
    "from StyleFrame import Styler, utils\n",
    "import pandas as pd\n",
    "from datetime import date"
   ]
  },
  {
   "cell_type": "code",
   "execution_count": 61,
   "metadata": {},
   "outputs": [
    {
     "data": {
      "text/plain": [
       "['Date', 'Col A', 'Col B', 'Col C', 'Percentage']"
      ]
     },
     "execution_count": 61,
     "metadata": {},
     "output_type": "execute_result"
    }
   ],
   "source": [
    "columns = ['Date', 'Col A', 'Col B', 'Col C', 'Percentage']\n",
    "columns"
   ]
  },
  {
   "cell_type": "code",
   "execution_count": 62,
   "metadata": {},
   "outputs": [
    {
     "data": {
      "text/html": [
       "<div>\n",
       "<style>\n",
       "    .dataframe thead tr:only-child th {\n",
       "        text-align: right;\n",
       "    }\n",
       "\n",
       "    .dataframe thead th {\n",
       "        text-align: left;\n",
       "    }\n",
       "\n",
       "    .dataframe tbody tr th {\n",
       "        vertical-align: top;\n",
       "    }\n",
       "</style>\n",
       "<table border=\"1\" class=\"dataframe\">\n",
       "  <thead>\n",
       "    <tr style=\"text-align: right;\">\n",
       "      <th></th>\n",
       "      <th>Date</th>\n",
       "      <th>Col A</th>\n",
       "      <th>Col B</th>\n",
       "      <th>Col C</th>\n",
       "      <th>Percentage</th>\n",
       "    </tr>\n",
       "  </thead>\n",
       "  <tbody>\n",
       "    <tr>\n",
       "      <th>0</th>\n",
       "      <td>1995-09-05</td>\n",
       "      <td>1</td>\n",
       "      <td>15</td>\n",
       "      <td>33</td>\n",
       "      <td>0.113</td>\n",
       "    </tr>\n",
       "    <tr>\n",
       "      <th>1</th>\n",
       "      <td>1947-11-29</td>\n",
       "      <td>2004</td>\n",
       "      <td>3</td>\n",
       "      <td>-6</td>\n",
       "      <td>0.504</td>\n",
       "    </tr>\n",
       "    <tr>\n",
       "      <th>2</th>\n",
       "      <td>2000-01-15</td>\n",
       "      <td>-3</td>\n",
       "      <td>116</td>\n",
       "      <td>9</td>\n",
       "      <td>0.005</td>\n",
       "    </tr>\n",
       "  </tbody>\n",
       "</table>\n",
       "</div>"
      ],
      "text/plain": [
       "         Date  Col A  Col B  Col C  Percentage\n",
       "0  1995-09-05      1     15     33       0.113\n",
       "1  1947-11-29   2004      3     -6       0.504\n",
       "2  2000-01-15     -3    116      9       0.005"
      ]
     },
     "execution_count": 62,
     "metadata": {},
     "output_type": "execute_result"
    }
   ],
   "source": [
    "df = pd.DataFrame(data={'Date': [date(1995, 9, 5), date(1947, 11, 29), date(2000, 1, 15)],\n",
    "                        'Col A': [1, 2004, -3],\n",
    "                        'Col B': [15, 3, 116],\n",
    "                        'Col C': [33, -6, 9],\n",
    "                        'Percentage': [0.113, 0.504, 0.005]},\n",
    "                  columns=columns)\n",
    "\n",
    "df"
   ]
  },
  {
   "cell_type": "code",
   "execution_count": 63,
   "metadata": {},
   "outputs": [
    {
     "data": {
      "text/html": [
       "<div>\n",
       "<style>\n",
       "    .dataframe thead tr:only-child th {\n",
       "        text-align: right;\n",
       "    }\n",
       "\n",
       "    .dataframe thead th {\n",
       "        text-align: left;\n",
       "    }\n",
       "\n",
       "    .dataframe tbody tr th {\n",
       "        vertical-align: top;\n",
       "    }\n",
       "</style>\n",
       "<table border=\"1\" class=\"dataframe\">\n",
       "  <thead>\n",
       "    <tr style=\"text-align: right;\">\n",
       "      <th></th>\n",
       "      <th>Col A</th>\n",
       "      <th>Col B</th>\n",
       "      <th>Col C</th>\n",
       "    </tr>\n",
       "  </thead>\n",
       "  <tbody>\n",
       "    <tr>\n",
       "      <th>0</th>\n",
       "      <td>1</td>\n",
       "      <td>15</td>\n",
       "      <td>33</td>\n",
       "    </tr>\n",
       "    <tr>\n",
       "      <th>1</th>\n",
       "      <td>2004</td>\n",
       "      <td>3</td>\n",
       "      <td>-6</td>\n",
       "    </tr>\n",
       "    <tr>\n",
       "      <th>2</th>\n",
       "      <td>-3</td>\n",
       "      <td>116</td>\n",
       "      <td>9</td>\n",
       "    </tr>\n",
       "  </tbody>\n",
       "</table>\n",
       "</div>"
      ],
      "text/plain": [
       "   Col A  Col B  Col C\n",
       "0      1     15     33\n",
       "1   2004      3     -6\n",
       "2     -3    116      9"
      ]
     },
     "execution_count": 63,
     "metadata": {},
     "output_type": "execute_result"
    }
   ],
   "source": [
    "only_values_df = df[columns[1:-1]]\n",
    "only_values_df"
   ]
  },
  {
   "cell_type": "code",
   "execution_count": 64,
   "metadata": {},
   "outputs": [
    {
     "data": {
      "text/plain": [
       "0    Col C\n",
       "1    Col A\n",
       "2    Col B\n",
       "dtype: object"
      ]
     },
     "execution_count": 64,
     "metadata": {},
     "output_type": "execute_result"
    }
   ],
   "source": [
    "rows_max_value = only_values_df.idxmax(axis=1)\n",
    "rows_max_value"
   ]
  },
  {
   "cell_type": "code",
   "execution_count": 65,
   "metadata": {},
   "outputs": [
    {
     "data": {
      "text/html": [
       "<div>\n",
       "<style>\n",
       "    .dataframe thead tr:only-child th {\n",
       "        text-align: right;\n",
       "    }\n",
       "\n",
       "    .dataframe thead th {\n",
       "        text-align: left;\n",
       "    }\n",
       "\n",
       "    .dataframe tbody tr th {\n",
       "        vertical-align: top;\n",
       "    }\n",
       "</style>\n",
       "<table border=\"1\" class=\"dataframe\">\n",
       "  <thead>\n",
       "    <tr style=\"text-align: right;\">\n",
       "      <th></th>\n",
       "      <th>Date</th>\n",
       "      <th>Col A</th>\n",
       "      <th>Col B</th>\n",
       "      <th>Col C</th>\n",
       "      <th>Percentage</th>\n",
       "      <th>Sum</th>\n",
       "      <th>Mean</th>\n",
       "    </tr>\n",
       "  </thead>\n",
       "  <tbody>\n",
       "    <tr>\n",
       "      <th>0</th>\n",
       "      <td>1995-09-05</td>\n",
       "      <td>1</td>\n",
       "      <td>15</td>\n",
       "      <td>33</td>\n",
       "      <td>0.113</td>\n",
       "      <td>49</td>\n",
       "      <td>16.333333</td>\n",
       "    </tr>\n",
       "    <tr>\n",
       "      <th>1</th>\n",
       "      <td>1947-11-29</td>\n",
       "      <td>2004</td>\n",
       "      <td>3</td>\n",
       "      <td>-6</td>\n",
       "      <td>0.504</td>\n",
       "      <td>2001</td>\n",
       "      <td>667.000000</td>\n",
       "    </tr>\n",
       "    <tr>\n",
       "      <th>2</th>\n",
       "      <td>2000-01-15</td>\n",
       "      <td>-3</td>\n",
       "      <td>116</td>\n",
       "      <td>9</td>\n",
       "      <td>0.005</td>\n",
       "      <td>122</td>\n",
       "      <td>40.666667</td>\n",
       "    </tr>\n",
       "  </tbody>\n",
       "</table>\n",
       "</div>"
      ],
      "text/plain": [
       "         Date  Col A  Col B  Col C  Percentage   Sum        Mean\n",
       "0  1995-09-05      1     15     33       0.113    49   16.333333\n",
       "1  1947-11-29   2004      3     -6       0.504  2001  667.000000\n",
       "2  2000-01-15     -3    116      9       0.005   122   40.666667"
      ]
     },
     "execution_count": 65,
     "metadata": {},
     "output_type": "execute_result"
    }
   ],
   "source": [
    "df['Sum'] = only_values_df.sum(axis=1)\n",
    "df['Mean'] = only_values_df.mean(axis=1)\n",
    "df"
   ]
  },
  {
   "cell_type": "code",
   "execution_count": 66,
   "metadata": {},
   "outputs": [
    {
     "name": "stderr",
     "output_type": "stream",
     "text": [
      "/usr/local/lib/python2.7/dist-packages/StyleFrame/style_frame.py:102: DeprecationWarning:\n",
      ".ix is deprecated. Please use\n",
      ".loc for label based indexing or\n",
      ".iloc for positional indexing\n",
      "\n",
      "See the documentation here:\n",
      "http://pandas.pydata.org/pandas-docs/stable/indexing.html#ix-indexer-is-deprecated\n"
     ]
    },
    {
     "data": {
      "text/plain": [
       "<StyleFrame.style_frame.StyleFrame at 0x7f7532141190>"
      ]
     },
     "execution_count": 66,
     "metadata": {},
     "output_type": "execute_result"
    }
   ],
   "source": [
    "sf = StyleFrame(df)\n",
    "sf"
   ]
  },
  {
   "cell_type": "code",
   "execution_count": 67,
   "metadata": {},
   "outputs": [
    {
     "name": "stderr",
     "output_type": "stream",
     "text": [
      "/usr/local/lib/python2.7/dist-packages/StyleFrame/style_frame.py:102: DeprecationWarning:\n",
      ".ix is deprecated. Please use\n",
      ".loc for label based indexing or\n",
      ".iloc for positional indexing\n",
      "\n",
      "See the documentation here:\n",
      "http://pandas.pydata.org/pandas-docs/stable/indexing.html#ix-indexer-is-deprecated\n"
     ]
    },
    {
     "data": {
      "text/plain": [
       "<StyleFrame.style_frame.StyleFrame at 0x7f753201f950>"
      ]
     },
     "execution_count": 67,
     "metadata": {},
     "output_type": "execute_result"
    }
   ],
   "source": [
    "sf = StyleFrame({'Date': [date(1995, 9, 5), date(1947, 11, 29), date(2000, 1, 15)],\n",
    "                 'Col A': [1, 2004, -3],\n",
    "                 'Col B': [15, 3, 116],\n",
    "                 'Col C': [33, -6, 9],\n",
    "                 'Percentage': [0.113, 0.504, 0.005]})\n",
    "sf"
   ]
  },
  {
   "cell_type": "code",
   "execution_count": 68,
   "metadata": {},
   "outputs": [
    {
     "data": {
      "text/plain": [
       "<StyleFrame.style_frame.StyleFrame at 0x7f753201f950>"
      ]
     },
     "execution_count": 68,
     "metadata": {},
     "output_type": "execute_result"
    }
   ],
   "source": [
    "sf.set_column_width_dict(col_width_dict={\n",
    "    ('Col A', 'Col B', 'Col C'): 15.3,\n",
    "    ('Sum', 'Mean'): 30,\n",
    "    ('Percentage', ): 12\n",
    "})"
   ]
  },
  {
   "cell_type": "code",
   "execution_count": 69,
   "metadata": {},
   "outputs": [
    {
     "data": {
      "text/plain": [
       "<StyleFrame.style_frame.StyleFrame at 0x7f753201f950>"
      ]
     },
     "execution_count": 69,
     "metadata": {},
     "output_type": "execute_result"
    }
   ],
   "source": [
    "all_rows = sf.row_indexes\n",
    "sf.set_row_height_dict(row_height_dict={\n",
    "    all_rows[0]: 45,  # headers row\n",
    "    all_rows[1:]: 25\n",
    "})"
   ]
  },
  {
   "cell_type": "code",
   "execution_count": 70,
   "metadata": {},
   "outputs": [
    {
     "data": {
      "text/plain": [
       "<StyleFrame.style_frame.StyleFrame at 0x7f753201f950>"
      ]
     },
     "execution_count": 70,
     "metadata": {},
     "output_type": "execute_result"
    }
   ],
   "source": [
    "sf.apply_column_style(cols_to_style='Date',\n",
    "                      styler_obj=Styler(number_format=utils.number_formats.date,\n",
    "                                        font=utils.fonts.calibri,\n",
    "                                        bold=True))"
   ]
  },
  {
   "cell_type": "code",
   "execution_count": 71,
   "metadata": {},
   "outputs": [
    {
     "data": {
      "text/plain": [
       "<StyleFrame.style_frame.StyleFrame at 0x7f753201f950>"
      ]
     },
     "execution_count": 71,
     "metadata": {},
     "output_type": "execute_result"
    }
   ],
   "source": [
    "sf.apply_column_style(cols_to_style='Percentage',\n",
    "                      styler_obj=Styler(number_format=utils.number_formats.percent))"
   ]
  },
  {
   "cell_type": "code",
   "execution_count": 72,
   "metadata": {},
   "outputs": [
    {
     "data": {
      "text/plain": [
       "<StyleFrame.style_frame.StyleFrame at 0x7f753201f950>"
      ]
     },
     "execution_count": 72,
     "metadata": {},
     "output_type": "execute_result"
    }
   ],
   "source": [
    "sf.apply_column_style(cols_to_style=['Col A', 'Col B', 'Col C'],\n",
    "                      styler_obj=Styler(number_format=utils.number_formats.thousands_comma_sep))                     "
   ]
  },
  {
   "cell_type": "code",
   "execution_count": 73,
   "metadata": {},
   "outputs": [
    {
     "data": {
      "text/plain": [
       "Style(font=Font(name='Arial', b=True, sz=12.0, u='double', color=Color(rgb='00FFFFFF', indexed=Value must be type 'long', auto=Value must be type 'bool', theme=Value must be type 'long')), fill=PatternFill(patternType='solid', fgColor=Color(rgb='00FF0000', indexed=Value must be type 'long', auto=Value must be type 'bool', theme=Value must be type 'long')), border=Border(left=Side(style='thin', color=Color(indexed=Value must be type 'long', auto=Value must be type 'bool', theme=Value must be type 'long')), right=Side(style='thin', color=Color(indexed=Value must be type 'long', auto=Value must be type 'bool', theme=Value must be type 'long')), top=Side(style='thin', color=Color(indexed=Value must be type 'long', auto=Value must be type 'bool', theme=Value must be type 'long')), bottom=Side(style='thin', color=Color(indexed=Value must be type 'long', auto=Value must be type 'bool', theme=Value must be type 'long'))), alignment=Alignment(horizontal='center', vertical='center', wrapText=True, shrinkToFit=True), number_format='#,##0')"
      ]
     },
     "execution_count": 73,
     "metadata": {},
     "output_type": "execute_result"
    }
   ],
   "source": [
    "style = Styler(bg_color=utils.colors.red,\n",
    "               bold=True,\n",
    "               font_color=utils.colors.white,\n",
    "               protection=True,\n",
    "               underline=utils.underline.double,\n",
    "               number_format=utils.number_formats.thousands_comma_sep).create_style()\n",
    "style"
   ]
  },
  {
   "cell_type": "code",
   "execution_count": 74,
   "metadata": {},
   "outputs": [
    {
     "data": {
      "text/plain": [
       "<StyleFrame.style_frame.StyleFrame at 0x7f753201f950>"
      ]
     },
     "execution_count": 74,
     "metadata": {},
     "output_type": "execute_result"
    }
   ],
   "source": [
    "for row_index, col_name in rows_max_value.iteritems():\n",
    "    sf[col_name][row_index].style = style\n",
    "sf"
   ]
  },
  {
   "cell_type": "code",
   "execution_count": 75,
   "metadata": {},
   "outputs": [
    {
     "ename": "IndexError",
     "evalue": "column: Sum is out of columns range.",
     "output_type": "error",
     "traceback": [
      "\u001b[0;31m---------------------------------------------------------------------------\u001b[0m",
      "\u001b[0;31mIndexError\u001b[0m                                Traceback (most recent call last)",
      "\u001b[0;32m<ipython-input-75-fa9951548809>\u001b[0m in \u001b[0;36m<module>\u001b[0;34m()\u001b[0m\n\u001b[1;32m      5\u001b[0m             \u001b[0mcolumns_and_rows_to_freeze\u001b[0m\u001b[0;34m=\u001b[0m\u001b[0;34m'B2'\u001b[0m\u001b[0;34m,\u001b[0m \u001b[0;31m# will freeze the rows above 2 (=row 1 only) and columns that before column 'B' (=col A only)\u001b[0m\u001b[0;34m\u001b[0m\u001b[0m\n\u001b[1;32m      6\u001b[0m             \u001b[0mrow_to_add_filters\u001b[0m\u001b[0;34m=\u001b[0m\u001b[0;36m0\u001b[0m\u001b[0;34m,\u001b[0m\u001b[0;34m\u001b[0m\u001b[0m\n\u001b[0;32m----> 7\u001b[0;31m             allow_protection=True)\n\u001b[0m",
      "\u001b[0;32m/usr/local/lib/python2.7/dist-packages/StyleFrame/style_frame.pyc\u001b[0m in \u001b[0;36mto_excel\u001b[0;34m(self, excel_writer, sheet_name, na_rep, float_format, columns, header, index, index_label, startrow, startcol, merge_cells, encoding, inf_rep, allow_protection, right_to_left, columns_to_hide, row_to_add_filters, columns_and_rows_to_freeze)\u001b[0m\n\u001b[1;32m    263\u001b[0m \u001b[0;34m\u001b[0m\u001b[0m\n\u001b[1;32m    264\u001b[0m         \u001b[0;32mfor\u001b[0m \u001b[0mcolumn\u001b[0m \u001b[0;32min\u001b[0m \u001b[0mself\u001b[0m\u001b[0;34m.\u001b[0m\u001b[0m_columns_width\u001b[0m\u001b[0;34m:\u001b[0m\u001b[0;34m\u001b[0m\u001b[0m\n\u001b[0;32m--> 265\u001b[0;31m             \u001b[0mcolumn_letter\u001b[0m \u001b[0;34m=\u001b[0m \u001b[0mget_column_as_letter\u001b[0m\u001b[0;34m(\u001b[0m\u001b[0mcolumn_to_convert\u001b[0m\u001b[0;34m=\u001b[0m\u001b[0mcolumn\u001b[0m\u001b[0;34m)\u001b[0m\u001b[0;34m\u001b[0m\u001b[0m\n\u001b[0m\u001b[1;32m    266\u001b[0m             \u001b[0msheet\u001b[0m\u001b[0;34m.\u001b[0m\u001b[0mcolumn_dimensions\u001b[0m\u001b[0;34m[\u001b[0m\u001b[0mcolumn_letter\u001b[0m\u001b[0;34m]\u001b[0m\u001b[0;34m.\u001b[0m\u001b[0mwidth\u001b[0m \u001b[0;34m=\u001b[0m \u001b[0mself\u001b[0m\u001b[0;34m.\u001b[0m\u001b[0m_columns_width\u001b[0m\u001b[0;34m[\u001b[0m\u001b[0mcolumn\u001b[0m\u001b[0;34m]\u001b[0m\u001b[0;34m\u001b[0m\u001b[0m\n\u001b[1;32m    267\u001b[0m \u001b[0;34m\u001b[0m\u001b[0m\n",
      "\u001b[0;32m/usr/local/lib/python2.7/dist-packages/StyleFrame/style_frame.pyc\u001b[0m in \u001b[0;36mget_column_as_letter\u001b[0;34m(column_to_convert)\u001b[0m\n\u001b[1;32m    183\u001b[0m \u001b[0;34m\u001b[0m\u001b[0m\n\u001b[1;32m    184\u001b[0m             \u001b[0;32mif\u001b[0m \u001b[0mcolumn_as_letter\u001b[0m \u001b[0;32mis\u001b[0m \u001b[0mNone\u001b[0m \u001b[0;32mor\u001b[0m \u001b[0mcolumn_as_letter\u001b[0m \u001b[0;32mnot\u001b[0m \u001b[0;32min\u001b[0m \u001b[0msheet\u001b[0m\u001b[0;34m.\u001b[0m\u001b[0mcolumn_dimensions\u001b[0m\u001b[0;34m:\u001b[0m\u001b[0;34m\u001b[0m\u001b[0m\n\u001b[0;32m--> 185\u001b[0;31m                 \u001b[0;32mraise\u001b[0m \u001b[0mIndexError\u001b[0m\u001b[0;34m(\u001b[0m\u001b[0;34m\"column: %s is out of columns range.\"\u001b[0m \u001b[0;34m%\u001b[0m \u001b[0mcolumn_to_convert\u001b[0m\u001b[0;34m)\u001b[0m\u001b[0;34m\u001b[0m\u001b[0m\n\u001b[0m\u001b[1;32m    186\u001b[0m \u001b[0;34m\u001b[0m\u001b[0m\n\u001b[1;32m    187\u001b[0m             \u001b[0;32mreturn\u001b[0m \u001b[0mcolumn_as_letter\u001b[0m\u001b[0;34m\u001b[0m\u001b[0m\n",
      "\u001b[0;31mIndexError\u001b[0m: column: Sum is out of columns range."
     ]
    }
   ],
   "source": [
    "ew = StyleFrame.ExcelWriter('sf tutorial.xlsx')\n",
    "sf.to_excel(excel_writer=ew,\n",
    "            sheet_name='1',\n",
    "            right_to_left=False,\n",
    "            columns_and_rows_to_freeze='B2', # will freeze the rows above 2 (=row 1 only) and columns that before column 'B' (=col A only)\n",
    "            row_to_add_filters=0,\n",
    "            allow_protection=True)"
   ]
  },
  {
   "cell_type": "code",
   "execution_count": null,
   "metadata": {},
   "outputs": [],
   "source": [
    "other_sheet_sf = StyleFrame({'Dates': [date(2016, 10, 20), date(2016, 10, 21), date(2016, 10, 22)]},\n",
    "                            styler_obj=Styler(number_format=utils.number_formats.date))\n",
    "other_sheet_sf"
   ]
  },
  {
   "cell_type": "code",
   "execution_count": null,
   "metadata": {},
   "outputs": [],
   "source": [
    "other_sheet_sf.to_excel(excel_writer=ew, sheet_name='2')"
   ]
  },
  {
   "cell_type": "markdown",
   "metadata": {},
   "source": [
    "Okay, anyways .. this expected to add two columns of sum and average to the df, format them by changing their colors and write the new results back on excel sheet .. \n",
    "\n",
    "as mentioned here .. \n",
    "\n",
    "https://github.com/EAboelhamd/StyleFrame"
   ]
  },
  {
   "cell_type": "code",
   "execution_count": null,
   "metadata": {},
   "outputs": [],
   "source": []
  }
 ],
 "metadata": {
  "kernelspec": {
   "display_name": "Python 2",
   "language": "python",
   "name": "python2"
  },
  "language_info": {
   "codemirror_mode": {
    "name": "ipython",
    "version": 2
   },
   "file_extension": ".py",
   "mimetype": "text/x-python",
   "name": "python",
   "nbconvert_exporter": "python",
   "pygments_lexer": "ipython2",
   "version": "2.7.12"
  }
 },
 "nbformat": 4,
 "nbformat_minor": 2
}
