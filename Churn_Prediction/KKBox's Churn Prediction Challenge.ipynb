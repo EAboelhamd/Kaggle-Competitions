{
 "cells": [
  {
   "cell_type": "markdown",
   "metadata": {},
   "source": [
    "## Introduction:\n",
    "\n",
    "The 11th ACM International Conference on Web Search and Data Mining (WSDM 2018) is challenging you to build an algorithm that predicts whether a subscription user will churn using a donated dataset from KKBOX. WSDM (pronounced \"wisdom\") is one of the the premier conferences on web inspired research involving search and data mining. They're committed to publishing original, high quality papers and presentations, with an emphasis on practical but principled novel models.\n",
    "\n",
    "\n",
    "KKBOX is Asia’s leading music streaming service, holding the world’s most comprehensive Asia-Pop music library with over 30 million tracks. They offer a generous, unlimited version of their service to millions of people, supported by advertising and paid subscriptions. This delicate model is dependent on accurately predicting churn of their paid users.\n",
    "\n",
    "In this competition you’re tasked to build an algorithm that predicts whether a user will churn after their subscription expires. Currently, the company uses survival analysis techniques to determine the residual membership life time for each subscriber. By adopting different methods, KKBOX anticipates they’ll discover new insights to why users leave so they can be proactive in keeping users dancing.\n",
    "\n",
    "Tables of the dataset:\n",
    "\n",
    "__1. train_v2.csv:\n",
    "\n",
    "    containing the user ids and whether they have churned (is_churn)\n",
    "\n",
    "__2. transactions_v2.csv:\n",
    "\n",
    "\n",
    "    transactions of users up until 6/11/2017.\n",
    "\n",
    "    msno: user id\n",
    "    payment_method_id: payment method\n",
    "    payment_plan_days: length of membership plan in days\n",
    "    plan_list_price: in New Taiwan Dollar (NTD)\n",
    "    actual_amount_paid: in New Taiwan Dollar (NTD)\n",
    "    is_auto_renew\n",
    "    transaction_date: format %Y%m%d\n",
    "    membership_expire_date: format %Y%m%d\n",
    "    is_cancel: whether or not the user canceled the membership in this transaction.\n",
    "    \n",
    "__3. user_logs_v2.csv:\n",
    "\n",
    "    daily user logs describing listening behaviors of a user. Data collected until 31/3/2017.\n",
    "\n",
    "    msno: user id\n",
    "    date: format %Y%m%d\n",
    "    num_25: # of songs played less than 25% of the song length\n",
    "    num_50: # of songs played between 25% to 50% of the song length\n",
    "    num_75: # of songs played between 50% to 75% of of the song length\n",
    "    num_985: # of songs played between 75% to 98.5% of the song length\n",
    "    num_100: # of songs played over 98.5% of the song length\n",
    "    num_unq: # of unique songs played\n",
    "    total_secs: total seconds played\n",
    "\n",
    "__4. members_v3.csv:\n",
    "    \n",
    "    user information. Note that not every user in the dataset is available.\n",
    "\n",
    "    - msno\n",
    "    - city\n",
    "    - bd: age. Note: this column has outlier values ranging from -7000 to 2015, please use your judgement.\n",
    "    - gender\n",
    "    - registered_via: registration method\n",
    "    - registration_init_time: format %Y%m%d\n",
    "    - expiration_date: format %Y%m%d, taken as a snapshot at which the member_v3.csv is extracted. Not representing \n",
    "      the actual churn behavior (Updated 13/11/2017)\n",
    "\n",
    "Compitition link ==> https://www.kaggle.com/c/kkbox-churn-prediction-challenge"
   ]
  },
  {
   "cell_type": "code",
   "execution_count": 1,
   "metadata": {},
   "outputs": [],
   "source": [
    "## data manipulation\n",
    "import numpy as np\n",
    "import pandas as pd\n",
    "from sklearn.preprocessing import StandardScaler\n",
    "from scipy import stats\n",
    "## reading the data \n",
    "import json\n",
    "import zipfile\n",
    "import csv\n",
    "\n",
    "from collections import Counter\n",
    "\n",
    "# ## plotting .. \n",
    "import seaborn as sns\n",
    "import matplotlib.pyplot as plt\n",
    "% matplotlib inline\n",
    "\n",
    "from datetime import datetime\n",
    "\n",
    "\n",
    "\n",
    "## warnings\n",
    "import warnings\n",
    "warnings.filterwarnings(\"ignore\")"
   ]
  },
  {
   "cell_type": "code",
   "execution_count": 2,
   "metadata": {},
   "outputs": [],
   "source": [
    "df_train = pd.read_csv('train_v2.csv')"
   ]
  },
  {
   "cell_type": "code",
   "execution_count": 3,
   "metadata": {},
   "outputs": [
    {
     "data": {
      "text/html": [
       "<div>\n",
       "<style>\n",
       "    .dataframe thead tr:only-child th {\n",
       "        text-align: right;\n",
       "    }\n",
       "\n",
       "    .dataframe thead th {\n",
       "        text-align: left;\n",
       "    }\n",
       "\n",
       "    .dataframe tbody tr th {\n",
       "        vertical-align: top;\n",
       "    }\n",
       "</style>\n",
       "<table border=\"1\" class=\"dataframe\">\n",
       "  <thead>\n",
       "    <tr style=\"text-align: right;\">\n",
       "      <th></th>\n",
       "      <th>msno</th>\n",
       "      <th>is_churn</th>\n",
       "    </tr>\n",
       "  </thead>\n",
       "  <tbody>\n",
       "    <tr>\n",
       "      <th>0</th>\n",
       "      <td>ugx0CjOMzazClkFzU2xasmDZaoIqOUAZPsH1q0teWCg=</td>\n",
       "      <td>1</td>\n",
       "    </tr>\n",
       "    <tr>\n",
       "      <th>1</th>\n",
       "      <td>f/NmvEzHfhINFEYZTR05prUdr+E+3+oewvweYz9cCQE=</td>\n",
       "      <td>1</td>\n",
       "    </tr>\n",
       "    <tr>\n",
       "      <th>2</th>\n",
       "      <td>zLo9f73nGGT1p21ltZC3ChiRnAVvgibMyazbCxvWPcg=</td>\n",
       "      <td>1</td>\n",
       "    </tr>\n",
       "    <tr>\n",
       "      <th>3</th>\n",
       "      <td>8iF/+8HY8lJKFrTc7iR9ZYGCG2Ecrogbc2Vy5YhsfhQ=</td>\n",
       "      <td>1</td>\n",
       "    </tr>\n",
       "    <tr>\n",
       "      <th>4</th>\n",
       "      <td>K6fja4+jmoZ5xG6BypqX80Uw/XKpMgrEMdG2edFOxnA=</td>\n",
       "      <td>1</td>\n",
       "    </tr>\n",
       "  </tbody>\n",
       "</table>\n",
       "</div>"
      ],
      "text/plain": [
       "                                           msno  is_churn\n",
       "0  ugx0CjOMzazClkFzU2xasmDZaoIqOUAZPsH1q0teWCg=         1\n",
       "1  f/NmvEzHfhINFEYZTR05prUdr+E+3+oewvweYz9cCQE=         1\n",
       "2  zLo9f73nGGT1p21ltZC3ChiRnAVvgibMyazbCxvWPcg=         1\n",
       "3  8iF/+8HY8lJKFrTc7iR9ZYGCG2Ecrogbc2Vy5YhsfhQ=         1\n",
       "4  K6fja4+jmoZ5xG6BypqX80Uw/XKpMgrEMdG2edFOxnA=         1"
      ]
     },
     "execution_count": 3,
     "metadata": {},
     "output_type": "execute_result"
    }
   ],
   "source": [
    "df_train.head()"
   ]
  },
  {
   "cell_type": "markdown",
   "metadata": {},
   "source": [
    "There are only two columns in this training dataset .. \n",
    "\n",
    "msno is a unique user id .. \n",
    "is_churn is a churn flag .. \n",
    "\n",
    "Count number of values of each unique value of \"is_churn\" column"
   ]
  },
  {
   "cell_type": "code",
   "execution_count": 4,
   "metadata": {},
   "outputs": [
    {
     "data": {
      "text/plain": [
       "([0, 1], [883630, 87330])"
      ]
     },
     "execution_count": 4,
     "metadata": {},
     "output_type": "execute_result"
    }
   ],
   "source": [
    "Counter(df_train['is_churn']).keys(), Counter(df_train['is_churn']).values()"
   ]
  },
  {
   "cell_type": "markdown",
   "metadata": {},
   "source": [
    "the non-churn cutsomers are higher ! ;) \n",
    "\n",
    "let's check the following:\n",
    "1. total number of customers in this dataset .. \n",
    "2. if there is any missing value .. "
   ]
  },
  {
   "cell_type": "code",
   "execution_count": 5,
   "metadata": {},
   "outputs": [
    {
     "data": {
      "text/plain": [
       "(970960, 2)"
      ]
     },
     "execution_count": 5,
     "metadata": {},
     "output_type": "execute_result"
    }
   ],
   "source": [
    "np.shape(df_train)"
   ]
  },
  {
   "cell_type": "code",
   "execution_count": 6,
   "metadata": {},
   "outputs": [
    {
     "data": {
      "text/plain": [
       "False"
      ]
     },
     "execution_count": 6,
     "metadata": {},
     "output_type": "execute_result"
    }
   ],
   "source": [
    "df_train.isnull().any().any()"
   ]
  },
  {
   "cell_type": "code",
   "execution_count": 7,
   "metadata": {},
   "outputs": [
    {
     "data": {
      "text/plain": [
       "msno        0\n",
       "is_churn    0\n",
       "dtype: int64"
      ]
     },
     "execution_count": 7,
     "metadata": {},
     "output_type": "execute_result"
    }
   ],
   "source": [
    "df_train.isnull().sum()"
   ]
  },
  {
   "cell_type": "markdown",
   "metadata": {},
   "source": [
    "There are about 970,960 customers in the above dataset .. none of them has empty field ..  "
   ]
  },
  {
   "cell_type": "code",
   "execution_count": 8,
   "metadata": {},
   "outputs": [
    {
     "data": {
      "text/plain": [
       "(array([ 883630.,       0.,       0.,       0.,       0.,       0.,\n",
       "              0.,       0.,       0.,   87330.]),\n",
       " array([ 0. ,  0.1,  0.2,  0.3,  0.4,  0.5,  0.6,  0.7,  0.8,  0.9,  1. ]),\n",
       " <a list of 10 Patch objects>)"
      ]
     },
     "execution_count": 8,
     "metadata": {},
     "output_type": "execute_result"
    },
    {
     "data": {
      "image/png": "[encoded data removed]",
      "text/plain": [
       "<matplotlib.figure.Figure at 0x7f393c0a1210>"
      ]
     },
     "metadata": {},
     "output_type": "display_data"
    }
   ],
   "source": [
    "plt.hist(df_train['is_churn'])"
   ]
  },
  {
   "cell_type": "markdown",
   "metadata": {},
   "source": [
    "## Comment:\n",
    "\n",
    "the above chart confirms the difference gap between number of churn and no-churn customers .. \n",
    "\n",
    "mmmm however, the power of this info. will be magnified if this table is merged with other tables i.e. members, transactions .. to check the behavior of each churn, no-churn customers .. \n",
    "\n",
    "let's explore this table first and then merge them ..  "
   ]
  },
  {
   "cell_type": "code",
   "execution_count": 9,
   "metadata": {},
   "outputs": [
    {
     "name": "stdout",
     "output_type": "stream",
     "text": [
      "% of no churn =  91.0058086842\n",
      "% of churn =  8.99419131581\n"
     ]
    }
   ],
   "source": [
    "print \"% of no churn = \", float(Counter(df_train['is_churn']).values()[0])/len(df_train)*100\n",
    "print \"% of churn = \", float(Counter(df_train['is_churn']).values()[1])/len(df_train)*100"
   ]
  },
  {
   "cell_type": "markdown",
   "metadata": {},
   "source": [
    "The majority of the customers won't churn ! :) ..\n",
    "\n",
    "VERY BIASED TRAINING SET ! :S :S"
   ]
  },
  {
   "cell_type": "markdown",
   "metadata": {},
   "source": [
    "## Transactions dataset:"
   ]
  },
  {
   "cell_type": "code",
   "execution_count": 10,
   "metadata": {},
   "outputs": [],
   "source": [
    "df_trans = pd.read_csv('transactions_v2.csv')"
   ]
  },
  {
   "cell_type": "code",
   "execution_count": 11,
   "metadata": {},
   "outputs": [
    {
     "data": {
      "text/html": [
       "<div>\n",
       "<style>\n",
       "    .dataframe thead tr:only-child th {\n",
       "        text-align: right;\n",
       "    }\n",
       "\n",
       "    .dataframe thead th {\n",
       "        text-align: left;\n",
       "    }\n",
       "\n",
       "    .dataframe tbody tr th {\n",
       "        vertical-align: top;\n",
       "    }\n",
       "</style>\n",
       "<table border=\"1\" class=\"dataframe\">\n",
       "  <thead>\n",
       "    <tr style=\"text-align: right;\">\n",
       "      <th></th>\n",
       "      <th>msno</th>\n",
       "      <th>payment_method_id</th>\n",
       "      <th>payment_plan_days</th>\n",
       "      <th>plan_list_price</th>\n",
       "      <th>actual_amount_paid</th>\n",
       "      <th>is_auto_renew</th>\n",
       "      <th>transaction_date</th>\n",
       "      <th>membership_expire_date</th>\n",
       "      <th>is_cancel</th>\n",
       "    </tr>\n",
       "  </thead>\n",
       "  <tbody>\n",
       "    <tr>\n",
       "      <th>0</th>\n",
       "      <td>++6eU4LsQ3UQ20ILS7d99XK8WbiVgbyYL4FUgzZR134=</td>\n",
       "      <td>32</td>\n",
       "      <td>90</td>\n",
       "      <td>298</td>\n",
       "      <td>298</td>\n",
       "      <td>0</td>\n",
       "      <td>20170131</td>\n",
       "      <td>20170504</td>\n",
       "      <td>0</td>\n",
       "    </tr>\n",
       "    <tr>\n",
       "      <th>1</th>\n",
       "      <td>++lvGPJOinuin/8esghpnqdljm6NXS8m8Zwchc7gOeA=</td>\n",
       "      <td>41</td>\n",
       "      <td>30</td>\n",
       "      <td>149</td>\n",
       "      <td>149</td>\n",
       "      <td>1</td>\n",
       "      <td>20150809</td>\n",
       "      <td>20190412</td>\n",
       "      <td>0</td>\n",
       "    </tr>\n",
       "    <tr>\n",
       "      <th>2</th>\n",
       "      <td>+/GXNtXWQVfKrEDqYAzcSw2xSPYMKWNj22m+5XkVQZc=</td>\n",
       "      <td>36</td>\n",
       "      <td>30</td>\n",
       "      <td>180</td>\n",
       "      <td>180</td>\n",
       "      <td>1</td>\n",
       "      <td>20170303</td>\n",
       "      <td>20170422</td>\n",
       "      <td>0</td>\n",
       "    </tr>\n",
       "    <tr>\n",
       "      <th>3</th>\n",
       "      <td>+/w1UrZwyka4C9oNH3+Q8fUf3fD8R3EwWrx57ODIsqk=</td>\n",
       "      <td>36</td>\n",
       "      <td>30</td>\n",
       "      <td>180</td>\n",
       "      <td>180</td>\n",
       "      <td>1</td>\n",
       "      <td>20170329</td>\n",
       "      <td>20170331</td>\n",
       "      <td>1</td>\n",
       "    </tr>\n",
       "    <tr>\n",
       "      <th>4</th>\n",
       "      <td>+00PGzKTYqtnb65mPKPyeHXcZEwqiEzktpQksaaSC3c=</td>\n",
       "      <td>41</td>\n",
       "      <td>30</td>\n",
       "      <td>99</td>\n",
       "      <td>99</td>\n",
       "      <td>1</td>\n",
       "      <td>20170323</td>\n",
       "      <td>20170423</td>\n",
       "      <td>0</td>\n",
       "    </tr>\n",
       "  </tbody>\n",
       "</table>\n",
       "</div>"
      ],
      "text/plain": [
       "                                           msno  payment_method_id  \\\n",
       "0  ++6eU4LsQ3UQ20ILS7d99XK8WbiVgbyYL4FUgzZR134=                 32   \n",
       "1  ++lvGPJOinuin/8esghpnqdljm6NXS8m8Zwchc7gOeA=                 41   \n",
       "2  +/GXNtXWQVfKrEDqYAzcSw2xSPYMKWNj22m+5XkVQZc=                 36   \n",
       "3  +/w1UrZwyka4C9oNH3+Q8fUf3fD8R3EwWrx57ODIsqk=                 36   \n",
       "4  +00PGzKTYqtnb65mPKPyeHXcZEwqiEzktpQksaaSC3c=                 41   \n",
       "\n",
       "   payment_plan_days  plan_list_price  actual_amount_paid  is_auto_renew  \\\n",
       "0                 90              298                 298              0   \n",
       "1                 30              149                 149              1   \n",
       "2                 30              180                 180              1   \n",
       "3                 30              180                 180              1   \n",
       "4                 30               99                  99              1   \n",
       "\n",
       "   transaction_date  membership_expire_date  is_cancel  \n",
       "0          20170131                20170504          0  \n",
       "1          20150809                20190412          0  \n",
       "2          20170303                20170422          0  \n",
       "3          20170329                20170331          1  \n",
       "4          20170323                20170423          0  "
      ]
     },
     "execution_count": 11,
     "metadata": {},
     "output_type": "execute_result"
    }
   ],
   "source": [
    "df_trans.head()"
   ]
  },
  {
   "cell_type": "markdown",
   "metadata": {},
   "source": [
    "mmm the user_id is also there ;) \n",
    "\n",
    "let's check the number of records .. "
   ]
  },
  {
   "cell_type": "code",
   "execution_count": 12,
   "metadata": {},
   "outputs": [
    {
     "data": {
      "text/plain": [
       "(1431009, 9)"
      ]
     },
     "execution_count": 12,
     "metadata": {},
     "output_type": "execute_result"
    }
   ],
   "source": [
    "np.shape(df_trans)"
   ]
  },
  {
   "cell_type": "markdown",
   "metadata": {},
   "source": [
    "mmmmm howcome ! ..\n",
    "\n",
    "number of transactions is greater than number of records in the training data .. \n",
    "\n",
    "it means that these are not completely the same customer set .. mmm or I think this makes sense as the single\n",
    "customer can do more than one transaction !"
   ]
  },
  {
   "cell_type": "code",
   "execution_count": 13,
   "metadata": {},
   "outputs": [
    {
     "data": {
      "text/html": [
       "<div>\n",
       "<style>\n",
       "    .dataframe thead tr:only-child th {\n",
       "        text-align: right;\n",
       "    }\n",
       "\n",
       "    .dataframe thead th {\n",
       "        text-align: left;\n",
       "    }\n",
       "\n",
       "    .dataframe tbody tr th {\n",
       "        vertical-align: top;\n",
       "    }\n",
       "</style>\n",
       "<table border=\"1\" class=\"dataframe\">\n",
       "  <thead>\n",
       "    <tr style=\"text-align: right;\">\n",
       "      <th></th>\n",
       "      <th>actual_amount_paid</th>\n",
       "      <th>is_auto_renew</th>\n",
       "      <th>is_cancel</th>\n",
       "      <th>is_churn</th>\n",
       "      <th>membership_expire_date</th>\n",
       "      <th>msno</th>\n",
       "      <th>payment_method_id</th>\n",
       "      <th>payment_plan_days</th>\n",
       "      <th>plan_list_price</th>\n",
       "      <th>transaction_date</th>\n",
       "    </tr>\n",
       "  </thead>\n",
       "  <tbody>\n",
       "    <tr>\n",
       "      <th>0</th>\n",
       "      <td>NaN</td>\n",
       "      <td>NaN</td>\n",
       "      <td>NaN</td>\n",
       "      <td>1.0</td>\n",
       "      <td>NaN</td>\n",
       "      <td>ugx0CjOMzazClkFzU2xasmDZaoIqOUAZPsH1q0teWCg=</td>\n",
       "      <td>NaN</td>\n",
       "      <td>NaN</td>\n",
       "      <td>NaN</td>\n",
       "      <td>NaN</td>\n",
       "    </tr>\n",
       "    <tr>\n",
       "      <th>1</th>\n",
       "      <td>NaN</td>\n",
       "      <td>NaN</td>\n",
       "      <td>NaN</td>\n",
       "      <td>1.0</td>\n",
       "      <td>NaN</td>\n",
       "      <td>f/NmvEzHfhINFEYZTR05prUdr+E+3+oewvweYz9cCQE=</td>\n",
       "      <td>NaN</td>\n",
       "      <td>NaN</td>\n",
       "      <td>NaN</td>\n",
       "      <td>NaN</td>\n",
       "    </tr>\n",
       "    <tr>\n",
       "      <th>2</th>\n",
       "      <td>NaN</td>\n",
       "      <td>NaN</td>\n",
       "      <td>NaN</td>\n",
       "      <td>1.0</td>\n",
       "      <td>NaN</td>\n",
       "      <td>zLo9f73nGGT1p21ltZC3ChiRnAVvgibMyazbCxvWPcg=</td>\n",
       "      <td>NaN</td>\n",
       "      <td>NaN</td>\n",
       "      <td>NaN</td>\n",
       "      <td>NaN</td>\n",
       "    </tr>\n",
       "    <tr>\n",
       "      <th>3</th>\n",
       "      <td>NaN</td>\n",
       "      <td>NaN</td>\n",
       "      <td>NaN</td>\n",
       "      <td>1.0</td>\n",
       "      <td>NaN</td>\n",
       "      <td>8iF/+8HY8lJKFrTc7iR9ZYGCG2Ecrogbc2Vy5YhsfhQ=</td>\n",
       "      <td>NaN</td>\n",
       "      <td>NaN</td>\n",
       "      <td>NaN</td>\n",
       "      <td>NaN</td>\n",
       "    </tr>\n",
       "    <tr>\n",
       "      <th>4</th>\n",
       "      <td>NaN</td>\n",
       "      <td>NaN</td>\n",
       "      <td>NaN</td>\n",
       "      <td>1.0</td>\n",
       "      <td>NaN</td>\n",
       "      <td>K6fja4+jmoZ5xG6BypqX80Uw/XKpMgrEMdG2edFOxnA=</td>\n",
       "      <td>NaN</td>\n",
       "      <td>NaN</td>\n",
       "      <td>NaN</td>\n",
       "      <td>NaN</td>\n",
       "    </tr>\n",
       "  </tbody>\n",
       "</table>\n",
       "</div>"
      ],
      "text/plain": [
       "   actual_amount_paid  is_auto_renew  is_cancel  is_churn  \\\n",
       "0                 NaN            NaN        NaN       1.0   \n",
       "1                 NaN            NaN        NaN       1.0   \n",
       "2                 NaN            NaN        NaN       1.0   \n",
       "3                 NaN            NaN        NaN       1.0   \n",
       "4                 NaN            NaN        NaN       1.0   \n",
       "\n",
       "   membership_expire_date                                          msno  \\\n",
       "0                     NaN  ugx0CjOMzazClkFzU2xasmDZaoIqOUAZPsH1q0teWCg=   \n",
       "1                     NaN  f/NmvEzHfhINFEYZTR05prUdr+E+3+oewvweYz9cCQE=   \n",
       "2                     NaN  zLo9f73nGGT1p21ltZC3ChiRnAVvgibMyazbCxvWPcg=   \n",
       "3                     NaN  8iF/+8HY8lJKFrTc7iR9ZYGCG2Ecrogbc2Vy5YhsfhQ=   \n",
       "4                     NaN  K6fja4+jmoZ5xG6BypqX80Uw/XKpMgrEMdG2edFOxnA=   \n",
       "\n",
       "   payment_method_id  payment_plan_days  plan_list_price  transaction_date  \n",
       "0                NaN                NaN              NaN               NaN  \n",
       "1                NaN                NaN              NaN               NaN  \n",
       "2                NaN                NaN              NaN               NaN  \n",
       "3                NaN                NaN              NaN               NaN  \n",
       "4                NaN                NaN              NaN               NaN  "
      ]
     },
     "execution_count": 13,
     "metadata": {},
     "output_type": "execute_result"
    }
   ],
   "source": [
    "df = pd.concat([df_train, df_trans])\n",
    "df.head()"
   ]
  },
  {
   "cell_type": "code",
   "execution_count": 14,
   "metadata": {},
   "outputs": [
    {
     "data": {
      "text/plain": [
       "(2401969, 10)"
      ]
     },
     "execution_count": 14,
     "metadata": {},
     "output_type": "execute_result"
    }
   ],
   "source": [
    "np.shape(df) #two dataframes are combined "
   ]
  },
  {
   "cell_type": "code",
   "execution_count": 15,
   "metadata": {},
   "outputs": [
    {
     "data": {
      "text/html": [
       "<div>\n",
       "<style>\n",
       "    .dataframe thead tr:only-child th {\n",
       "        text-align: right;\n",
       "    }\n",
       "\n",
       "    .dataframe thead th {\n",
       "        text-align: left;\n",
       "    }\n",
       "\n",
       "    .dataframe tbody tr th {\n",
       "        vertical-align: top;\n",
       "    }\n",
       "</style>\n",
       "<table border=\"1\" class=\"dataframe\">\n",
       "  <thead>\n",
       "    <tr style=\"text-align: right;\">\n",
       "      <th></th>\n",
       "      <th>actual_amount_paid</th>\n",
       "      <th>is_auto_renew</th>\n",
       "      <th>is_cancel</th>\n",
       "      <th>is_churn</th>\n",
       "      <th>membership_expire_date</th>\n",
       "      <th>msno</th>\n",
       "      <th>payment_method_id</th>\n",
       "      <th>payment_plan_days</th>\n",
       "      <th>plan_list_price</th>\n",
       "      <th>transaction_date</th>\n",
       "    </tr>\n",
       "  </thead>\n",
       "  <tbody>\n",
       "    <tr>\n",
       "      <th>0</th>\n",
       "      <td>NaN</td>\n",
       "      <td>NaN</td>\n",
       "      <td>NaN</td>\n",
       "      <td>1.0</td>\n",
       "      <td>NaN</td>\n",
       "      <td>ugx0CjOMzazClkFzU2xasmDZaoIqOUAZPsH1q0teWCg=</td>\n",
       "      <td>NaN</td>\n",
       "      <td>NaN</td>\n",
       "      <td>NaN</td>\n",
       "      <td>NaN</td>\n",
       "    </tr>\n",
       "    <tr>\n",
       "      <th>1</th>\n",
       "      <td>NaN</td>\n",
       "      <td>NaN</td>\n",
       "      <td>NaN</td>\n",
       "      <td>1.0</td>\n",
       "      <td>NaN</td>\n",
       "      <td>f/NmvEzHfhINFEYZTR05prUdr+E+3+oewvweYz9cCQE=</td>\n",
       "      <td>NaN</td>\n",
       "      <td>NaN</td>\n",
       "      <td>NaN</td>\n",
       "      <td>NaN</td>\n",
       "    </tr>\n",
       "    <tr>\n",
       "      <th>2</th>\n",
       "      <td>NaN</td>\n",
       "      <td>NaN</td>\n",
       "      <td>NaN</td>\n",
       "      <td>1.0</td>\n",
       "      <td>NaN</td>\n",
       "      <td>zLo9f73nGGT1p21ltZC3ChiRnAVvgibMyazbCxvWPcg=</td>\n",
       "      <td>NaN</td>\n",
       "      <td>NaN</td>\n",
       "      <td>NaN</td>\n",
       "      <td>NaN</td>\n",
       "    </tr>\n",
       "    <tr>\n",
       "      <th>3</th>\n",
       "      <td>NaN</td>\n",
       "      <td>NaN</td>\n",
       "      <td>NaN</td>\n",
       "      <td>1.0</td>\n",
       "      <td>NaN</td>\n",
       "      <td>8iF/+8HY8lJKFrTc7iR9ZYGCG2Ecrogbc2Vy5YhsfhQ=</td>\n",
       "      <td>NaN</td>\n",
       "      <td>NaN</td>\n",
       "      <td>NaN</td>\n",
       "      <td>NaN</td>\n",
       "    </tr>\n",
       "    <tr>\n",
       "      <th>4</th>\n",
       "      <td>NaN</td>\n",
       "      <td>NaN</td>\n",
       "      <td>NaN</td>\n",
       "      <td>1.0</td>\n",
       "      <td>NaN</td>\n",
       "      <td>K6fja4+jmoZ5xG6BypqX80Uw/XKpMgrEMdG2edFOxnA=</td>\n",
       "      <td>NaN</td>\n",
       "      <td>NaN</td>\n",
       "      <td>NaN</td>\n",
       "      <td>NaN</td>\n",
       "    </tr>\n",
       "  </tbody>\n",
       "</table>\n",
       "</div>"
      ],
      "text/plain": [
       "   actual_amount_paid  is_auto_renew  is_cancel  is_churn  \\\n",
       "0                 NaN            NaN        NaN       1.0   \n",
       "1                 NaN            NaN        NaN       1.0   \n",
       "2                 NaN            NaN        NaN       1.0   \n",
       "3                 NaN            NaN        NaN       1.0   \n",
       "4                 NaN            NaN        NaN       1.0   \n",
       "\n",
       "   membership_expire_date                                          msno  \\\n",
       "0                     NaN  ugx0CjOMzazClkFzU2xasmDZaoIqOUAZPsH1q0teWCg=   \n",
       "1                     NaN  f/NmvEzHfhINFEYZTR05prUdr+E+3+oewvweYz9cCQE=   \n",
       "2                     NaN  zLo9f73nGGT1p21ltZC3ChiRnAVvgibMyazbCxvWPcg=   \n",
       "3                     NaN  8iF/+8HY8lJKFrTc7iR9ZYGCG2Ecrogbc2Vy5YhsfhQ=   \n",
       "4                     NaN  K6fja4+jmoZ5xG6BypqX80Uw/XKpMgrEMdG2edFOxnA=   \n",
       "\n",
       "   payment_method_id  payment_plan_days  plan_list_price  transaction_date  \n",
       "0                NaN                NaN              NaN               NaN  \n",
       "1                NaN                NaN              NaN               NaN  \n",
       "2                NaN                NaN              NaN               NaN  \n",
       "3                NaN                NaN              NaN               NaN  \n",
       "4                NaN                NaN              NaN               NaN  "
      ]
     },
     "execution_count": 15,
     "metadata": {},
     "output_type": "execute_result"
    }
   ],
   "source": [
    "df = df.reset_index(drop=True)\n",
    "df.head()"
   ]
  },
  {
   "cell_type": "code",
   "execution_count": 16,
   "metadata": {},
   "outputs": [
    {
     "data": {
      "text/plain": [
       "(2401969, 10)"
      ]
     },
     "execution_count": 16,
     "metadata": {},
     "output_type": "execute_result"
    }
   ],
   "source": [
    "np.shape(df) "
   ]
  },
  {
   "cell_type": "code",
   "execution_count": 17,
   "metadata": {},
   "outputs": [
    {
     "data": {
      "text/html": [
       "<div>\n",
       "<style>\n",
       "    .dataframe thead tr:only-child th {\n",
       "        text-align: right;\n",
       "    }\n",
       "\n",
       "    .dataframe thead th {\n",
       "        text-align: left;\n",
       "    }\n",
       "\n",
       "    .dataframe tbody tr th {\n",
       "        vertical-align: top;\n",
       "    }\n",
       "</style>\n",
       "<table border=\"1\" class=\"dataframe\">\n",
       "  <thead>\n",
       "    <tr style=\"text-align: right;\">\n",
       "      <th></th>\n",
       "      <th>actual_amount_paid</th>\n",
       "      <th>is_auto_renew</th>\n",
       "      <th>is_cancel</th>\n",
       "      <th>is_churn</th>\n",
       "      <th>membership_expire_date</th>\n",
       "      <th>msno</th>\n",
       "      <th>payment_method_id</th>\n",
       "      <th>payment_plan_days</th>\n",
       "      <th>plan_list_price</th>\n",
       "      <th>transaction_date</th>\n",
       "    </tr>\n",
       "  </thead>\n",
       "  <tbody>\n",
       "    <tr>\n",
       "      <th>0</th>\n",
       "      <td>NaN</td>\n",
       "      <td>NaN</td>\n",
       "      <td>NaN</td>\n",
       "      <td>1.0</td>\n",
       "      <td>NaN</td>\n",
       "      <td>ugx0CjOMzazClkFzU2xasmDZaoIqOUAZPsH1q0teWCg=</td>\n",
       "      <td>NaN</td>\n",
       "      <td>NaN</td>\n",
       "      <td>NaN</td>\n",
       "      <td>NaN</td>\n",
       "    </tr>\n",
       "    <tr>\n",
       "      <th>1</th>\n",
       "      <td>NaN</td>\n",
       "      <td>NaN</td>\n",
       "      <td>NaN</td>\n",
       "      <td>1.0</td>\n",
       "      <td>NaN</td>\n",
       "      <td>f/NmvEzHfhINFEYZTR05prUdr+E+3+oewvweYz9cCQE=</td>\n",
       "      <td>NaN</td>\n",
       "      <td>NaN</td>\n",
       "      <td>NaN</td>\n",
       "      <td>NaN</td>\n",
       "    </tr>\n",
       "    <tr>\n",
       "      <th>2</th>\n",
       "      <td>NaN</td>\n",
       "      <td>NaN</td>\n",
       "      <td>NaN</td>\n",
       "      <td>1.0</td>\n",
       "      <td>NaN</td>\n",
       "      <td>zLo9f73nGGT1p21ltZC3ChiRnAVvgibMyazbCxvWPcg=</td>\n",
       "      <td>NaN</td>\n",
       "      <td>NaN</td>\n",
       "      <td>NaN</td>\n",
       "      <td>NaN</td>\n",
       "    </tr>\n",
       "    <tr>\n",
       "      <th>3</th>\n",
       "      <td>NaN</td>\n",
       "      <td>NaN</td>\n",
       "      <td>NaN</td>\n",
       "      <td>1.0</td>\n",
       "      <td>NaN</td>\n",
       "      <td>8iF/+8HY8lJKFrTc7iR9ZYGCG2Ecrogbc2Vy5YhsfhQ=</td>\n",
       "      <td>NaN</td>\n",
       "      <td>NaN</td>\n",
       "      <td>NaN</td>\n",
       "      <td>NaN</td>\n",
       "    </tr>\n",
       "    <tr>\n",
       "      <th>4</th>\n",
       "      <td>NaN</td>\n",
       "      <td>NaN</td>\n",
       "      <td>NaN</td>\n",
       "      <td>1.0</td>\n",
       "      <td>NaN</td>\n",
       "      <td>K6fja4+jmoZ5xG6BypqX80Uw/XKpMgrEMdG2edFOxnA=</td>\n",
       "      <td>NaN</td>\n",
       "      <td>NaN</td>\n",
       "      <td>NaN</td>\n",
       "      <td>NaN</td>\n",
       "    </tr>\n",
       "  </tbody>\n",
       "</table>\n",
       "</div>"
      ],
      "text/plain": [
       "   actual_amount_paid  is_auto_renew  is_cancel  is_churn  \\\n",
       "0                 NaN            NaN        NaN       1.0   \n",
       "1                 NaN            NaN        NaN       1.0   \n",
       "2                 NaN            NaN        NaN       1.0   \n",
       "3                 NaN            NaN        NaN       1.0   \n",
       "4                 NaN            NaN        NaN       1.0   \n",
       "\n",
       "   membership_expire_date                                          msno  \\\n",
       "0                     NaN  ugx0CjOMzazClkFzU2xasmDZaoIqOUAZPsH1q0teWCg=   \n",
       "1                     NaN  f/NmvEzHfhINFEYZTR05prUdr+E+3+oewvweYz9cCQE=   \n",
       "2                     NaN  zLo9f73nGGT1p21ltZC3ChiRnAVvgibMyazbCxvWPcg=   \n",
       "3                     NaN  8iF/+8HY8lJKFrTc7iR9ZYGCG2Ecrogbc2Vy5YhsfhQ=   \n",
       "4                     NaN  K6fja4+jmoZ5xG6BypqX80Uw/XKpMgrEMdG2edFOxnA=   \n",
       "\n",
       "   payment_method_id  payment_plan_days  plan_list_price  transaction_date  \n",
       "0                NaN                NaN              NaN               NaN  \n",
       "1                NaN                NaN              NaN               NaN  \n",
       "2                NaN                NaN              NaN               NaN  \n",
       "3                NaN                NaN              NaN               NaN  \n",
       "4                NaN                NaN              NaN               NaN  "
      ]
     },
     "execution_count": 17,
     "metadata": {},
     "output_type": "execute_result"
    }
   ],
   "source": [
    "df_gpby = df.groupby(list(df.columns))\n",
    "df_gpby.head()"
   ]
  },
  {
   "cell_type": "code",
   "execution_count": 18,
   "metadata": {},
   "outputs": [],
   "source": [
    "idx = [x[0] for x in df_gpby.groups.values() if len(x) == 1]"
   ]
  },
  {
   "cell_type": "code",
   "execution_count": 19,
   "metadata": {},
   "outputs": [
    {
     "data": {
      "text/html": [
       "<div>\n",
       "<style>\n",
       "    .dataframe thead tr:only-child th {\n",
       "        text-align: right;\n",
       "    }\n",
       "\n",
       "    .dataframe thead th {\n",
       "        text-align: left;\n",
       "    }\n",
       "\n",
       "    .dataframe tbody tr th {\n",
       "        vertical-align: top;\n",
       "    }\n",
       "</style>\n",
       "<table border=\"1\" class=\"dataframe\">\n",
       "  <thead>\n",
       "    <tr style=\"text-align: right;\">\n",
       "      <th></th>\n",
       "      <th>actual_amount_paid</th>\n",
       "      <th>is_auto_renew</th>\n",
       "      <th>is_cancel</th>\n",
       "      <th>is_churn</th>\n",
       "      <th>membership_expire_date</th>\n",
       "      <th>msno</th>\n",
       "      <th>payment_method_id</th>\n",
       "      <th>payment_plan_days</th>\n",
       "      <th>plan_list_price</th>\n",
       "      <th>transaction_date</th>\n",
       "    </tr>\n",
       "  </thead>\n",
       "  <tbody>\n",
       "    <tr>\n",
       "      <th>0</th>\n",
       "      <td>NaN</td>\n",
       "      <td>NaN</td>\n",
       "      <td>NaN</td>\n",
       "      <td>1.0</td>\n",
       "      <td>NaN</td>\n",
       "      <td>ugx0CjOMzazClkFzU2xasmDZaoIqOUAZPsH1q0teWCg=</td>\n",
       "      <td>NaN</td>\n",
       "      <td>NaN</td>\n",
       "      <td>NaN</td>\n",
       "      <td>NaN</td>\n",
       "    </tr>\n",
       "    <tr>\n",
       "      <th>1</th>\n",
       "      <td>NaN</td>\n",
       "      <td>NaN</td>\n",
       "      <td>NaN</td>\n",
       "      <td>1.0</td>\n",
       "      <td>NaN</td>\n",
       "      <td>f/NmvEzHfhINFEYZTR05prUdr+E+3+oewvweYz9cCQE=</td>\n",
       "      <td>NaN</td>\n",
       "      <td>NaN</td>\n",
       "      <td>NaN</td>\n",
       "      <td>NaN</td>\n",
       "    </tr>\n",
       "    <tr>\n",
       "      <th>2</th>\n",
       "      <td>NaN</td>\n",
       "      <td>NaN</td>\n",
       "      <td>NaN</td>\n",
       "      <td>1.0</td>\n",
       "      <td>NaN</td>\n",
       "      <td>zLo9f73nGGT1p21ltZC3ChiRnAVvgibMyazbCxvWPcg=</td>\n",
       "      <td>NaN</td>\n",
       "      <td>NaN</td>\n",
       "      <td>NaN</td>\n",
       "      <td>NaN</td>\n",
       "    </tr>\n",
       "    <tr>\n",
       "      <th>3</th>\n",
       "      <td>NaN</td>\n",
       "      <td>NaN</td>\n",
       "      <td>NaN</td>\n",
       "      <td>1.0</td>\n",
       "      <td>NaN</td>\n",
       "      <td>8iF/+8HY8lJKFrTc7iR9ZYGCG2Ecrogbc2Vy5YhsfhQ=</td>\n",
       "      <td>NaN</td>\n",
       "      <td>NaN</td>\n",
       "      <td>NaN</td>\n",
       "      <td>NaN</td>\n",
       "    </tr>\n",
       "    <tr>\n",
       "      <th>4</th>\n",
       "      <td>NaN</td>\n",
       "      <td>NaN</td>\n",
       "      <td>NaN</td>\n",
       "      <td>1.0</td>\n",
       "      <td>NaN</td>\n",
       "      <td>K6fja4+jmoZ5xG6BypqX80Uw/XKpMgrEMdG2edFOxnA=</td>\n",
       "      <td>NaN</td>\n",
       "      <td>NaN</td>\n",
       "      <td>NaN</td>\n",
       "      <td>NaN</td>\n",
       "    </tr>\n",
       "  </tbody>\n",
       "</table>\n",
       "</div>"
      ],
      "text/plain": [
       "   actual_amount_paid  is_auto_renew  is_cancel  is_churn  \\\n",
       "0                 NaN            NaN        NaN       1.0   \n",
       "1                 NaN            NaN        NaN       1.0   \n",
       "2                 NaN            NaN        NaN       1.0   \n",
       "3                 NaN            NaN        NaN       1.0   \n",
       "4                 NaN            NaN        NaN       1.0   \n",
       "\n",
       "   membership_expire_date                                          msno  \\\n",
       "0                     NaN  ugx0CjOMzazClkFzU2xasmDZaoIqOUAZPsH1q0teWCg=   \n",
       "1                     NaN  f/NmvEzHfhINFEYZTR05prUdr+E+3+oewvweYz9cCQE=   \n",
       "2                     NaN  zLo9f73nGGT1p21ltZC3ChiRnAVvgibMyazbCxvWPcg=   \n",
       "3                     NaN  8iF/+8HY8lJKFrTc7iR9ZYGCG2Ecrogbc2Vy5YhsfhQ=   \n",
       "4                     NaN  K6fja4+jmoZ5xG6BypqX80Uw/XKpMgrEMdG2edFOxnA=   \n",
       "\n",
       "   payment_method_id  payment_plan_days  plan_list_price  transaction_date  \n",
       "0                NaN                NaN              NaN               NaN  \n",
       "1                NaN                NaN              NaN               NaN  \n",
       "2                NaN                NaN              NaN               NaN  \n",
       "3                NaN                NaN              NaN               NaN  \n",
       "4                NaN                NaN              NaN               NaN  "
      ]
     },
     "execution_count": 19,
     "metadata": {},
     "output_type": "execute_result"
    }
   ],
   "source": [
    "df.reindex(idx)\n",
    "df.head()"
   ]
  },
  {
   "cell_type": "code",
   "execution_count": 20,
   "metadata": {},
   "outputs": [
    {
     "data": {
      "text/plain": [
       "(2401969, 10)"
      ]
     },
     "execution_count": 20,
     "metadata": {},
     "output_type": "execute_result"
    }
   ],
   "source": [
    "np.shape(df)"
   ]
  },
  {
   "cell_type": "code",
   "execution_count": 21,
   "metadata": {},
   "outputs": [],
   "source": [
    "df_ = pd.merge(df_train, df_trans, on=['msno'], how='inner')"
   ]
  },
  {
   "cell_type": "code",
   "execution_count": 22,
   "metadata": {},
   "outputs": [
    {
     "data": {
      "text/plain": [
       "(1132036, 10)"
      ]
     },
     "execution_count": 22,
     "metadata": {},
     "output_type": "execute_result"
    }
   ],
   "source": [
    "np.shape(df_)"
   ]
  },
  {
   "cell_type": "markdown",
   "metadata": {},
   "source": [
    "## Comment:\n",
    "\n",
    "mmm this means that the unique values between the merged tables (customers and their transactions) are 1132036 .. this is greater than the number of training data represents the customer which means that the same customer might made more than one transaction in this dataset ! .. \n",
    "\n",
    "let's confirm this understanding by checking the duplicate IDs in trans table .."
   ]
  },
  {
   "cell_type": "code",
   "execution_count": 23,
   "metadata": {},
   "outputs": [
    {
     "data": {
      "text/plain": [
       "True"
      ]
     },
     "execution_count": 23,
     "metadata": {},
     "output_type": "execute_result"
    }
   ],
   "source": [
    "df_trans.duplicated('msno').any()"
   ]
  },
  {
   "cell_type": "markdown",
   "metadata": {},
   "source": [
    "YES :D .. \n",
    "\n",
    "the interpertation above is probably correct :) .. \n",
    "\n",
    "the transactions dataset already contains duplicate rows ..  \n",
    "\n",
    "and in total the two tables collectevily have 2401969 rows .. \n",
    "\n",
    "one minute .. \n",
    "\n",
    "this collective number is not indicative ! .. as it is none sence to add ALL rows in ALL datasets .. also, the number of inner merging result indicates only those customer's whose transactions are in both datasets .. \n",
    "\n",
    "mmm we need a way to list ALL the customers whether they made a transaction reprted in transactions table or not .. \n",
    "this gonna be made using (left) outer join .. \n",
    "\n",
    "https://www.kaggle.com/rastaman/churn-or-no-churn-exploration-data-analysis"
   ]
  },
  {
   "cell_type": "code",
   "execution_count": 24,
   "metadata": {},
   "outputs": [
    {
     "data": {
      "text/plain": [
       "(1169418, 10)"
      ]
     },
     "execution_count": 24,
     "metadata": {},
     "output_type": "execute_result"
    }
   ],
   "source": [
    "df_train_trans = pd.merge(left = df_train,right = df_trans,how = 'left',on=['msno'])\n",
    "np.shape(df_train_trans)"
   ]
  },
  {
   "cell_type": "markdown",
   "metadata": {},
   "source": [
    "Hence, the total number of customers we gonna work on is 1169418 .. "
   ]
  },
  {
   "cell_type": "code",
   "execution_count": 25,
   "metadata": {},
   "outputs": [
    {
     "data": {
      "text/html": [
       "<div>\n",
       "<style>\n",
       "    .dataframe thead tr:only-child th {\n",
       "        text-align: right;\n",
       "    }\n",
       "\n",
       "    .dataframe thead th {\n",
       "        text-align: left;\n",
       "    }\n",
       "\n",
       "    .dataframe tbody tr th {\n",
       "        vertical-align: top;\n",
       "    }\n",
       "</style>\n",
       "<table border=\"1\" class=\"dataframe\">\n",
       "  <thead>\n",
       "    <tr style=\"text-align: right;\">\n",
       "      <th></th>\n",
       "      <th>msno</th>\n",
       "      <th>is_churn</th>\n",
       "      <th>payment_method_id</th>\n",
       "      <th>payment_plan_days</th>\n",
       "      <th>plan_list_price</th>\n",
       "      <th>actual_amount_paid</th>\n",
       "      <th>is_auto_renew</th>\n",
       "      <th>transaction_date</th>\n",
       "      <th>membership_expire_date</th>\n",
       "      <th>is_cancel</th>\n",
       "    </tr>\n",
       "  </thead>\n",
       "  <tbody>\n",
       "    <tr>\n",
       "      <th>0</th>\n",
       "      <td>ugx0CjOMzazClkFzU2xasmDZaoIqOUAZPsH1q0teWCg=</td>\n",
       "      <td>1</td>\n",
       "      <td>NaN</td>\n",
       "      <td>NaN</td>\n",
       "      <td>NaN</td>\n",
       "      <td>NaN</td>\n",
       "      <td>NaN</td>\n",
       "      <td>NaN</td>\n",
       "      <td>NaN</td>\n",
       "      <td>NaN</td>\n",
       "    </tr>\n",
       "    <tr>\n",
       "      <th>1</th>\n",
       "      <td>f/NmvEzHfhINFEYZTR05prUdr+E+3+oewvweYz9cCQE=</td>\n",
       "      <td>1</td>\n",
       "      <td>36.0</td>\n",
       "      <td>30.0</td>\n",
       "      <td>180.0</td>\n",
       "      <td>180.0</td>\n",
       "      <td>0.0</td>\n",
       "      <td>20170311.0</td>\n",
       "      <td>20170411.0</td>\n",
       "      <td>0.0</td>\n",
       "    </tr>\n",
       "    <tr>\n",
       "      <th>2</th>\n",
       "      <td>zLo9f73nGGT1p21ltZC3ChiRnAVvgibMyazbCxvWPcg=</td>\n",
       "      <td>1</td>\n",
       "      <td>17.0</td>\n",
       "      <td>60.0</td>\n",
       "      <td>0.0</td>\n",
       "      <td>0.0</td>\n",
       "      <td>0.0</td>\n",
       "      <td>20170311.0</td>\n",
       "      <td>20170314.0</td>\n",
       "      <td>0.0</td>\n",
       "    </tr>\n",
       "    <tr>\n",
       "      <th>3</th>\n",
       "      <td>zLo9f73nGGT1p21ltZC3ChiRnAVvgibMyazbCxvWPcg=</td>\n",
       "      <td>1</td>\n",
       "      <td>15.0</td>\n",
       "      <td>90.0</td>\n",
       "      <td>300.0</td>\n",
       "      <td>300.0</td>\n",
       "      <td>0.0</td>\n",
       "      <td>20170314.0</td>\n",
       "      <td>20170615.0</td>\n",
       "      <td>0.0</td>\n",
       "    </tr>\n",
       "    <tr>\n",
       "      <th>4</th>\n",
       "      <td>8iF/+8HY8lJKFrTc7iR9ZYGCG2Ecrogbc2Vy5YhsfhQ=</td>\n",
       "      <td>1</td>\n",
       "      <td>41.0</td>\n",
       "      <td>30.0</td>\n",
       "      <td>149.0</td>\n",
       "      <td>149.0</td>\n",
       "      <td>1.0</td>\n",
       "      <td>20150908.0</td>\n",
       "      <td>20170608.0</td>\n",
       "      <td>0.0</td>\n",
       "    </tr>\n",
       "  </tbody>\n",
       "</table>\n",
       "</div>"
      ],
      "text/plain": [
       "                                           msno  is_churn  payment_method_id  \\\n",
       "0  ugx0CjOMzazClkFzU2xasmDZaoIqOUAZPsH1q0teWCg=         1                NaN   \n",
       "1  f/NmvEzHfhINFEYZTR05prUdr+E+3+oewvweYz9cCQE=         1               36.0   \n",
       "2  zLo9f73nGGT1p21ltZC3ChiRnAVvgibMyazbCxvWPcg=         1               17.0   \n",
       "3  zLo9f73nGGT1p21ltZC3ChiRnAVvgibMyazbCxvWPcg=         1               15.0   \n",
       "4  8iF/+8HY8lJKFrTc7iR9ZYGCG2Ecrogbc2Vy5YhsfhQ=         1               41.0   \n",
       "\n",
       "   payment_plan_days  plan_list_price  actual_amount_paid  is_auto_renew  \\\n",
       "0                NaN              NaN                 NaN            NaN   \n",
       "1               30.0            180.0               180.0            0.0   \n",
       "2               60.0              0.0                 0.0            0.0   \n",
       "3               90.0            300.0               300.0            0.0   \n",
       "4               30.0            149.0               149.0            1.0   \n",
       "\n",
       "   transaction_date  membership_expire_date  is_cancel  \n",
       "0               NaN                     NaN        NaN  \n",
       "1        20170311.0              20170411.0        0.0  \n",
       "2        20170311.0              20170314.0        0.0  \n",
       "3        20170314.0              20170615.0        0.0  \n",
       "4        20150908.0              20170608.0        0.0  "
      ]
     },
     "execution_count": 25,
     "metadata": {},
     "output_type": "execute_result"
    }
   ],
   "source": [
    "df_train_trans.head()"
   ]
  },
  {
   "cell_type": "markdown",
   "metadata": {},
   "source": [
    "## Exploration of df_train_trans table: "
   ]
  },
  {
   "cell_type": "code",
   "execution_count": 26,
   "metadata": {},
   "outputs": [
    {
     "name": "stdout",
     "output_type": "stream",
     "text": [
      "<class 'pandas.core.frame.DataFrame'>\n",
      "Int64Index: 1169418 entries, 0 to 1169417\n",
      "Data columns (total 10 columns):\n",
      "msno                      1169418 non-null object\n",
      "is_churn                  1169418 non-null int64\n",
      "payment_method_id         1132036 non-null float64\n",
      "payment_plan_days         1132036 non-null float64\n",
      "plan_list_price           1132036 non-null float64\n",
      "actual_amount_paid        1132036 non-null float64\n",
      "is_auto_renew             1132036 non-null float64\n",
      "transaction_date          1132036 non-null float64\n",
      "membership_expire_date    1132036 non-null float64\n",
      "is_cancel                 1132036 non-null float64\n",
      "dtypes: float64(8), int64(1), object(1)\n",
      "memory usage: 98.1+ MB\n"
     ]
    }
   ],
   "source": [
    "df_train_trans.info()"
   ]
  },
  {
   "cell_type": "code",
   "execution_count": 27,
   "metadata": {},
   "outputs": [
    {
     "data": {
      "text/plain": [
       "(array([ 1026410.,        0.,        0.,        0.,        0.,        0.,\n",
       "               0.,        0.,        0.,   143008.]),\n",
       " array([ 0. ,  0.1,  0.2,  0.3,  0.4,  0.5,  0.6,  0.7,  0.8,  0.9,  1. ]),\n",
       " <a list of 10 Patch objects>)"
      ]
     },
     "execution_count": 27,
     "metadata": {},
     "output_type": "execute_result"
    },
    {
     "data": {
      "image/png": "[encoded data removed]",
      "text/plain": [
       "<matplotlib.figure.Figure at 0x7f390bdfc690>"
      ]
     },
     "metadata": {},
     "output_type": "display_data"
    }
   ],
   "source": [
    "plt.hist(df_train_trans['is_churn'])"
   ]
  },
  {
   "cell_type": "code",
   "execution_count": 28,
   "metadata": {},
   "outputs": [
    {
     "data": {
      "text/plain": [
       "Index([u'msno', u'is_churn'], dtype='object')"
      ]
     },
     "execution_count": 28,
     "metadata": {},
     "output_type": "execute_result"
    }
   ],
   "source": [
    "df_train.columns"
   ]
  },
  {
   "cell_type": "markdown",
   "metadata": {},
   "source": [
    "## Memebers Dataset:"
   ]
  },
  {
   "cell_type": "code",
   "execution_count": 29,
   "metadata": {},
   "outputs": [
    {
     "data": {
      "text/html": [
       "<div>\n",
       "<style>\n",
       "    .dataframe thead tr:only-child th {\n",
       "        text-align: right;\n",
       "    }\n",
       "\n",
       "    .dataframe thead th {\n",
       "        text-align: left;\n",
       "    }\n",
       "\n",
       "    .dataframe tbody tr th {\n",
       "        vertical-align: top;\n",
       "    }\n",
       "</style>\n",
       "<table border=\"1\" class=\"dataframe\">\n",
       "  <thead>\n",
       "    <tr style=\"text-align: right;\">\n",
       "      <th></th>\n",
       "      <th>msno</th>\n",
       "      <th>city</th>\n",
       "      <th>bd</th>\n",
       "      <th>gender</th>\n",
       "      <th>registered_via</th>\n",
       "      <th>registration_init_time</th>\n",
       "    </tr>\n",
       "  </thead>\n",
       "  <tbody>\n",
       "    <tr>\n",
       "      <th>0</th>\n",
       "      <td>Rb9UwLQTrxzBVwCB6+bCcSQWZ9JiNLC9dXtM1oEsZA8=</td>\n",
       "      <td>1</td>\n",
       "      <td>0</td>\n",
       "      <td>NaN</td>\n",
       "      <td>11</td>\n",
       "      <td>20110911</td>\n",
       "    </tr>\n",
       "    <tr>\n",
       "      <th>1</th>\n",
       "      <td>+tJonkh+O1CA796Fm5X60UMOtB6POHAwPjbTRVl/EuU=</td>\n",
       "      <td>1</td>\n",
       "      <td>0</td>\n",
       "      <td>NaN</td>\n",
       "      <td>7</td>\n",
       "      <td>20110914</td>\n",
       "    </tr>\n",
       "    <tr>\n",
       "      <th>2</th>\n",
       "      <td>cV358ssn7a0f7jZOwGNWS07wCKVqxyiImJUX6xcIwKw=</td>\n",
       "      <td>1</td>\n",
       "      <td>0</td>\n",
       "      <td>NaN</td>\n",
       "      <td>11</td>\n",
       "      <td>20110915</td>\n",
       "    </tr>\n",
       "    <tr>\n",
       "      <th>3</th>\n",
       "      <td>9bzDeJP6sQodK73K5CBlJ6fgIQzPeLnRl0p5B77XP+g=</td>\n",
       "      <td>1</td>\n",
       "      <td>0</td>\n",
       "      <td>NaN</td>\n",
       "      <td>11</td>\n",
       "      <td>20110915</td>\n",
       "    </tr>\n",
       "    <tr>\n",
       "      <th>4</th>\n",
       "      <td>WFLY3s7z4EZsieHCt63XrsdtfTEmJ+2PnnKLH5GY4Tk=</td>\n",
       "      <td>6</td>\n",
       "      <td>32</td>\n",
       "      <td>female</td>\n",
       "      <td>9</td>\n",
       "      <td>20110915</td>\n",
       "    </tr>\n",
       "  </tbody>\n",
       "</table>\n",
       "</div>"
      ],
      "text/plain": [
       "                                           msno  city  bd  gender  \\\n",
       "0  Rb9UwLQTrxzBVwCB6+bCcSQWZ9JiNLC9dXtM1oEsZA8=     1   0     NaN   \n",
       "1  +tJonkh+O1CA796Fm5X60UMOtB6POHAwPjbTRVl/EuU=     1   0     NaN   \n",
       "2  cV358ssn7a0f7jZOwGNWS07wCKVqxyiImJUX6xcIwKw=     1   0     NaN   \n",
       "3  9bzDeJP6sQodK73K5CBlJ6fgIQzPeLnRl0p5B77XP+g=     1   0     NaN   \n",
       "4  WFLY3s7z4EZsieHCt63XrsdtfTEmJ+2PnnKLH5GY4Tk=     6  32  female   \n",
       "\n",
       "   registered_via  registration_init_time  \n",
       "0              11                20110911  \n",
       "1               7                20110914  \n",
       "2              11                20110915  \n",
       "3              11                20110915  \n",
       "4               9                20110915  "
      ]
     },
     "execution_count": 29,
     "metadata": {},
     "output_type": "execute_result"
    }
   ],
   "source": [
    "df_members = pd.read_csv('members_v3.csv')\n",
    "df_members.head()"
   ]
  },
  {
   "cell_type": "markdown",
   "metadata": {},
   "source": [
    "Let's merge the two datasets .. train and members"
   ]
  },
  {
   "cell_type": "code",
   "execution_count": 30,
   "metadata": {},
   "outputs": [
    {
     "data": {
      "text/html": [
       "<div>\n",
       "<style>\n",
       "    .dataframe thead tr:only-child th {\n",
       "        text-align: right;\n",
       "    }\n",
       "\n",
       "    .dataframe thead th {\n",
       "        text-align: left;\n",
       "    }\n",
       "\n",
       "    .dataframe tbody tr th {\n",
       "        vertical-align: top;\n",
       "    }\n",
       "</style>\n",
       "<table border=\"1\" class=\"dataframe\">\n",
       "  <thead>\n",
       "    <tr style=\"text-align: right;\">\n",
       "      <th></th>\n",
       "      <th>msno</th>\n",
       "      <th>is_churn</th>\n",
       "      <th>city</th>\n",
       "      <th>bd</th>\n",
       "      <th>gender</th>\n",
       "      <th>registered_via</th>\n",
       "      <th>registration_init_time</th>\n",
       "    </tr>\n",
       "  </thead>\n",
       "  <tbody>\n",
       "    <tr>\n",
       "      <th>0</th>\n",
       "      <td>ugx0CjOMzazClkFzU2xasmDZaoIqOUAZPsH1q0teWCg=</td>\n",
       "      <td>1</td>\n",
       "      <td>5.0</td>\n",
       "      <td>28.0</td>\n",
       "      <td>male</td>\n",
       "      <td>3.0</td>\n",
       "      <td>20131223.0</td>\n",
       "    </tr>\n",
       "    <tr>\n",
       "      <th>1</th>\n",
       "      <td>f/NmvEzHfhINFEYZTR05prUdr+E+3+oewvweYz9cCQE=</td>\n",
       "      <td>1</td>\n",
       "      <td>13.0</td>\n",
       "      <td>20.0</td>\n",
       "      <td>male</td>\n",
       "      <td>3.0</td>\n",
       "      <td>20131223.0</td>\n",
       "    </tr>\n",
       "    <tr>\n",
       "      <th>2</th>\n",
       "      <td>zLo9f73nGGT1p21ltZC3ChiRnAVvgibMyazbCxvWPcg=</td>\n",
       "      <td>1</td>\n",
       "      <td>13.0</td>\n",
       "      <td>18.0</td>\n",
       "      <td>male</td>\n",
       "      <td>3.0</td>\n",
       "      <td>20131227.0</td>\n",
       "    </tr>\n",
       "    <tr>\n",
       "      <th>3</th>\n",
       "      <td>8iF/+8HY8lJKFrTc7iR9ZYGCG2Ecrogbc2Vy5YhsfhQ=</td>\n",
       "      <td>1</td>\n",
       "      <td>1.0</td>\n",
       "      <td>0.0</td>\n",
       "      <td>NaN</td>\n",
       "      <td>7.0</td>\n",
       "      <td>20140109.0</td>\n",
       "    </tr>\n",
       "    <tr>\n",
       "      <th>4</th>\n",
       "      <td>K6fja4+jmoZ5xG6BypqX80Uw/XKpMgrEMdG2edFOxnA=</td>\n",
       "      <td>1</td>\n",
       "      <td>13.0</td>\n",
       "      <td>35.0</td>\n",
       "      <td>female</td>\n",
       "      <td>7.0</td>\n",
       "      <td>20140125.0</td>\n",
       "    </tr>\n",
       "  </tbody>\n",
       "</table>\n",
       "</div>"
      ],
      "text/plain": [
       "                                           msno  is_churn  city    bd  gender  \\\n",
       "0  ugx0CjOMzazClkFzU2xasmDZaoIqOUAZPsH1q0teWCg=         1   5.0  28.0    male   \n",
       "1  f/NmvEzHfhINFEYZTR05prUdr+E+3+oewvweYz9cCQE=         1  13.0  20.0    male   \n",
       "2  zLo9f73nGGT1p21ltZC3ChiRnAVvgibMyazbCxvWPcg=         1  13.0  18.0    male   \n",
       "3  8iF/+8HY8lJKFrTc7iR9ZYGCG2Ecrogbc2Vy5YhsfhQ=         1   1.0   0.0     NaN   \n",
       "4  K6fja4+jmoZ5xG6BypqX80Uw/XKpMgrEMdG2edFOxnA=         1  13.0  35.0  female   \n",
       "\n",
       "   registered_via  registration_init_time  \n",
       "0             3.0              20131223.0  \n",
       "1             3.0              20131223.0  \n",
       "2             3.0              20131227.0  \n",
       "3             7.0              20140109.0  \n",
       "4             7.0              20140125.0  "
      ]
     },
     "execution_count": 30,
     "metadata": {},
     "output_type": "execute_result"
    }
   ],
   "source": [
    "df_train_member = pd.merge(left = df_train,right = df_members,how = 'left',on=['msno'])\n",
    "df_train_member.head()"
   ]
  },
  {
   "cell_type": "code",
   "execution_count": 31,
   "metadata": {},
   "outputs": [
    {
     "data": {
      "text/plain": [
       "(970960, 7)"
      ]
     },
     "execution_count": 31,
     "metadata": {},
     "output_type": "execute_result"
    }
   ],
   "source": [
    "np.shape(df_train_member)"
   ]
  },
  {
   "cell_type": "code",
   "execution_count": 32,
   "metadata": {},
   "outputs": [
    {
     "name": "stdout",
     "output_type": "stream",
     "text": [
      "% of no churn =  91.0058086842\n",
      "% of churn =  8.99419131581\n"
     ]
    }
   ],
   "source": [
    "print \"% of no churn = \", float(Counter(df_train_member['is_churn']).values()[0])/len(df_train_member)*100\n",
    "print \"% of churn = \", float(Counter(df_train_member['is_churn']).values()[1])/len(df_train_member)*100"
   ]
  },
  {
   "cell_type": "markdown",
   "metadata": {},
   "source": [
    "The same % of the original training data contains only list of customers and their corresponding churn flag "
   ]
  },
  {
   "cell_type": "markdown",
   "metadata": {},
   "source": [
    "## Changing the format of vars to the correct type .. \n",
    "\n",
    "stems from this notebook ==> \n",
    "\n",
    "https://www.kaggle.com/rastaman/churn-or-no-churn-exploration-data-analysis\n",
    "\n",
    "1. Changing the type of city, registered_via from float to int .. "
   ]
  },
  {
   "cell_type": "code",
   "execution_count": 33,
   "metadata": {},
   "outputs": [
    {
     "data": {
      "text/plain": [
       "0     5\n",
       "1    13\n",
       "2    13\n",
       "3     1\n",
       "4    13\n",
       "Name: city, dtype: object"
      ]
     },
     "execution_count": 33,
     "metadata": {},
     "output_type": "execute_result"
    }
   ],
   "source": [
    "df_train_member['city'] = df_train_member.city.apply(lambda x: int(x) if pd.notnull(x) else \"NAN\")\n",
    "df_train_member['city'].head()"
   ]
  },
  {
   "cell_type": "code",
   "execution_count": 34,
   "metadata": {},
   "outputs": [
    {
     "data": {
      "text/plain": [
       "0    3\n",
       "1    3\n",
       "2    3\n",
       "3    7\n",
       "4    7\n",
       "Name: registered_via, dtype: object"
      ]
     },
     "execution_count": 34,
     "metadata": {},
     "output_type": "execute_result"
    }
   ],
   "source": [
    "df_train_member['registered_via'] = df_train_member.registered_via.apply(lambda x: int(x) if pd.notnull(x) else \"NAN\")\n",
    "df_train_member['registered_via'].head()"
   ]
  },
  {
   "cell_type": "markdown",
   "metadata": {},
   "source": [
    "2. Changing the format of dates to date:"
   ]
  },
  {
   "cell_type": "code",
   "execution_count": 35,
   "metadata": {},
   "outputs": [],
   "source": [
    "df_train_member['registration_init_time'] = df_train_member.registration_init_time.apply(lambda x: datetime.strptime(str(int(x)), \"%Y%m%d\").date()\n",
    "                                                                                        if pd.notnull(x) else \"NAN\")"
   ]
  },
  {
   "cell_type": "code",
   "execution_count": 36,
   "metadata": {},
   "outputs": [
    {
     "data": {
      "text/plain": [
       "0    2013-12-23\n",
       "1    2013-12-23\n",
       "2    2013-12-27\n",
       "3    2014-01-09\n",
       "4    2014-01-25\n",
       "Name: registration_init_time, dtype: object"
      ]
     },
     "execution_count": 36,
     "metadata": {},
     "output_type": "execute_result"
    }
   ],
   "source": [
    "df_train_member['registration_init_time'].head()"
   ]
  },
  {
   "cell_type": "code",
   "execution_count": 37,
   "metadata": {},
   "outputs": [],
   "source": [
    "df_train_trans['membership_expire_date'] = df_train_trans.membership_expire_date.apply(lambda x: datetime.strptime(str(int(x)), \"%Y%m%d\").date()\n",
    "                                                                                        if pd.notnull(x) else \"NAN\")"
   ]
  },
  {
   "cell_type": "code",
   "execution_count": 38,
   "metadata": {},
   "outputs": [
    {
     "data": {
      "text/plain": [
       "0           NAN\n",
       "1    2017-04-11\n",
       "2    2017-03-14\n",
       "3    2017-06-15\n",
       "4    2017-06-08\n",
       "Name: membership_expire_date, dtype: object"
      ]
     },
     "execution_count": 38,
     "metadata": {},
     "output_type": "execute_result"
    }
   ],
   "source": [
    "df_train_trans['membership_expire_date'].head()"
   ]
  },
  {
   "cell_type": "markdown",
   "metadata": {},
   "source": [
    "## Data Viz:"
   ]
  },
  {
   "cell_type": "markdown",
   "metadata": {},
   "source": [
    "## 1. Members dataset .. \n"
   ]
  },
  {
   "cell_type": "code",
   "execution_count": 39,
   "metadata": {},
   "outputs": [
    {
     "data": {
      "text/plain": [
       "Text(0.5,1,u'Frequency of City Count in Members Data Set')"
      ]
     },
     "execution_count": 39,
     "metadata": {},
     "output_type": "execute_result"
    },
    {
     "data": {
      "image/png": "[encoded data removed]",
      "text/plain": [
       "<matplotlib.figure.Figure at 0x7f390bdfcc50>"
      ]
     },
     "metadata": {},
     "output_type": "display_data"
    }
   ],
   "source": [
    "# City \n",
    "\n",
    "plt.figure(figsize=(12,12))\n",
    "plt.subplot(311)\n",
    "sns.countplot(x=\"city\", data = df_members)\n",
    "\n",
    "plt.ylabel('Count', fontsize=12)\n",
    "plt.xlabel('City', fontsize=12)\n",
    "plt.title(\"Frequency of City Count in Members Data Set\", fontsize=12)"
   ]
  },
  {
   "cell_type": "code",
   "execution_count": 40,
   "metadata": {},
   "outputs": [
    {
     "data": {
      "text/plain": [
       "[(1, 4804326),\n",
       " (5, 385069),\n",
       " (13, 320978),\n",
       " (4, 246848),\n",
       " (22, 210407),\n",
       " (15, 190213),\n",
       " (6, 135200),\n",
       " (14, 89940),\n",
       " (12, 66843),\n",
       " (9, 47639),\n",
       " (11, 47489),\n",
       " (8, 45975),\n",
       " (18, 38039),\n",
       " (10, 32482),\n",
       " (21, 30837),\n",
       " (17, 27772),\n",
       " (3, 27282),\n",
       " (7, 11610),\n",
       " (16, 5092),\n",
       " (20, 4233),\n",
       " (19, 1199)]"
      ]
     },
     "execution_count": 40,
     "metadata": {},
     "output_type": "execute_result"
    }
   ],
   "source": [
    "city_count = Counter(df_members['city']).most_common()\n",
    "city_count"
   ]
  },
  {
   "cell_type": "markdown",
   "metadata": {},
   "source": [
    "The highest number of members are in the 1st city .. followed by city # 5 and luckily we don't have NANs here ;) "
   ]
  },
  {
   "cell_type": "code",
   "execution_count": 41,
   "metadata": {},
   "outputs": [
    {
     "data": {
      "text/plain": [
       "Text(0.5,1,u'Frequency of Registered Via Count in Members Data Set')"
      ]
     },
     "execution_count": 41,
     "metadata": {},
     "output_type": "execute_result"
    },
    {
     "data": {
      "image/png": "[encoded data removed]",
      "text/plain": [
       "<matplotlib.figure.Figure at 0x7f3883f40510>"
      ]
     },
     "metadata": {},
     "output_type": "display_data"
    }
   ],
   "source": [
    "#Registered\n",
    "\n",
    "#adjust the plotting area settings \n",
    "plt.figure(figsize=(12,12))\n",
    "plt.subplot(312)\n",
    "\n",
    "sns.countplot(x=\"registered_via\", data = df_members)\n",
    "plt.ylabel('Count', fontsize=12)\n",
    "plt.xlabel('Registered Via', fontsize=12)\n",
    "plt.title(\"Frequency of Registered Via Count in Members Data Set\", fontsize=12)"
   ]
  },
  {
   "cell_type": "code",
   "execution_count": 42,
   "metadata": {},
   "outputs": [
    {
     "data": {
      "text/plain": [
       "[(4, 2793213),\n",
       " (3, 1643208),\n",
       " (9, 1482863),\n",
       " (7, 805895),\n",
       " (11, 25047),\n",
       " (13, 5455),\n",
       " (8, 3982),\n",
       " (5, 3115),\n",
       " (17, 1494),\n",
       " (2, 1452),\n",
       " (6, 1213),\n",
       " (19, 974),\n",
       " (16, 888),\n",
       " (14, 615),\n",
       " (1, 43),\n",
       " (10, 10),\n",
       " (18, 5),\n",
       " (-1, 1)]"
      ]
     },
     "execution_count": 42,
     "metadata": {},
     "output_type": "execute_result"
    }
   ],
   "source": [
    "reg_count = Counter(df_members['registered_via']).most_common()\n",
    "reg_count"
   ]
  },
  {
   "cell_type": "code",
   "execution_count": 43,
   "metadata": {},
   "outputs": [
    {
     "data": {
      "text/plain": [
       "Text(0.5,1,u'Frequency of Gender Count in Members Data Set')"
      ]
     },
     "execution_count": 43,
     "metadata": {},
     "output_type": "execute_result"
    },
    {
     "data": {
      "image/png": "[encoded data removed]",
      "text/plain": [
       "<matplotlib.figure.Figure at 0x7f3883e9b2d0>"
      ]
     },
     "metadata": {},
     "output_type": "display_data"
    }
   ],
   "source": [
    "#Gender\n",
    "\n",
    "plt.figure(figsize=(12,12))\n",
    "plt.subplot(313)\n",
    "\n",
    "gender__ = df_members['gender'].unique()\n",
    "sns.countplot(x = \"gender\", data = df_members, order = gender__)\n",
    "\n",
    "plt.ylabel('Count', fontsize=12)\n",
    "plt.xlabel('Gender', fontsize=12)\n",
    "plt.title(\"Frequency of Gender Count in Members Data Set\", fontsize=12)"
   ]
  },
  {
   "cell_type": "code",
   "execution_count": 44,
   "metadata": {},
   "outputs": [
    {
     "data": {
      "text/plain": [
       "[(nan, 4429505), ('male', 1195355), ('female', 1144613)]"
      ]
     },
     "execution_count": 44,
     "metadata": {},
     "output_type": "execute_result"
    }
   ],
   "source": [
    "gender_count = Counter(df_members['gender']).most_common()\n",
    "gender_count"
   ]
  },
  {
   "cell_type": "markdown",
   "metadata": {},
   "source": [
    "## 2. Merged dataset ..\n",
    "Train + members .."
   ]
  },
  {
   "cell_type": "code",
   "execution_count": 45,
   "metadata": {},
   "outputs": [
    {
     "data": {
      "text/plain": [
       "Text(0.5,1,u'Frequency of City Count')"
      ]
     },
     "execution_count": 45,
     "metadata": {},
     "output_type": "execute_result"
    },
    {
     "data": {
      "image/png": "[encoded data removed]",
      "text/plain": [
       "<matplotlib.figure.Figure at 0x7f3883e9b7d0>"
      ]
     },
     "metadata": {},
     "output_type": "display_data"
    }
   ],
   "source": [
    "plt.figure(figsize=(12,12))\n",
    "plt.subplot(411)\n",
    "city_order = df_train_member['city'].unique()  ## extract unique vals\n",
    "city_order=sorted(city_order, key=lambda x: float(x))\n",
    "sns.countplot(x=\"city\", data=df_train_member, order = city_order)\n",
    "plt.ylabel('Count', fontsize=12)\n",
    "plt.xlabel('City', fontsize=12)\n",
    "plt.title(\"Frequency of City Count\", fontsize=12)"
   ]
  },
  {
   "cell_type": "markdown",
   "metadata": {},
   "source": [
    "Print every city and its corresponding count .. [ordered]\n",
    "\n",
    "There is no City # 2 in this dataset ! :S .. \n",
    "and they are in total 21 city .. "
   ]
  },
  {
   "cell_type": "code",
   "execution_count": 46,
   "metadata": {},
   "outputs": [
    {
     "name": "stdout",
     "output_type": "stream",
     "text": [
      "City Count [(1, 442598), ('NAN', 109993), (13, 97136), (5, 70706), (4, 47227), (15, 43187), (22, 41991), (6, 26066), (14, 20013), (12, 11383), (9, 9526), (11, 9138), (18, 7792), (8, 7589), (10, 6470), (17, 5476), (21, 5199), (3, 5057), (7, 2652), (16, 944), (20, 677), (19, 140)]\n"
     ]
    }
   ],
   "source": [
    "city_count = Counter(df_train_member['city']).most_common()\n",
    "print(\"City Count \" +str(city_count))"
   ]
  },
  {
   "cell_type": "markdown",
   "metadata": {},
   "source": [
    "The 1st city has the highest number of people .. followed by the NANs :S .. \n",
    "\n",
    "these are sad news as NANs are empty cells :S :S .."
   ]
  },
  {
   "cell_type": "code",
   "execution_count": 47,
   "metadata": {},
   "outputs": [
    {
     "data": {
      "text/plain": [
       "Text(0.5,1,u'Frequency of Registered Via Count')"
      ]
     },
     "execution_count": 47,
     "metadata": {},
     "output_type": "execute_result"
    },
    {
     "data": {
      "image/png": "[encoded data removed]",
      "text/plain": [
       "<matplotlib.figure.Figure at 0x7f3883d6bb10>"
      ]
     },
     "metadata": {},
     "output_type": "display_data"
    }
   ],
   "source": [
    "#Registered Via Count\n",
    "plt.figure(figsize=(12,12))\n",
    "plt.subplot(412)\n",
    "R_V_order = df_train_member['registered_via'].unique()\n",
    "R_V_order = sorted(R_V_order, key=lambda x: str(x))\n",
    "# R_V_order = sorted(R_V_order, key=lambda x: float(x))\n",
    "sns.countplot(x=\"registered_via\", data=df_train_member,order = R_V_order)\n",
    "plt.ylabel('Count', fontsize=12)\n",
    "plt.xlabel('Registered Via', fontsize=12)\n",
    "plt.title(\"Frequency of Registered Via Count\", fontsize=12)"
   ]
  },
  {
   "cell_type": "code",
   "execution_count": 48,
   "metadata": {},
   "outputs": [
    {
     "data": {
      "text/plain": [
       "[(7, 462684),\n",
       " (9, 235689),\n",
       " ('NAN', 109993),\n",
       " (3, 106459),\n",
       " (4, 52744),\n",
       " (13, 3391)]"
      ]
     },
     "execution_count": 48,
     "metadata": {},
     "output_type": "execute_result"
    }
   ],
   "source": [
    "RV_count = Counter(df_train_member['registered_via']).most_common()\n",
    "RV_count"
   ]
  },
  {
   "cell_type": "markdown",
   "metadata": {},
   "source": [
    "Registeration count is at its max. value at 7 .. then 9 .. and unfortunately, followed by NANs"
   ]
  },
  {
   "cell_type": "code",
   "execution_count": 49,
   "metadata": {},
   "outputs": [
    {
     "data": {
      "text/plain": [
       "Text(0.5,1,u'Frequency of Gender Count')"
      ]
     },
     "execution_count": 49,
     "metadata": {},
     "output_type": "execute_result"
    },
    {
     "data": {
      "image/png": "[encoded data removed]",
      "text/plain": [
       "<matplotlib.figure.Figure at 0x7f3883c829d0>"
      ]
     },
     "metadata": {},
     "output_type": "display_data"
    }
   ],
   "source": [
    "#Gender count\n",
    "plt.figure(figsize=(12,12))\n",
    "plt.subplot(413)\n",
    "gender_ = df_train_member['gender'].unique()\n",
    "sns.countplot(x = \"gender\", data = df_train_member, order = gender_)\n",
    "plt.ylabel('Count', fontsize=12)\n",
    "plt.xlabel('Gender', fontsize=12)\n",
    "plt.title(\"Frequency of Gender Count\", fontsize=12)"
   ]
  },
  {
   "cell_type": "code",
   "execution_count": 50,
   "metadata": {},
   "outputs": [
    {
     "data": {
      "text/plain": [
       "[(nan, 582055), ('male', 204561), ('female', 184344)]"
      ]
     },
     "execution_count": 50,
     "metadata": {},
     "output_type": "execute_result"
    }
   ],
   "source": [
    "gender_count = Counter(df_train_member['gender']).most_common()\n",
    "gender_count"
   ]
  },
  {
   "cell_type": "markdown",
   "metadata": {},
   "source": [
    "Males are higher than females .. However, the larger portion is NAs 582055 .. "
   ]
  },
  {
   "cell_type": "code",
   "execution_count": 51,
   "metadata": {},
   "outputs": [
    {
     "data": {
      "text/plain": [
       "(True, 582055)"
      ]
     },
     "execution_count": 51,
     "metadata": {},
     "output_type": "execute_result"
    }
   ],
   "source": [
    "df_train_member['gender'].isnull().any().any(), df_train_member['gender'].isnull().sum()"
   ]
  },
  {
   "cell_type": "markdown",
   "metadata": {},
   "source": [
    "3. Registration_init_time \n",
    "\n",
    "Let's make data exploration for this variable .. by extracting the 'Year' part and analyze it ! "
   ]
  },
  {
   "cell_type": "code",
   "execution_count": 52,
   "metadata": {},
   "outputs": [
    {
     "data": {
      "text/plain": [
       "array([ 2013.,  2014.,    nan,  2015.,  2016.,  2017.,  2004.,  2005.,\n",
       "        2006.,  2007.,  2008.,  2009.,  2010.,  2011.,  2012.])"
      ]
     },
     "execution_count": 52,
     "metadata": {},
     "output_type": "execute_result"
    }
   ],
   "source": [
    "df_train_member['registration_init_time_year'] = pd.DatetimeIndex(df_train_member['registration_init_time']).year\n",
    "df_train_member['registration_init_time_year'].unique()"
   ]
  },
  {
   "cell_type": "code",
   "execution_count": 53,
   "metadata": {},
   "outputs": [
    {
     "data": {
      "text/plain": [
       "0    2013\n",
       "1    2013\n",
       "2    2013\n",
       "3    2014\n",
       "4    2014\n",
       "Name: registration_init_time_year, dtype: object"
      ]
     },
     "execution_count": 53,
     "metadata": {},
     "output_type": "execute_result"
    }
   ],
   "source": [
    "df_train_member['registration_init_time_year'] = df_train_member.registration_init_time_year.apply(lambda x: int(x) if pd.notnull(x) else \"NAN\" )\n",
    "df_train_member['registration_init_time_year'].head()"
   ]
  },
  {
   "cell_type": "code",
   "execution_count": 54,
   "metadata": {},
   "outputs": [
    {
     "data": {
      "text/plain": [
       "2016    195184\n",
       "2015    154376\n",
       "2013    113444\n",
       "NAN     109993\n",
       "2014     89332\n",
       "2012     74495\n",
       "2011     60698\n",
       "2010     38640\n",
       "2017     33230\n",
       "2007     26158\n",
       "2006     18048\n",
       "2008     17685\n",
       "2009     15731\n",
       "2005     15616\n",
       "2004      8330\n",
       "Name: registration_init_time_year, dtype: int64"
      ]
     },
     "execution_count": 54,
     "metadata": {},
     "output_type": "execute_result"
    }
   ],
   "source": [
    "year_count = df_train_member['registration_init_time_year'].value_counts()\n",
    "year_count"
   ]
  },
  {
   "cell_type": "code",
   "execution_count": 55,
   "metadata": {},
   "outputs": [
    {
     "data": {
      "text/plain": [
       "Text(0.5,1,u'Yearly Trend of registration_init_time')"
      ]
     },
     "execution_count": 55,
     "metadata": {},
     "output_type": "execute_result"
    },
    {
     "data": {
      "image/png": "[encoded data removed]",
      "text/plain": [
       "<matplotlib.figure.Figure at 0x7f3883e5d050>"
      ]
     },
     "metadata": {},
     "output_type": "display_data"
    }
   ],
   "source": [
    "plt.figure(figsize=(12,12))\n",
    "plt.subplot(311)\n",
    "year_order = df_train_member['registration_init_time_year'].unique()\n",
    "year_order=sorted(year_order, key=lambda x: str(x))\n",
    "sns.barplot(year_count.index, year_count.values, order = year_order)\n",
    "plt.xlabel('Year')\n",
    "plt.ylabel('Count')\n",
    "plt.title(\"Yearly Trend of registration_init_time\", fontsize=12)"
   ]
  },
  {
   "cell_type": "markdown",
   "metadata": {},
   "source": [
    "There is an increasing trend in the registeration yearly .. \n",
    "\n",
    "except a drop in 2014 and again in 2017 .. "
   ]
  },
  {
   "cell_type": "code",
   "execution_count": 56,
   "metadata": {},
   "outputs": [
    {
     "data": {
      "text/plain": [
       "[(2016, 195184),\n",
       " (2015, 154376),\n",
       " (2013, 113444),\n",
       " ('NAN', 109993),\n",
       " (2014, 89332),\n",
       " (2012, 74495),\n",
       " (2011, 60698),\n",
       " (2010, 38640),\n",
       " (2017, 33230),\n",
       " (2007, 26158),\n",
       " (2006, 18048),\n",
       " (2008, 17685),\n",
       " (2009, 15731),\n",
       " (2005, 15616),\n",
       " (2004, 8330)]"
      ]
     },
     "execution_count": 56,
     "metadata": {},
     "output_type": "execute_result"
    }
   ],
   "source": [
    "year_count_2 = Counter(df_train_member['registration_init_time_year']).most_common()\n",
    "year_count_2"
   ]
  },
  {
   "cell_type": "markdown",
   "metadata": {},
   "source": [
    "the year that has the highest init count is 2016 with 195184 member .. \n",
    "followed by 2015 with 154376 member .. \n",
    "\n",
    "NAN count ranked 4th .. which is a huge number !\n",
    "\n",
    "Let's check the count in Month level .. "
   ]
  },
  {
   "cell_type": "code",
   "execution_count": 57,
   "metadata": {},
   "outputs": [
    {
     "data": {
      "text/plain": [
       "array([ 12.,   1.,   2.,   3.,   4.,   5.,   6.,   7.,   8.,  nan,   9.,\n",
       "        10.,  11.])"
      ]
     },
     "execution_count": 57,
     "metadata": {},
     "output_type": "execute_result"
    }
   ],
   "source": [
    "df_train_member['registration_init_time_month'] = pd.DatetimeIndex(df_train_member['registration_init_time']).month\n",
    "df_train_member['registration_init_time_month'].unique()"
   ]
  },
  {
   "cell_type": "code",
   "execution_count": 58,
   "metadata": {},
   "outputs": [
    {
     "data": {
      "text/plain": [
       "0    12\n",
       "1    12\n",
       "2    12\n",
       "3     1\n",
       "4     1\n",
       "Name: registration_init_time_month, dtype: object"
      ]
     },
     "execution_count": 58,
     "metadata": {},
     "output_type": "execute_result"
    }
   ],
   "source": [
    "df_train_member['registration_init_time_month'] = df_train_member.registration_init_time_month.apply(lambda x: int(x) if pd.notnull(x) else \"NAN\" )\n",
    "df_train_member['registration_init_time_month'].head()"
   ]
  },
  {
   "cell_type": "code",
   "execution_count": 59,
   "metadata": {},
   "outputs": [
    {
     "data": {
      "text/plain": [
       "NAN    109993\n",
       "1       89640\n",
       "2       85628\n",
       "12      81230\n",
       "10      80528\n",
       "11      77988\n",
       "8       75068\n",
       "7       73204\n",
       "9       67985\n",
       "3       65938\n",
       "6       58582\n",
       "5       55444\n",
       "4       49732\n",
       "Name: registration_init_time_month, dtype: int64"
      ]
     },
     "execution_count": 59,
     "metadata": {},
     "output_type": "execute_result"
    }
   ],
   "source": [
    "month_count = df_train_member['registration_init_time_month'].value_counts()\n",
    "month_count"
   ]
  },
  {
   "cell_type": "code",
   "execution_count": 60,
   "metadata": {},
   "outputs": [
    {
     "data": {
      "text/plain": [
       "Text(0.5,1,u'Monthly Trend of registration_init_time')"
      ]
     },
     "execution_count": 60,
     "metadata": {},
     "output_type": "execute_result"
    },
    {
     "data": {
      "image/png": "[encoded data removed]",
      "text/plain": [
       "<matplotlib.figure.Figure at 0x7f3883ba80d0>"
      ]
     },
     "metadata": {},
     "output_type": "display_data"
    }
   ],
   "source": [
    "plt.figure(figsize=(12,12))\n",
    "plt.subplot(311)\n",
    "month_order = df_train_member['registration_init_time_month'].unique()\n",
    "month_order=sorted(year_order, key=lambda x: str(x))\n",
    "sns.barplot(year_count.index, year_count.values, order = month_order)\n",
    "plt.xlabel('Month')\n",
    "plt.ylabel('Count')\n",
    "plt.title(\"Monthly Trend of registration_init_time\", fontsize=12)"
   ]
  },
  {
   "cell_type": "markdown",
   "metadata": {},
   "source": [
    "Registeration monthly are higher in the beginning and end of the year .. however, in between have fewer number of registeration .. "
   ]
  },
  {
   "cell_type": "code",
   "execution_count": 61,
   "metadata": {},
   "outputs": [
    {
     "data": {
      "text/plain": [
       "[('NAN', 109993),\n",
       " (1, 89640),\n",
       " (2, 85628),\n",
       " (12, 81230),\n",
       " (10, 80528),\n",
       " (11, 77988),\n",
       " (8, 75068),\n",
       " (7, 73204),\n",
       " (9, 67985),\n",
       " (3, 65938),\n",
       " (6, 58582),\n",
       " (5, 55444),\n",
       " (4, 49732)]"
      ]
     },
     "execution_count": 61,
     "metadata": {},
     "output_type": "execute_result"
    }
   ],
   "source": [
    "month_count_2 = Counter(df_train_member['registration_init_time_month']).most_common()\n",
    "month_count_2"
   ]
  },
  {
   "cell_type": "markdown",
   "metadata": {},
   "source": [
    "mmmm the highest count is related to NANs !! :S .. \n",
    "\n",
    "followed by Jan, then Feb and April has the least count .. \n",
    "\n",
    "Let's check the trends per day ..  "
   ]
  },
  {
   "cell_type": "code",
   "execution_count": 62,
   "metadata": {},
   "outputs": [
    {
     "data": {
      "text/plain": [
       "array(['Monday', 'Friday', 'Thursday', 'Saturday', 'Sunday', 'Wednesday',\n",
       "       'Tuesday', nan], dtype=object)"
      ]
     },
     "execution_count": 62,
     "metadata": {},
     "output_type": "execute_result"
    }
   ],
   "source": [
    "df_train_member['registration_init_time_day'] = pd.DatetimeIndex(df_train_member['registration_init_time']).weekday_name\n",
    "df_train_member['registration_init_time_day'].unique()"
   ]
  },
  {
   "cell_type": "code",
   "execution_count": 63,
   "metadata": {},
   "outputs": [
    {
     "data": {
      "text/plain": [
       "Saturday     139268\n",
       "Friday       123638\n",
       "Sunday       122187\n",
       "Monday       119893\n",
       "Tuesday      119784\n",
       "Thursday     118881\n",
       "Wednesday    117316\n",
       "Name: registration_init_time_day, dtype: int64"
      ]
     },
     "execution_count": 63,
     "metadata": {},
     "output_type": "execute_result"
    }
   ],
   "source": [
    "day_count = df_train_member['registration_init_time_day'].value_counts()\n",
    "day_count"
   ]
  },
  {
   "cell_type": "code",
   "execution_count": 64,
   "metadata": {},
   "outputs": [
    {
     "data": {
      "text/plain": [
       "Text(0.5,1,u'Daily Trend of registration_init_time')"
      ]
     },
     "execution_count": 64,
     "metadata": {},
     "output_type": "execute_result"
    },
    {
     "data": {
      "image/png": "[encoded data removed]",
      "text/plain": [
       "<matplotlib.figure.Figure at 0x7f3883a90c50>"
      ]
     },
     "metadata": {},
     "output_type": "display_data"
    }
   ],
   "source": [
    "plt.figure(figsize=(12,12))\n",
    "plt.subplot(311)\n",
    "day_order = df_train_member['registration_init_time_day'].unique()\n",
    "day_order=sorted(day_order, key=lambda x: str(x))\n",
    "sns.barplot(day_count.index, day_count.values, order = day_order)\n",
    "plt.xlabel('Day')\n",
    "plt.ylabel('Count')\n",
    "plt.title(\"Daily Trend of registration_init_time\", fontsize=12)"
   ]
  },
  {
   "cell_type": "code",
   "execution_count": 65,
   "metadata": {},
   "outputs": [
    {
     "data": {
      "text/plain": [
       "[('Saturday', 139268),\n",
       " ('Friday', 123638),\n",
       " ('Sunday', 122187),\n",
       " ('Monday', 119893),\n",
       " ('Tuesday', 119784),\n",
       " ('Thursday', 118881),\n",
       " ('Wednesday', 117316),\n",
       " (nan, 109993)]"
      ]
     },
     "execution_count": 65,
     "metadata": {},
     "output_type": "execute_result"
    }
   ],
   "source": [
    "day_count_2 = Counter(df_train_member['registration_init_time_day']).most_common()\n",
    "day_count_2"
   ]
  },
  {
   "cell_type": "markdown",
   "metadata": {},
   "source": [
    "The peak is on Sat. followed by Friday .. luckily the number of NANs in this dataset is smaller .. \n",
    "\n",
    "This means that registerations have peaks in the weekend than in weekdays .. \n",
    "\n",
    "## Conclusion:\n",
    "\n",
    "1. In general members - city data is cleaner then the merged dataset .. as it doesn't contain NANs \n",
    "2. Same case with \"Registered\" dataset .. and there are many \"registered via\" missing in the merged dataset\n",
    "3. Number of missing data in Members dataset is larger then the merged dataset however, the gap between number of males and females is less"
   ]
  },
  {
   "cell_type": "markdown",
   "metadata": {},
   "source": [
    "## Birthdate column:"
   ]
  },
  {
   "cell_type": "code",
   "execution_count": 66,
   "metadata": {},
   "outputs": [
    {
     "data": {
      "text/plain": [
       "(0.0     473729\n",
       " 27.0     22786\n",
       " 26.0     21829\n",
       " Name: bd, dtype: int64,  1022.0    1\n",
       "  837.0     1\n",
       " -38.0      1\n",
       " Name: bd, dtype: int64)"
      ]
     },
     "execution_count": 66,
     "metadata": {},
     "output_type": "execute_result"
    }
   ],
   "source": [
    "birth_date = df_train_member['bd'].value_counts()\n",
    "birth_date.head(3), birth_date.tail(3)"
   ]
  },
  {
   "cell_type": "markdown",
   "metadata": {},
   "source": [
    "mmm there is something wrong ! ..\n",
    "\n",
    "The birthday contains negative numbers ! .. and the highest count is in birthday of ZERO ! .."
   ]
  },
  {
   "cell_type": "code",
   "execution_count": 67,
   "metadata": {},
   "outputs": [
    {
     "data": {
      "text/plain": [
       "[(0, 473729),\n",
       " ('NAN', 109993),\n",
       " (27, 22786),\n",
       " (26, 21829),\n",
       " (25, 20651),\n",
       " (24, 20296),\n",
       " (28, 20244),\n",
       " (29, 19533),\n",
       " (23, 19238),\n",
       " (22, 18035),\n",
       " (30, 17175),\n",
       " (21, 15633),\n",
       " (31, 15123),\n",
       " (32, 14406),\n",
       " (20, 13678),\n",
       " (33, 13229),\n",
       " (34, 12154),\n",
       " (35, 10959),\n",
       " (36, 9985),\n",
       " (19, 9861),\n",
       " (37, 8858),\n",
       " (18, 8207),\n",
       " (38, 7679),\n",
       " (39, 6651),\n",
       " (17, 5913),\n",
       " (40, 5663),\n",
       " (41, 5221),\n",
       " (42, 4305),\n",
       " (43, 3723),\n",
       " (44, 3266),\n",
       " (46, 3015),\n",
       " (45, 3010),\n",
       " (47, 2889),\n",
       " (16, 2544),\n",
       " (48, 2539),\n",
       " (49, 2320),\n",
       " (50, 2027),\n",
       " (51, 1970),\n",
       " (52, 1748),\n",
       " (53, 1445),\n",
       " (54, 1159),\n",
       " (55, 1021),\n",
       " (15, 848),\n",
       " (56, 844),\n",
       " (57, 736),\n",
       " (58, 541),\n",
       " (59, 510),\n",
       " (60, 455),\n",
       " (61, 390),\n",
       " (62, 309),\n",
       " (14, 282),\n",
       " (63, 258),\n",
       " (64, 193),\n",
       " (65, 171),\n",
       " (66, 147),\n",
       " (67, 140),\n",
       " (68, 90),\n",
       " (106, 81),\n",
       " (69, 67),\n",
       " (117, 65),\n",
       " (13, 63),\n",
       " (70, 57),\n",
       " (112, 52),\n",
       " (72, 42),\n",
       " (71, 40),\n",
       " (73, 37),\n",
       " (74, 31),\n",
       " (77, 30),\n",
       " (12, 23),\n",
       " (75, 23),\n",
       " (76, 23),\n",
       " (102, 23),\n",
       " (84, 22),\n",
       " (1, 21),\n",
       " (105, 21),\n",
       " (95, 19),\n",
       " (91, 18),\n",
       " (5, 16),\n",
       " (89, 16),\n",
       " (6, 15),\n",
       " (103, 15),\n",
       " (92, 14),\n",
       " (101, 14),\n",
       " (104, 14),\n",
       " (107, 14),\n",
       " (7, 13),\n",
       " (81, 13),\n",
       " (79, 13),\n",
       " (78, 12),\n",
       " (10, 11),\n",
       " (97, 11),\n",
       " (100, 11),\n",
       " (4, 10),\n",
       " (80, 10),\n",
       " (83, 10),\n",
       " (90, 10),\n",
       " (94, 10),\n",
       " (2, 9),\n",
       " (3, 9),\n",
       " (11, 9),\n",
       " (93, 9),\n",
       " (98, 9),\n",
       " (87, 9),\n",
       " (1032, 8),\n",
       " (86, 8),\n",
       " (96, 8),\n",
       " (-51, 8),\n",
       " (82, 7),\n",
       " (88, 7),\n",
       " (111, 7),\n",
       " (-49, 7),\n",
       " (-48, 7),\n",
       " (1033, 6),\n",
       " (85, 6),\n",
       " (109, 6),\n",
       " (9, 6),\n",
       " (-50, 6),\n",
       " (-42, 5),\n",
       " (116, 4),\n",
       " (1030, 4),\n",
       " (8, 4),\n",
       " (1031, 4),\n",
       " (1037, 3),\n",
       " (110, 3),\n",
       " (1043, 3),\n",
       " (119, 3),\n",
       " (122, 3),\n",
       " (128, 3),\n",
       " (1029, 3),\n",
       " (-47, 3),\n",
       " (-45, 3),\n",
       " (-44, 3),\n",
       " (-43, 3),\n",
       " (99, 2),\n",
       " (113, 2),\n",
       " (139, 2),\n",
       " (153, 2),\n",
       " (1028, 2),\n",
       " (1052, 2),\n",
       " (1041, 2),\n",
       " (220, 2),\n",
       " (-41, 2),\n",
       " (1820, 2),\n",
       " (1034, 2),\n",
       " (1035, 2),\n",
       " (1036, 2),\n",
       " (931, 2),\n",
       " (941, 2),\n",
       " (948, 2),\n",
       " (950, 2),\n",
       " (1038, 2),\n",
       " (-46, 2),\n",
       " (-40, 2),\n",
       " (-39, 2),\n",
       " (-34, 2),\n",
       " (1111, 1),\n",
       " (120, 1),\n",
       " (121, 1),\n",
       " (123, 1),\n",
       " (-3152, 1),\n",
       " (1042, 1),\n",
       " (126, 1),\n",
       " (129, 1),\n",
       " (130, 1),\n",
       " (131, 1),\n",
       " (132, 1),\n",
       " (2016, 1),\n",
       " (942, 1),\n",
       " (137, 1),\n",
       " (138, 1),\n",
       " (144, 1),\n",
       " (1048, 1),\n",
       " (148, 1),\n",
       " (1049, 1),\n",
       " (160, 1),\n",
       " (1040, 1),\n",
       " (1051, 1),\n",
       " (1053, 1),\n",
       " (115, 1),\n",
       " (1213, 1),\n",
       " (197, 1),\n",
       " (743, 1),\n",
       " (-2828, 1),\n",
       " (778, 1),\n",
       " (786, 1),\n",
       " (133, 1),\n",
       " (820, 1),\n",
       " (821, 1),\n",
       " (823, 1),\n",
       " (824, 1),\n",
       " (826, 1),\n",
       " (319, 1),\n",
       " (320, 1),\n",
       " (321, 1),\n",
       " (323, 1),\n",
       " (837, 1),\n",
       " (328, 1),\n",
       " (332, 1),\n",
       " (-178, 1),\n",
       " (340, 1),\n",
       " (906, 1),\n",
       " (1421, 1),\n",
       " (951, 1),\n",
       " (1970, 1),\n",
       " (930, 1),\n",
       " (933, 1),\n",
       " (934, 1),\n",
       " (936, 1),\n",
       " (939, 1),\n",
       " (-37, 1),\n",
       " (944, 1),\n",
       " (945, 1),\n",
       " (946, 1),\n",
       " (947, 1),\n",
       " (961, 1),\n",
       " (964, 1),\n",
       " (1017, 1),\n",
       " (-38, 1),\n",
       " (-36, 1),\n",
       " (-35, 1),\n",
       " (-32, 1),\n",
       " (-30, 1),\n",
       " (-23, 1),\n",
       " (1026, 1),\n",
       " (-19, 1),\n",
       " (1008, 1),\n",
       " (1009, 1),\n",
       " (1011, 1),\n",
       " (-9, 1),\n",
       " (-7, 1),\n",
       " (-5, 1),\n",
       " (1022, 1)]"
      ]
     },
     "execution_count": 67,
     "metadata": {},
     "output_type": "execute_result"
    }
   ],
   "source": [
    "## apply is important .. \n",
    "\n",
    "df_train_member['bd'] = df_train_member.bd.apply(lambda x: int(x) if pd.notnull(x) else \"NAN\" )\n",
    "\n",
    "bd_count = Counter(df_train_member['bd']).most_common()\n",
    "bd_count"
   ]
  },
  {
   "cell_type": "markdown",
   "metadata": {},
   "source": [
    "It seems we have big problem with the data in this column as the majority goes to either birthday of zero or NAN !! :S .. \n",
    "\n",
    "and luckily the -ve values have small counts .. \n",
    "\n",
    "## Age values imputation .. \n",
    "\n",
    "To solve such issues let's apply what is proposed in this notebook ==> \n",
    "\n",
    "https://www.kaggle.com/rastaman/churn-or-no-churn-exploration-data-analysis\n",
    "\n",
    "- First we can make all Birth date <= 1 to -99999( just a large -ve number) as I don't think it would make a difference\n",
    "- Next we can also ignore the Birth Date >= 100\n",
    "\n"
   ]
  },
  {
   "cell_type": "code",
   "execution_count": 68,
   "metadata": {},
   "outputs": [],
   "source": [
    "df_train_member.loc[(df_train_member['bd'] <= 1), 'bd'] = -99999"
   ]
  },
  {
   "cell_type": "code",
   "execution_count": 69,
   "metadata": {},
   "outputs": [],
   "source": [
    "df_train_member.loc[(df_train_member['bd'] > 100), 'bd'] = -99999"
   ]
  },
  {
   "cell_type": "code",
   "execution_count": 70,
   "metadata": {},
   "outputs": [
    {
     "data": {
      "text/plain": [
       "[(-99999, 584266),\n",
       " (27, 22786),\n",
       " (26, 21829),\n",
       " (25, 20651),\n",
       " (24, 20296),\n",
       " (28, 20244),\n",
       " (29, 19533),\n",
       " (23, 19238),\n",
       " (22, 18035),\n",
       " (30, 17175),\n",
       " (21, 15633),\n",
       " (31, 15123),\n",
       " (32, 14406),\n",
       " (20, 13678),\n",
       " (33, 13229),\n",
       " (34, 12154),\n",
       " (35, 10959),\n",
       " (36, 9985),\n",
       " (19, 9861),\n",
       " (37, 8858),\n",
       " (18, 8207),\n",
       " (38, 7679),\n",
       " (39, 6651),\n",
       " (17, 5913),\n",
       " (40, 5663),\n",
       " (41, 5221),\n",
       " (42, 4305),\n",
       " (43, 3723),\n",
       " (44, 3266),\n",
       " (46, 3015),\n",
       " (45, 3010),\n",
       " (47, 2889),\n",
       " (16, 2544),\n",
       " (48, 2539),\n",
       " (49, 2320),\n",
       " (50, 2027),\n",
       " (51, 1970),\n",
       " (52, 1748),\n",
       " (53, 1445),\n",
       " (54, 1159),\n",
       " (55, 1021),\n",
       " (15, 848),\n",
       " (56, 844),\n",
       " (57, 736),\n",
       " (58, 541),\n",
       " (59, 510),\n",
       " (60, 455),\n",
       " (61, 390),\n",
       " (62, 309),\n",
       " (14, 282),\n",
       " (63, 258),\n",
       " (64, 193),\n",
       " (65, 171),\n",
       " (66, 147),\n",
       " (67, 140),\n",
       " (68, 90),\n",
       " (69, 67),\n",
       " (13, 63),\n",
       " (70, 57),\n",
       " (72, 42),\n",
       " (71, 40),\n",
       " (73, 37),\n",
       " (74, 31),\n",
       " (77, 30),\n",
       " (12, 23),\n",
       " (75, 23),\n",
       " (76, 23),\n",
       " (84, 22),\n",
       " (95, 19),\n",
       " (91, 18),\n",
       " (5, 16),\n",
       " (89, 16),\n",
       " (6, 15),\n",
       " (92, 14),\n",
       " (7, 13),\n",
       " (79, 13),\n",
       " (81, 13),\n",
       " (78, 12),\n",
       " (10, 11),\n",
       " (97, 11),\n",
       " (100, 11),\n",
       " (4, 10),\n",
       " (80, 10),\n",
       " (83, 10),\n",
       " (90, 10),\n",
       " (94, 10),\n",
       " (2, 9),\n",
       " (3, 9),\n",
       " (11, 9),\n",
       " (87, 9),\n",
       " (93, 9),\n",
       " (98, 9),\n",
       " (86, 8),\n",
       " (96, 8),\n",
       " (82, 7),\n",
       " (88, 7),\n",
       " (9, 6),\n",
       " (85, 6),\n",
       " (8, 4),\n",
       " (99, 2)]"
      ]
     },
     "execution_count": 70,
     "metadata": {},
     "output_type": "execute_result"
    }
   ],
   "source": [
    "bd_count_ = Counter(df_train_member['bd']).most_common()\n",
    "bd_count_"
   ]
  },
  {
   "cell_type": "markdown",
   "metadata": {},
   "source": [
    "Issue is solved :) "
   ]
  },
  {
   "cell_type": "code",
   "execution_count": 74,
   "metadata": {},
   "outputs": [
    {
     "data": {
      "text/plain": [
       "Text(0.5,0,u'BD')"
      ]
     },
     "execution_count": 74,
     "metadata": {},
     "output_type": "execute_result"
    },
    {
     "data": {
      "image/png": "[encoded data removed]",
      "text/plain": [
       "<matplotlib.figure.Figure at 0x7f38838f7b50>"
      ]
     },
     "metadata": {},
     "output_type": "display_data"
    }
   ],
   "source": [
    "#Birth Date \n",
    "\n",
    "plt.figure(figsize=(12,8))\n",
    "bd_order = df_train_member['bd'].unique()\n",
    "bd_order = sorted(bd_order, key=lambda x: str(x))\n",
    "\n",
    "sns.countplot(x=\"bd\", data=df_train_member , order = bd_order)\n",
    "\n",
    "plt.ylabel('Count', fontsize=12)\n",
    "plt.xlabel('BD', fontsize=12)"
   ]
  },
  {
   "cell_type": "code",
   "execution_count": 76,
   "metadata": {},
   "outputs": [
    {
     "data": {
      "text/plain": [
       "[(-99999, 584266),\n",
       " (27, 22786),\n",
       " (26, 21829),\n",
       " (25, 20651),\n",
       " (24, 20296),\n",
       " (28, 20244),\n",
       " (29, 19533),\n",
       " (23, 19238),\n",
       " (22, 18035),\n",
       " (30, 17175),\n",
       " (21, 15633),\n",
       " (31, 15123),\n",
       " (32, 14406),\n",
       " (20, 13678),\n",
       " (33, 13229),\n",
       " (34, 12154),\n",
       " (35, 10959),\n",
       " (36, 9985),\n",
       " (19, 9861),\n",
       " (37, 8858),\n",
       " (18, 8207),\n",
       " (38, 7679),\n",
       " (39, 6651),\n",
       " (17, 5913),\n",
       " (40, 5663),\n",
       " (41, 5221),\n",
       " (42, 4305),\n",
       " (43, 3723),\n",
       " (44, 3266),\n",
       " (46, 3015),\n",
       " (45, 3010),\n",
       " (47, 2889),\n",
       " (16, 2544),\n",
       " (48, 2539),\n",
       " (49, 2320),\n",
       " (50, 2027),\n",
       " (51, 1970),\n",
       " (52, 1748),\n",
       " (53, 1445),\n",
       " (54, 1159),\n",
       " (55, 1021),\n",
       " (15, 848),\n",
       " (56, 844),\n",
       " (57, 736),\n",
       " (58, 541),\n",
       " (59, 510),\n",
       " (60, 455),\n",
       " (61, 390),\n",
       " (62, 309),\n",
       " (14, 282),\n",
       " (63, 258),\n",
       " (64, 193),\n",
       " (65, 171),\n",
       " (66, 147),\n",
       " (67, 140),\n",
       " (68, 90),\n",
       " (69, 67),\n",
       " (13, 63),\n",
       " (70, 57),\n",
       " (72, 42),\n",
       " (71, 40),\n",
       " (73, 37),\n",
       " (74, 31),\n",
       " (77, 30),\n",
       " (12, 23),\n",
       " (75, 23),\n",
       " (76, 23),\n",
       " (84, 22),\n",
       " (95, 19),\n",
       " (91, 18),\n",
       " (5, 16),\n",
       " (89, 16),\n",
       " (6, 15),\n",
       " (92, 14),\n",
       " (7, 13),\n",
       " (79, 13),\n",
       " (81, 13),\n",
       " (78, 12),\n",
       " (10, 11),\n",
       " (97, 11),\n",
       " (100, 11),\n",
       " (4, 10),\n",
       " (80, 10),\n",
       " (83, 10),\n",
       " (90, 10),\n",
       " (94, 10),\n",
       " (2, 9),\n",
       " (3, 9),\n",
       " (11, 9),\n",
       " (87, 9),\n",
       " (93, 9),\n",
       " (98, 9),\n",
       " (86, 8),\n",
       " (96, 8),\n",
       " (82, 7),\n",
       " (88, 7),\n",
       " (9, 6),\n",
       " (85, 6),\n",
       " (8, 4),\n",
       " (99, 2)]"
      ]
     },
     "execution_count": 76,
     "metadata": {},
     "output_type": "execute_result"
    }
   ],
   "source": [
    "bd_count = Counter(df_train_member['bd']).most_common()\n",
    "bd_count"
   ]
  },
  {
   "cell_type": "markdown",
   "metadata": {},
   "source": [
    "mmmm well, let's remove the NANs that has the above peak .. and replot .."
   ]
  },
  {
   "cell_type": "code",
   "execution_count": 77,
   "metadata": {},
   "outputs": [],
   "source": [
    "bd_ = df_train_member[(df_train_member.bd != \"NAN\") & (df_train_member.bd != -99990)]\n",
    "bd_  # carries a new table without any outlier .. "
   ]
  },
  {
   "cell_type": "code",
   "execution_count": 79,
   "metadata": {},
   "outputs": [
    {
     "data": {
      "text/plain": [
       "Text(0.5,1,u'Frequency of BD Count without ouliers and NAN values')"
      ]
     },
     "execution_count": 79,
     "metadata": {},
     "output_type": "execute_result"
    },
    {
     "data": {
      "image/png": "[encoded data removed]",
      "text/plain": [
       "<matplotlib.figure.Figure at 0x7f388345d450>"
      ]
     },
     "metadata": {},
     "output_type": "display_data"
    }
   ],
   "source": [
    "plt.figure(figsize=(12,8))\n",
    "plt.subplot(211)\n",
    "\n",
    "bd_order_2 = bd_['bd'].unique()\n",
    "bd_order_2 = sorted(bd_order_2, key=lambda x: float(x))\n",
    "sns.countplot(x=\"bd\", data=bd_ , order = bd_order_2)\n",
    "\n",
    "plt.ylabel('Count', fontsize=12)\n",
    "plt.xlabel('BD', fontsize=12)\n",
    "\n",
    "plt.title(\"Frequency of BD Count without ouliers and NAN values\", fontsize=12)"
   ]
  },
  {
   "cell_type": "code",
   "execution_count": null,
   "metadata": {},
   "outputs": [],
   "source": []
  }
 ],
 "metadata": {
  "kernelspec": {
   "display_name": "Python 2",
   "language": "python",
   "name": "python2"
  },
  "language_info": {
   "codemirror_mode": {
    "name": "ipython",
    "version": 2
   },
   "file_extension": ".py",
   "mimetype": "text/x-python",
   "name": "python",
   "nbconvert_exporter": "python",
   "pygments_lexer": "ipython2",
   "version": "2.7.12"
  }
 },
 "nbformat": 4,
 "nbformat_minor": 2
}
