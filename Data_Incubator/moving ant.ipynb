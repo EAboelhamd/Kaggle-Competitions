{
 "cells": [
  {
   "cell_type": "markdown",
   "metadata": {},
   "source": [
    "## Introduction:\n",
    "\n",
    "This notebook contains my trails in solving the 1st question in Data Incubator fellowship .. "
   ]
  },
  {
   "cell_type": "code",
   "execution_count": 125,
   "metadata": {},
   "outputs": [],
   "source": [
    "import numpy as np\n",
    "import random\n",
    "import pandas as pd\n",
    "import seaborn as sns\n",
    "import matplotlib.pyplot as plt\n",
    "%matplotlib inline"
   ]
  },
  {
   "cell_type": "markdown",
   "metadata": {},
   "source": [
    "## Q1:\n",
    "What is the mean of D when m=11 and n=7? "
   ]
  },
  {
   "cell_type": "code",
   "execution_count": 210,
   "metadata": {},
   "outputs": [],
   "source": [
    "n = 31\n",
    "m = 23\n",
    "x = [random.uniform(0.0, m) for i in range(100)]\n",
    "y = [random.uniform(0.0, n) for i in range(100)]"
   ]
  },
  {
   "cell_type": "code",
   "execution_count": 211,
   "metadata": {},
   "outputs": [],
   "source": [
    "# D = max(x/m−y/n,y/n−x/m) \n",
    "\n",
    "D = []\n",
    "for i in xrange(len(x)):\n",
    "    D.append(max(x[i]/m - y[i]/n, y[i]/n - x[i]/m))"
   ]
  },
  {
   "cell_type": "code",
   "execution_count": 212,
   "metadata": {},
   "outputs": [
    {
     "data": {
      "text/plain": [
       "0.35590304500181419"
      ]
     },
     "execution_count": 212,
     "metadata": {},
     "output_type": "execute_result"
    }
   ],
   "source": [
    "np.mean(D)"
   ]
  },
  {
   "cell_type": "markdown",
   "metadata": {},
   "source": [
    "## Q3:\n",
    "Conditional probability\n",
    "\n",
    "What is the conditional probability that D is greater than 0.6 given that it is greater than 0.2 when m=11 and n=7? "
   ]
  },
  {
   "cell_type": "code",
   "execution_count": 236,
   "metadata": {},
   "outputs": [],
   "source": [
    "## Conditional probability\n",
    "m = 11\n",
    "n = 7\n",
    "\n",
    "\n",
    "D = []\n",
    "for i in xrange(len(x)):\n",
    "    D.append(max(x[i]/m - y[i]/n, y[i]/n - x[i]/m))"
   ]
  },
  {
   "cell_type": "code",
   "execution_count": 237,
   "metadata": {},
   "outputs": [],
   "source": [
    "D_greater_2 = []\n",
    "D_greater_2_6 = []\n",
    "\n",
    "for i in xrange(len(D)):\n",
    "    if D[i] > 0.2:\n",
    "        D_greater_2.append(D[i])\n",
    "    if D[i] > 0.6:\n",
    "        D_greater_2_6.append(D[i])"
   ]
  },
  {
   "cell_type": "code",
   "execution_count": 238,
   "metadata": {},
   "outputs": [
    {
     "data": {
      "text/plain": [
       "0.006734"
      ]
     },
     "execution_count": 238,
     "metadata": {},
     "output_type": "execute_result"
    }
   ],
   "source": [
    "prob = ((np.float(len(D_greater_2_6))/len(D))*(np.float(len(D_greater_2))/len(D)))/len(D)\n",
    "prob"
   ]
  },
  {
   "cell_type": "markdown",
   "metadata": {},
   "source": [
    "## Q4:\n",
    "What is the standard deviation of D when m=11 and n=7? "
   ]
  },
  {
   "cell_type": "code",
   "execution_count": 239,
   "metadata": {},
   "outputs": [
    {
     "data": {
      "text/plain": [
       "1.0147356520601458"
      ]
     },
     "execution_count": 239,
     "metadata": {},
     "output_type": "execute_result"
    }
   ],
   "source": [
    "np.std(D)"
   ]
  }
 ],
 "metadata": {
  "kernelspec": {
   "display_name": "Python 2",
   "language": "python",
   "name": "python2"
  },
  "language_info": {
   "codemirror_mode": {
    "name": "ipython",
    "version": 2
   },
   "file_extension": ".py",
   "mimetype": "text/x-python",
   "name": "python",
   "nbconvert_exporter": "python",
   "pygments_lexer": "ipython2",
   "version": "2.7.12"
  }
 },
 "nbformat": 4,
 "nbformat_minor": 2
}
