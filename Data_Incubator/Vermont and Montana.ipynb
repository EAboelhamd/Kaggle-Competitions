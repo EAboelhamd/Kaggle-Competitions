{
 "cells": [
  {
   "cell_type": "code",
   "execution_count": null,
   "metadata": {},
   "outputs": [],
   "source": []
  },
  {
   "cell_type": "code",
   "execution_count": 1,
   "metadata": {},
   "outputs": [],
   "source": [
    "import numpy as np\n",
    "import pandas as pd\n",
    "import seaborn as sns\n",
    "from sklearn import datasets, linear_model\n",
    "from sklearn.metrics import mean_squared_error, r2_score\n",
    "import matplotlib.pyplot as plt\n",
    "%matplotlib inline"
   ]
  },
  {
   "cell_type": "markdown",
   "metadata": {},
   "source": [
    "## Vermont city:"
   ]
  },
  {
   "cell_type": "code",
   "execution_count": 2,
   "metadata": {},
   "outputs": [
    {
     "name": "stderr",
     "output_type": "stream",
     "text": [
      "/usr/local/lib/python2.7/dist-packages/IPython/core/interactiveshell.py:2718: DtypeWarning: Columns (19) have mixed types. Specify dtype option on import or set low_memory=False.\n",
      "  interactivity=interactivity, compiler=compiler, result=result)\n"
     ]
    }
   ],
   "source": [
    "df = pd.read_csv('VT_cleaned.csv', header = 0)"
   ]
  },
  {
   "cell_type": "code",
   "execution_count": 3,
   "metadata": {},
   "outputs": [
    {
     "data": {
      "text/html": [
       "<div>\n",
       "<style>\n",
       "    .dataframe thead tr:only-child th {\n",
       "        text-align: right;\n",
       "    }\n",
       "\n",
       "    .dataframe thead th {\n",
       "        text-align: left;\n",
       "    }\n",
       "\n",
       "    .dataframe tbody tr th {\n",
       "        vertical-align: top;\n",
       "    }\n",
       "</style>\n",
       "<table border=\"1\" class=\"dataframe\">\n",
       "  <thead>\n",
       "    <tr style=\"text-align: right;\">\n",
       "      <th></th>\n",
       "      <th>id</th>\n",
       "      <th>state</th>\n",
       "      <th>stop_date</th>\n",
       "      <th>stop_time</th>\n",
       "      <th>location_raw</th>\n",
       "      <th>county_name</th>\n",
       "      <th>county_fips</th>\n",
       "      <th>fine_grained_location</th>\n",
       "      <th>police_department</th>\n",
       "      <th>driver_gender</th>\n",
       "      <th>...</th>\n",
       "      <th>driver_race</th>\n",
       "      <th>violation_raw</th>\n",
       "      <th>violation</th>\n",
       "      <th>search_conducted</th>\n",
       "      <th>search_type_raw</th>\n",
       "      <th>search_type</th>\n",
       "      <th>contraband_found</th>\n",
       "      <th>stop_outcome</th>\n",
       "      <th>is_arrested</th>\n",
       "      <th>officer_id</th>\n",
       "    </tr>\n",
       "  </thead>\n",
       "  <tbody>\n",
       "    <tr>\n",
       "      <th>0</th>\n",
       "      <td>VT-2010-00001</td>\n",
       "      <td>VT</td>\n",
       "      <td>2010-07-01</td>\n",
       "      <td>00:10</td>\n",
       "      <td>East Montpelier</td>\n",
       "      <td>Washington County</td>\n",
       "      <td>50023.0</td>\n",
       "      <td>COUNTY RD</td>\n",
       "      <td>MIDDLESEX VSP</td>\n",
       "      <td>M</td>\n",
       "      <td>...</td>\n",
       "      <td>White</td>\n",
       "      <td>Moving Violation</td>\n",
       "      <td>Moving violation</td>\n",
       "      <td>False</td>\n",
       "      <td>No Search Conducted</td>\n",
       "      <td>NaN</td>\n",
       "      <td>False</td>\n",
       "      <td>Citation</td>\n",
       "      <td>False</td>\n",
       "      <td>-1.562157e+09</td>\n",
       "    </tr>\n",
       "    <tr>\n",
       "      <th>1</th>\n",
       "      <td>VT-2010-00002</td>\n",
       "      <td>VT</td>\n",
       "      <td>2010-07-01</td>\n",
       "      <td>00:10</td>\n",
       "      <td>NaN</td>\n",
       "      <td>NaN</td>\n",
       "      <td>NaN</td>\n",
       "      <td>COUNTY RD; Fitch Road</td>\n",
       "      <td>MIDDLESEX VSP</td>\n",
       "      <td>F</td>\n",
       "      <td>...</td>\n",
       "      <td>White</td>\n",
       "      <td>Externally Generated Stop</td>\n",
       "      <td>Other</td>\n",
       "      <td>False</td>\n",
       "      <td>No Search Conducted</td>\n",
       "      <td>NaN</td>\n",
       "      <td>False</td>\n",
       "      <td>Arrest for Violation</td>\n",
       "      <td>True</td>\n",
       "      <td>-1.562157e+09</td>\n",
       "    </tr>\n",
       "    <tr>\n",
       "      <th>2</th>\n",
       "      <td>VT-2010-00003</td>\n",
       "      <td>VT</td>\n",
       "      <td>2010-07-01</td>\n",
       "      <td>00:10</td>\n",
       "      <td>NaN</td>\n",
       "      <td>NaN</td>\n",
       "      <td>NaN</td>\n",
       "      <td>COUNTY RD; Fitch Road</td>\n",
       "      <td>MIDDLESEX VSP</td>\n",
       "      <td>F</td>\n",
       "      <td>...</td>\n",
       "      <td>White</td>\n",
       "      <td>Externally Generated Stop</td>\n",
       "      <td>Other</td>\n",
       "      <td>False</td>\n",
       "      <td>No Search Conducted</td>\n",
       "      <td>NaN</td>\n",
       "      <td>False</td>\n",
       "      <td>Arrest for Violation</td>\n",
       "      <td>True</td>\n",
       "      <td>-1.562157e+09</td>\n",
       "    </tr>\n",
       "  </tbody>\n",
       "</table>\n",
       "<p>3 rows × 23 columns</p>\n",
       "</div>"
      ],
      "text/plain": [
       "              id state   stop_date stop_time     location_raw  \\\n",
       "0  VT-2010-00001    VT  2010-07-01     00:10  East Montpelier   \n",
       "1  VT-2010-00002    VT  2010-07-01     00:10              NaN   \n",
       "2  VT-2010-00003    VT  2010-07-01     00:10              NaN   \n",
       "\n",
       "         county_name  county_fips  fine_grained_location police_department  \\\n",
       "0  Washington County      50023.0              COUNTY RD     MIDDLESEX VSP   \n",
       "1                NaN          NaN  COUNTY RD; Fitch Road     MIDDLESEX VSP   \n",
       "2                NaN          NaN  COUNTY RD; Fitch Road     MIDDLESEX VSP   \n",
       "\n",
       "  driver_gender      ...       driver_race              violation_raw  \\\n",
       "0             M      ...             White           Moving Violation   \n",
       "1             F      ...             White  Externally Generated Stop   \n",
       "2             F      ...             White  Externally Generated Stop   \n",
       "\n",
       "          violation search_conducted      search_type_raw search_type  \\\n",
       "0  Moving violation            False  No Search Conducted         NaN   \n",
       "1             Other            False  No Search Conducted         NaN   \n",
       "2             Other            False  No Search Conducted         NaN   \n",
       "\n",
       "   contraband_found          stop_outcome is_arrested    officer_id  \n",
       "0             False              Citation       False -1.562157e+09  \n",
       "1             False  Arrest for Violation        True -1.562157e+09  \n",
       "2             False  Arrest for Violation        True -1.562157e+09  \n",
       "\n",
       "[3 rows x 23 columns]"
      ]
     },
     "execution_count": 3,
     "metadata": {},
     "output_type": "execute_result"
    }
   ],
   "source": [
    "df.head(3)"
   ]
  },
  {
   "cell_type": "code",
   "execution_count": 4,
   "metadata": {},
   "outputs": [
    {
     "data": {
      "text/plain": [
       "(283285, 23)"
      ]
     },
     "execution_count": 4,
     "metadata": {},
     "output_type": "execute_result"
    }
   ],
   "source": [
    "np.shape(df)"
   ]
  },
  {
   "cell_type": "markdown",
   "metadata": {},
   "source": [
    "This dataset contains 283285 records respresents states in Vermont .. each of which has 23 attributes .. "
   ]
  },
  {
   "cell_type": "code",
   "execution_count": 5,
   "metadata": {},
   "outputs": [
    {
     "data": {
      "text/plain": [
       "id                       False\n",
       "state                    False\n",
       "stop_date                False\n",
       "stop_time                False\n",
       "location_raw              True\n",
       "county_name               True\n",
       "county_fips               True\n",
       "fine_grained_location     True\n",
       "police_department        False\n",
       "driver_gender             True\n",
       "driver_age_raw            True\n",
       "driver_age                True\n",
       "driver_race_raw           True\n",
       "driver_race               True\n",
       "violation_raw             True\n",
       "violation                 True\n",
       "search_conducted         False\n",
       "search_type_raw           True\n",
       "search_type               True\n",
       "contraband_found          True\n",
       "stop_outcome              True\n",
       "is_arrested              False\n",
       "officer_id                True\n",
       "dtype: bool"
      ]
     },
     "execution_count": 5,
     "metadata": {},
     "output_type": "execute_result"
    }
   ],
   "source": [
    "df.isnull().any()"
   ]
  },
  {
   "cell_type": "code",
   "execution_count": 6,
   "metadata": {},
   "outputs": [
    {
     "data": {
      "text/plain": [
       "id                            0\n",
       "state                         0\n",
       "stop_date                     0\n",
       "stop_time                     0\n",
       "location_raw                694\n",
       "county_name                 705\n",
       "county_fips                 705\n",
       "fine_grained_location       347\n",
       "police_department             0\n",
       "driver_gender              1712\n",
       "driver_age_raw             1171\n",
       "driver_age                 1286\n",
       "driver_race_raw            3984\n",
       "driver_race                4817\n",
       "violation_raw              2178\n",
       "violation                  2178\n",
       "search_conducted              0\n",
       "search_type_raw            2240\n",
       "search_type              279866\n",
       "contraband_found             34\n",
       "stop_outcome               2325\n",
       "is_arrested                   0\n",
       "officer_id                   12\n",
       "dtype: int64"
      ]
     },
     "execution_count": 6,
     "metadata": {},
     "output_type": "execute_result"
    }
   ],
   "source": [
    "df.isnull().sum()"
   ]
  },
  {
   "cell_type": "code",
   "execution_count": 7,
   "metadata": {},
   "outputs": [
    {
     "data": {
      "text/plain": [
       "id                       0.000000\n",
       "state                    0.000000\n",
       "stop_date                0.000000\n",
       "stop_time                0.000000\n",
       "location_raw             0.002450\n",
       "county_name              0.002489\n",
       "county_fips              0.002489\n",
       "fine_grained_location    0.001225\n",
       "police_department        0.000000\n",
       "driver_gender            0.006043\n",
       "driver_age_raw           0.004134\n",
       "driver_age               0.004540\n",
       "driver_race_raw          0.014064\n",
       "driver_race              0.017004\n",
       "violation_raw            0.007688\n",
       "violation                0.007688\n",
       "search_conducted         0.000000\n",
       "search_type_raw          0.007907\n",
       "search_type              0.987931\n",
       "contraband_found         0.000120\n",
       "stop_outcome             0.008207\n",
       "is_arrested              0.000000\n",
       "officer_id               0.000042\n",
       "dtype: float64"
      ]
     },
     "execution_count": 7,
     "metadata": {},
     "output_type": "execute_result"
    }
   ],
   "source": [
    "df.isnull().sum()/len(df)"
   ]
  },
  {
   "cell_type": "markdown",
   "metadata": {},
   "source": [
    "mmm some of the attributes contain null values .. however, 98% of search_type variable records are nulls .. \n",
    "\n",
    "hence, let's remove this variable from the datatframe ! "
   ]
  },
  {
   "cell_type": "code",
   "execution_count": 8,
   "metadata": {},
   "outputs": [],
   "source": [
    "del df['search_type']"
   ]
  },
  {
   "cell_type": "code",
   "execution_count": 9,
   "metadata": {},
   "outputs": [
    {
     "data": {
      "text/plain": [
       "(283285, 22)"
      ]
     },
     "execution_count": 9,
     "metadata": {},
     "output_type": "execute_result"
    }
   ],
   "source": [
    "np.shape(df)"
   ]
  },
  {
   "cell_type": "markdown",
   "metadata": {},
   "source": [
    "column is deleted succesfully .. "
   ]
  },
  {
   "cell_type": "code",
   "execution_count": 10,
   "metadata": {},
   "outputs": [
    {
     "name": "stdout",
     "output_type": "stream",
     "text": [
      "<class 'pandas.core.frame.DataFrame'>\n",
      "RangeIndex: 283285 entries, 0 to 283284\n",
      "Data columns (total 22 columns):\n",
      "id                       283285 non-null object\n",
      "state                    283285 non-null object\n",
      "stop_date                283285 non-null object\n",
      "stop_time                283285 non-null object\n",
      "location_raw             282591 non-null object\n",
      "county_name              282580 non-null object\n",
      "county_fips              282580 non-null float64\n",
      "fine_grained_location    282938 non-null object\n",
      "police_department        283285 non-null object\n",
      "driver_gender            281573 non-null object\n",
      "driver_age_raw           282114 non-null float64\n",
      "driver_age               281999 non-null float64\n",
      "driver_race_raw          279301 non-null object\n",
      "driver_race              278468 non-null object\n",
      "violation_raw            281107 non-null object\n",
      "violation                281107 non-null object\n",
      "search_conducted         283285 non-null bool\n",
      "search_type_raw          281045 non-null object\n",
      "contraband_found         283251 non-null object\n",
      "stop_outcome             280960 non-null object\n",
      "is_arrested              283285 non-null bool\n",
      "officer_id               283273 non-null float64\n",
      "dtypes: bool(2), float64(4), object(16)\n",
      "memory usage: 43.8+ MB\n"
     ]
    }
   ],
   "source": [
    "df.info()"
   ]
  },
  {
   "cell_type": "markdown",
   "metadata": {},
   "source": [
    "## Filling NAs:"
   ]
  },
  {
   "cell_type": "code",
   "execution_count": 11,
   "metadata": {},
   "outputs": [
    {
     "data": {
      "text/html": [
       "<div>\n",
       "<style>\n",
       "    .dataframe thead tr:only-child th {\n",
       "        text-align: right;\n",
       "    }\n",
       "\n",
       "    .dataframe thead th {\n",
       "        text-align: left;\n",
       "    }\n",
       "\n",
       "    .dataframe tbody tr th {\n",
       "        vertical-align: top;\n",
       "    }\n",
       "</style>\n",
       "<table border=\"1\" class=\"dataframe\">\n",
       "  <thead>\n",
       "    <tr style=\"text-align: right;\">\n",
       "      <th></th>\n",
       "      <th>search_conducted</th>\n",
       "      <th>is_arrested</th>\n",
       "    </tr>\n",
       "  </thead>\n",
       "  <tbody>\n",
       "    <tr>\n",
       "      <th>0</th>\n",
       "      <td>False</td>\n",
       "      <td>False</td>\n",
       "    </tr>\n",
       "    <tr>\n",
       "      <th>1</th>\n",
       "      <td>False</td>\n",
       "      <td>True</td>\n",
       "    </tr>\n",
       "    <tr>\n",
       "      <th>2</th>\n",
       "      <td>False</td>\n",
       "      <td>True</td>\n",
       "    </tr>\n",
       "    <tr>\n",
       "      <th>3</th>\n",
       "      <td>False</td>\n",
       "      <td>True</td>\n",
       "    </tr>\n",
       "    <tr>\n",
       "      <th>4</th>\n",
       "      <td>False</td>\n",
       "      <td>False</td>\n",
       "    </tr>\n",
       "  </tbody>\n",
       "</table>\n",
       "</div>"
      ],
      "text/plain": [
       "   search_conducted  is_arrested\n",
       "0             False        False\n",
       "1             False         True\n",
       "2             False         True\n",
       "3             False         True\n",
       "4             False        False"
      ]
     },
     "execution_count": 11,
     "metadata": {},
     "output_type": "execute_result"
    }
   ],
   "source": [
    "## bool\n",
    "int_var = df.select_dtypes(include=['bool'])\n",
    "int_var.head()"
   ]
  },
  {
   "cell_type": "code",
   "execution_count": 12,
   "metadata": {},
   "outputs": [
    {
     "name": "stderr",
     "output_type": "stream",
     "text": [
      "/usr/local/lib/python2.7/dist-packages/pandas/core/generic.py:3660: SettingWithCopyWarning: \n",
      "A value is trying to be set on a copy of a slice from a DataFrame\n",
      "\n",
      "See the caveats in the documentation: http://pandas.pydata.org/pandas-docs/stable/indexing.html#indexing-view-versus-copy\n",
      "  self._update_inplace(new_data)\n"
     ]
    }
   ],
   "source": [
    "int_var.search_conducted.fillna(int_var.search_conducted.mode()[0], inplace=True)\n",
    "int_var.is_arrested.fillna(int_var.is_arrested.mode()[0], inplace=True)"
   ]
  },
  {
   "cell_type": "code",
   "execution_count": 13,
   "metadata": {},
   "outputs": [
    {
     "data": {
      "text/html": [
       "<div>\n",
       "<style>\n",
       "    .dataframe thead tr:only-child th {\n",
       "        text-align: right;\n",
       "    }\n",
       "\n",
       "    .dataframe thead th {\n",
       "        text-align: left;\n",
       "    }\n",
       "\n",
       "    .dataframe tbody tr th {\n",
       "        vertical-align: top;\n",
       "    }\n",
       "</style>\n",
       "<table border=\"1\" class=\"dataframe\">\n",
       "  <thead>\n",
       "    <tr style=\"text-align: right;\">\n",
       "      <th></th>\n",
       "      <th>county_fips</th>\n",
       "      <th>driver_age_raw</th>\n",
       "      <th>driver_age</th>\n",
       "      <th>officer_id</th>\n",
       "    </tr>\n",
       "  </thead>\n",
       "  <tbody>\n",
       "    <tr>\n",
       "      <th>0</th>\n",
       "      <td>50023.0</td>\n",
       "      <td>22.0</td>\n",
       "      <td>22.0</td>\n",
       "      <td>-1.562157e+09</td>\n",
       "    </tr>\n",
       "    <tr>\n",
       "      <th>1</th>\n",
       "      <td>NaN</td>\n",
       "      <td>21.0</td>\n",
       "      <td>21.0</td>\n",
       "      <td>-1.562157e+09</td>\n",
       "    </tr>\n",
       "    <tr>\n",
       "      <th>2</th>\n",
       "      <td>NaN</td>\n",
       "      <td>21.0</td>\n",
       "      <td>21.0</td>\n",
       "      <td>-1.562157e+09</td>\n",
       "    </tr>\n",
       "    <tr>\n",
       "      <th>3</th>\n",
       "      <td>50001.0</td>\n",
       "      <td>18.0</td>\n",
       "      <td>18.0</td>\n",
       "      <td>-3.126844e+08</td>\n",
       "    </tr>\n",
       "    <tr>\n",
       "      <th>4</th>\n",
       "      <td>50005.0</td>\n",
       "      <td>18.0</td>\n",
       "      <td>18.0</td>\n",
       "      <td>9.225661e+08</td>\n",
       "    </tr>\n",
       "  </tbody>\n",
       "</table>\n",
       "</div>"
      ],
      "text/plain": [
       "   county_fips  driver_age_raw  driver_age    officer_id\n",
       "0      50023.0            22.0        22.0 -1.562157e+09\n",
       "1          NaN            21.0        21.0 -1.562157e+09\n",
       "2          NaN            21.0        21.0 -1.562157e+09\n",
       "3      50001.0            18.0        18.0 -3.126844e+08\n",
       "4      50005.0            18.0        18.0  9.225661e+08"
      ]
     },
     "execution_count": 13,
     "metadata": {},
     "output_type": "execute_result"
    }
   ],
   "source": [
    "## float ..\n",
    "\n",
    "float_var = df.select_dtypes(include=['float'])\n",
    "float_var.head()"
   ]
  },
  {
   "cell_type": "code",
   "execution_count": 14,
   "metadata": {},
   "outputs": [
    {
     "data": {
      "text/plain": [
       "<matplotlib.axes._subplots.AxesSubplot at 0x7fb434bbe950>"
      ]
     },
     "execution_count": 14,
     "metadata": {},
     "output_type": "execute_result"
    },
    {
     "data": {
      "image/png": "[encoded data removed]",
      "text/plain": [
       "<matplotlib.figure.Figure at 0x7fb41e929bd0>"
      ]
     },
     "metadata": {},
     "output_type": "display_data"
    }
   ],
   "source": [
    "float_var.boxplot()"
   ]
  },
  {
   "cell_type": "code",
   "execution_count": 15,
   "metadata": {},
   "outputs": [
    {
     "data": {
      "text/html": [
       "<div>\n",
       "<style>\n",
       "    .dataframe thead tr:only-child th {\n",
       "        text-align: right;\n",
       "    }\n",
       "\n",
       "    .dataframe thead th {\n",
       "        text-align: left;\n",
       "    }\n",
       "\n",
       "    .dataframe tbody tr th {\n",
       "        vertical-align: top;\n",
       "    }\n",
       "</style>\n",
       "<table border=\"1\" class=\"dataframe\">\n",
       "  <thead>\n",
       "    <tr style=\"text-align: right;\">\n",
       "      <th></th>\n",
       "      <th>county_fips</th>\n",
       "      <th>driver_age_raw</th>\n",
       "      <th>driver_age</th>\n",
       "      <th>officer_id</th>\n",
       "    </tr>\n",
       "  </thead>\n",
       "  <tbody>\n",
       "    <tr>\n",
       "      <th>count</th>\n",
       "      <td>282580.000000</td>\n",
       "      <td>282114.000000</td>\n",
       "      <td>281999.000000</td>\n",
       "      <td>2.832730e+05</td>\n",
       "    </tr>\n",
       "    <tr>\n",
       "      <th>mean</th>\n",
       "      <td>50015.682561</td>\n",
       "      <td>38.776920</td>\n",
       "      <td>38.788162</td>\n",
       "      <td>-1.465118e+08</td>\n",
       "    </tr>\n",
       "    <tr>\n",
       "      <th>std</th>\n",
       "      <td>9.125609</td>\n",
       "      <td>15.574529</td>\n",
       "      <td>15.566545</td>\n",
       "      <td>1.180737e+09</td>\n",
       "    </tr>\n",
       "    <tr>\n",
       "      <th>min</th>\n",
       "      <td>50001.000000</td>\n",
       "      <td>0.000000</td>\n",
       "      <td>15.000000</td>\n",
       "      <td>-2.133012e+09</td>\n",
       "    </tr>\n",
       "    <tr>\n",
       "      <th>25%</th>\n",
       "      <td>50007.000000</td>\n",
       "      <td>25.000000</td>\n",
       "      <td>25.000000</td>\n",
       "      <td>-1.137408e+09</td>\n",
       "    </tr>\n",
       "    <tr>\n",
       "      <th>50%</th>\n",
       "      <td>50017.000000</td>\n",
       "      <td>36.000000</td>\n",
       "      <td>36.000000</td>\n",
       "      <td>-1.342127e+08</td>\n",
       "    </tr>\n",
       "    <tr>\n",
       "      <th>75%</th>\n",
       "      <td>50025.000000</td>\n",
       "      <td>50.000000</td>\n",
       "      <td>50.000000</td>\n",
       "      <td>8.198861e+08</td>\n",
       "    </tr>\n",
       "    <tr>\n",
       "      <th>max</th>\n",
       "      <td>50027.000000</td>\n",
       "      <td>101.000000</td>\n",
       "      <td>99.000000</td>\n",
       "      <td>2.118737e+09</td>\n",
       "    </tr>\n",
       "  </tbody>\n",
       "</table>\n",
       "</div>"
      ],
      "text/plain": [
       "         county_fips  driver_age_raw     driver_age    officer_id\n",
       "count  282580.000000   282114.000000  281999.000000  2.832730e+05\n",
       "mean    50015.682561       38.776920      38.788162 -1.465118e+08\n",
       "std         9.125609       15.574529      15.566545  1.180737e+09\n",
       "min     50001.000000        0.000000      15.000000 -2.133012e+09\n",
       "25%     50007.000000       25.000000      25.000000 -1.137408e+09\n",
       "50%     50017.000000       36.000000      36.000000 -1.342127e+08\n",
       "75%     50025.000000       50.000000      50.000000  8.198861e+08\n",
       "max     50027.000000      101.000000      99.000000  2.118737e+09"
      ]
     },
     "execution_count": 15,
     "metadata": {},
     "output_type": "execute_result"
    }
   ],
   "source": [
    "float_var.describe()"
   ]
  },
  {
   "cell_type": "markdown",
   "metadata": {},
   "source": [
    "The distribution of all float variables are almost normal .. \n",
    "\n",
    "hence, let's fill their empty cells with the mean values "
   ]
  },
  {
   "cell_type": "code",
   "execution_count": 16,
   "metadata": {},
   "outputs": [],
   "source": [
    "float_var.county_fips.fillna(float_var.county_fips.mean(), inplace=True)\n",
    "float_var.driver_age_raw.fillna(float_var.driver_age_raw.mean(), inplace=True)\n",
    "float_var.driver_age.fillna(float_var.driver_age.mean(), inplace=True)\n",
    "float_var.officer_id.fillna(float_var.officer_id.mean(), inplace=True)"
   ]
  },
  {
   "cell_type": "code",
   "execution_count": 17,
   "metadata": {},
   "outputs": [
    {
     "data": {
      "text/plain": [
       "county_fips       False\n",
       "driver_age_raw    False\n",
       "driver_age        False\n",
       "officer_id        False\n",
       "dtype: bool"
      ]
     },
     "execution_count": 17,
     "metadata": {},
     "output_type": "execute_result"
    }
   ],
   "source": [
    "float_var.isnull().any()"
   ]
  },
  {
   "cell_type": "code",
   "execution_count": 18,
   "metadata": {},
   "outputs": [
    {
     "data": {
      "text/html": [
       "<div>\n",
       "<style>\n",
       "    .dataframe thead tr:only-child th {\n",
       "        text-align: right;\n",
       "    }\n",
       "\n",
       "    .dataframe thead th {\n",
       "        text-align: left;\n",
       "    }\n",
       "\n",
       "    .dataframe tbody tr th {\n",
       "        vertical-align: top;\n",
       "    }\n",
       "</style>\n",
       "<table border=\"1\" class=\"dataframe\">\n",
       "  <thead>\n",
       "    <tr style=\"text-align: right;\">\n",
       "      <th></th>\n",
       "      <th>id</th>\n",
       "      <th>state</th>\n",
       "      <th>stop_date</th>\n",
       "      <th>stop_time</th>\n",
       "      <th>location_raw</th>\n",
       "      <th>county_name</th>\n",
       "      <th>fine_grained_location</th>\n",
       "      <th>police_department</th>\n",
       "      <th>driver_gender</th>\n",
       "      <th>driver_race_raw</th>\n",
       "      <th>driver_race</th>\n",
       "      <th>violation_raw</th>\n",
       "      <th>violation</th>\n",
       "      <th>search_type_raw</th>\n",
       "      <th>contraband_found</th>\n",
       "      <th>stop_outcome</th>\n",
       "    </tr>\n",
       "  </thead>\n",
       "  <tbody>\n",
       "    <tr>\n",
       "      <th>0</th>\n",
       "      <td>VT-2010-00001</td>\n",
       "      <td>VT</td>\n",
       "      <td>2010-07-01</td>\n",
       "      <td>00:10</td>\n",
       "      <td>East Montpelier</td>\n",
       "      <td>Washington County</td>\n",
       "      <td>COUNTY RD</td>\n",
       "      <td>MIDDLESEX VSP</td>\n",
       "      <td>M</td>\n",
       "      <td>White</td>\n",
       "      <td>White</td>\n",
       "      <td>Moving Violation</td>\n",
       "      <td>Moving violation</td>\n",
       "      <td>No Search Conducted</td>\n",
       "      <td>False</td>\n",
       "      <td>Citation</td>\n",
       "    </tr>\n",
       "    <tr>\n",
       "      <th>1</th>\n",
       "      <td>VT-2010-00002</td>\n",
       "      <td>VT</td>\n",
       "      <td>2010-07-01</td>\n",
       "      <td>00:10</td>\n",
       "      <td>NaN</td>\n",
       "      <td>NaN</td>\n",
       "      <td>COUNTY RD; Fitch Road</td>\n",
       "      <td>MIDDLESEX VSP</td>\n",
       "      <td>F</td>\n",
       "      <td>White</td>\n",
       "      <td>White</td>\n",
       "      <td>Externally Generated Stop</td>\n",
       "      <td>Other</td>\n",
       "      <td>No Search Conducted</td>\n",
       "      <td>False</td>\n",
       "      <td>Arrest for Violation</td>\n",
       "    </tr>\n",
       "    <tr>\n",
       "      <th>2</th>\n",
       "      <td>VT-2010-00003</td>\n",
       "      <td>VT</td>\n",
       "      <td>2010-07-01</td>\n",
       "      <td>00:10</td>\n",
       "      <td>NaN</td>\n",
       "      <td>NaN</td>\n",
       "      <td>COUNTY RD; Fitch Road</td>\n",
       "      <td>MIDDLESEX VSP</td>\n",
       "      <td>F</td>\n",
       "      <td>White</td>\n",
       "      <td>White</td>\n",
       "      <td>Externally Generated Stop</td>\n",
       "      <td>Other</td>\n",
       "      <td>No Search Conducted</td>\n",
       "      <td>False</td>\n",
       "      <td>Arrest for Violation</td>\n",
       "    </tr>\n",
       "    <tr>\n",
       "      <th>3</th>\n",
       "      <td>VT-2010-00004</td>\n",
       "      <td>VT</td>\n",
       "      <td>2010-07-01</td>\n",
       "      <td>00:11</td>\n",
       "      <td>Whiting</td>\n",
       "      <td>Addison County</td>\n",
       "      <td>N MAIN ST</td>\n",
       "      <td>NEW HAVEN VSP</td>\n",
       "      <td>F</td>\n",
       "      <td>White</td>\n",
       "      <td>White</td>\n",
       "      <td>Moving Violation</td>\n",
       "      <td>Moving violation</td>\n",
       "      <td>No Search Conducted</td>\n",
       "      <td>False</td>\n",
       "      <td>Arrest for Violation</td>\n",
       "    </tr>\n",
       "    <tr>\n",
       "      <th>4</th>\n",
       "      <td>VT-2010-00005</td>\n",
       "      <td>VT</td>\n",
       "      <td>2010-07-01</td>\n",
       "      <td>00:35</td>\n",
       "      <td>Hardwick</td>\n",
       "      <td>Caledonia County</td>\n",
       "      <td>i91 nb mm 62</td>\n",
       "      <td>ROYALTON VSP</td>\n",
       "      <td>M</td>\n",
       "      <td>White</td>\n",
       "      <td>White</td>\n",
       "      <td>Moving Violation</td>\n",
       "      <td>Moving violation</td>\n",
       "      <td>No Search Conducted</td>\n",
       "      <td>False</td>\n",
       "      <td>Written Warning</td>\n",
       "    </tr>\n",
       "  </tbody>\n",
       "</table>\n",
       "</div>"
      ],
      "text/plain": [
       "              id state   stop_date stop_time     location_raw  \\\n",
       "0  VT-2010-00001    VT  2010-07-01     00:10  East Montpelier   \n",
       "1  VT-2010-00002    VT  2010-07-01     00:10              NaN   \n",
       "2  VT-2010-00003    VT  2010-07-01     00:10              NaN   \n",
       "3  VT-2010-00004    VT  2010-07-01     00:11          Whiting   \n",
       "4  VT-2010-00005    VT  2010-07-01     00:35         Hardwick   \n",
       "\n",
       "         county_name  fine_grained_location police_department driver_gender  \\\n",
       "0  Washington County              COUNTY RD     MIDDLESEX VSP             M   \n",
       "1                NaN  COUNTY RD; Fitch Road     MIDDLESEX VSP             F   \n",
       "2                NaN  COUNTY RD; Fitch Road     MIDDLESEX VSP             F   \n",
       "3     Addison County              N MAIN ST     NEW HAVEN VSP             F   \n",
       "4   Caledonia County           i91 nb mm 62      ROYALTON VSP             M   \n",
       "\n",
       "  driver_race_raw driver_race              violation_raw         violation  \\\n",
       "0           White       White           Moving Violation  Moving violation   \n",
       "1           White       White  Externally Generated Stop             Other   \n",
       "2           White       White  Externally Generated Stop             Other   \n",
       "3           White       White           Moving Violation  Moving violation   \n",
       "4           White       White           Moving Violation  Moving violation   \n",
       "\n",
       "       search_type_raw contraband_found          stop_outcome  \n",
       "0  No Search Conducted            False              Citation  \n",
       "1  No Search Conducted            False  Arrest for Violation  \n",
       "2  No Search Conducted            False  Arrest for Violation  \n",
       "3  No Search Conducted            False  Arrest for Violation  \n",
       "4  No Search Conducted            False       Written Warning  "
      ]
     },
     "execution_count": 18,
     "metadata": {},
     "output_type": "execute_result"
    }
   ],
   "source": [
    "cat_var = df.select_dtypes(include=['object'])\n",
    "cat_var.head()"
   ]
  },
  {
   "cell_type": "code",
   "execution_count": 19,
   "metadata": {},
   "outputs": [],
   "source": [
    "for i in cat_var:\n",
    "    cat_var[i].fillna(cat_var[i].mode()[0], inplace=True)"
   ]
  },
  {
   "cell_type": "code",
   "execution_count": 20,
   "metadata": {},
   "outputs": [
    {
     "data": {
      "text/plain": [
       "id                       False\n",
       "state                    False\n",
       "stop_date                False\n",
       "stop_time                False\n",
       "location_raw             False\n",
       "county_name              False\n",
       "fine_grained_location    False\n",
       "police_department        False\n",
       "driver_gender            False\n",
       "driver_race_raw          False\n",
       "driver_race              False\n",
       "violation_raw            False\n",
       "violation                False\n",
       "search_type_raw          False\n",
       "contraband_found         False\n",
       "stop_outcome             False\n",
       "dtype: bool"
      ]
     },
     "execution_count": 20,
     "metadata": {},
     "output_type": "execute_result"
    }
   ],
   "source": [
    "cat_var.isnull().any()"
   ]
  },
  {
   "cell_type": "markdown",
   "metadata": {},
   "source": [
    "## Montana city: "
   ]
  },
  {
   "cell_type": "code",
   "execution_count": 21,
   "metadata": {},
   "outputs": [
    {
     "name": "stderr",
     "output_type": "stream",
     "text": [
      "/usr/local/lib/python2.7/dist-packages/IPython/core/interactiveshell.py:2718: DtypeWarning: Columns (25,27) have mixed types. Specify dtype option on import or set low_memory=False.\n",
      "  interactivity=interactivity, compiler=compiler, result=result)\n"
     ]
    }
   ],
   "source": [
    "df2 = pd.read_csv('MT_cleaned.csv', header = 0)"
   ]
  },
  {
   "cell_type": "code",
   "execution_count": 22,
   "metadata": {},
   "outputs": [
    {
     "data": {
      "text/html": [
       "<div>\n",
       "<style>\n",
       "    .dataframe thead tr:only-child th {\n",
       "        text-align: right;\n",
       "    }\n",
       "\n",
       "    .dataframe thead th {\n",
       "        text-align: left;\n",
       "    }\n",
       "\n",
       "    .dataframe tbody tr th {\n",
       "        vertical-align: top;\n",
       "    }\n",
       "</style>\n",
       "<table border=\"1\" class=\"dataframe\">\n",
       "  <thead>\n",
       "    <tr style=\"text-align: right;\">\n",
       "      <th></th>\n",
       "      <th>id</th>\n",
       "      <th>state</th>\n",
       "      <th>stop_date</th>\n",
       "      <th>stop_time</th>\n",
       "      <th>location_raw</th>\n",
       "      <th>county_name</th>\n",
       "      <th>county_fips</th>\n",
       "      <th>fine_grained_location</th>\n",
       "      <th>police_department</th>\n",
       "      <th>driver_gender</th>\n",
       "      <th>...</th>\n",
       "      <th>lon</th>\n",
       "      <th>ethnicity</th>\n",
       "      <th>city</th>\n",
       "      <th>out_of_state</th>\n",
       "      <th>vehicle_year</th>\n",
       "      <th>vehicle_make</th>\n",
       "      <th>vehicle_model</th>\n",
       "      <th>vehicle_style</th>\n",
       "      <th>search_reason</th>\n",
       "      <th>stop_outcome_raw</th>\n",
       "    </tr>\n",
       "  </thead>\n",
       "  <tbody>\n",
       "    <tr>\n",
       "      <th>0</th>\n",
       "      <td>MT-2009-00001</td>\n",
       "      <td>MT</td>\n",
       "      <td>2009-01-01</td>\n",
       "      <td>02:10</td>\n",
       "      <td>CASCADE</td>\n",
       "      <td>Cascade County</td>\n",
       "      <td>30013.0</td>\n",
       "      <td>US 89 N MM10 (SB)</td>\n",
       "      <td>NaN</td>\n",
       "      <td>F</td>\n",
       "      <td>...</td>\n",
       "      <td>-111.802932</td>\n",
       "      <td>N</td>\n",
       "      <td>NaN</td>\n",
       "      <td>False</td>\n",
       "      <td>1994</td>\n",
       "      <td>FORD</td>\n",
       "      <td>EXPLORER</td>\n",
       "      <td>SPORT UTILITY</td>\n",
       "      <td>NaN</td>\n",
       "      <td>TRAFFIC CITATION,WARNING</td>\n",
       "    </tr>\n",
       "    <tr>\n",
       "      <th>1</th>\n",
       "      <td>MT-2009-00002</td>\n",
       "      <td>MT</td>\n",
       "      <td>2009-01-02</td>\n",
       "      <td>11:34</td>\n",
       "      <td>MISSOULA</td>\n",
       "      <td>Missoula County</td>\n",
       "      <td>30063.0</td>\n",
       "      <td>HWY 93 SO AND ANNS LANE S/B</td>\n",
       "      <td>NaN</td>\n",
       "      <td>M</td>\n",
       "      <td>...</td>\n",
       "      <td>-114.081142</td>\n",
       "      <td>N</td>\n",
       "      <td>NaN</td>\n",
       "      <td>False</td>\n",
       "      <td>1996</td>\n",
       "      <td>GMC</td>\n",
       "      <td>TK</td>\n",
       "      <td>TRUCK</td>\n",
       "      <td>NaN</td>\n",
       "      <td>INFFRACTION ARREST,WARNING</td>\n",
       "    </tr>\n",
       "    <tr>\n",
       "      <th>2</th>\n",
       "      <td>MT-2009-00003</td>\n",
       "      <td>MT</td>\n",
       "      <td>2009-01-03</td>\n",
       "      <td>11:36</td>\n",
       "      <td>MISSOULA</td>\n",
       "      <td>Missoula County</td>\n",
       "      <td>30063.0</td>\n",
       "      <td>P007 HWY 93 MM 77 N/B</td>\n",
       "      <td>NaN</td>\n",
       "      <td>M</td>\n",
       "      <td>...</td>\n",
       "      <td>-114.073505</td>\n",
       "      <td>N</td>\n",
       "      <td>NaN</td>\n",
       "      <td>False</td>\n",
       "      <td>1999</td>\n",
       "      <td>GMC</td>\n",
       "      <td>YUKON</td>\n",
       "      <td>SPORT UTILITY</td>\n",
       "      <td>NaN</td>\n",
       "      <td>INFFRACTION ARREST</td>\n",
       "    </tr>\n",
       "  </tbody>\n",
       "</table>\n",
       "<p>3 rows × 33 columns</p>\n",
       "</div>"
      ],
      "text/plain": [
       "              id state   stop_date stop_time location_raw      county_name  \\\n",
       "0  MT-2009-00001    MT  2009-01-01     02:10      CASCADE   Cascade County   \n",
       "1  MT-2009-00002    MT  2009-01-02     11:34     MISSOULA  Missoula County   \n",
       "2  MT-2009-00003    MT  2009-01-03     11:36     MISSOULA  Missoula County   \n",
       "\n",
       "   county_fips        fine_grained_location  police_department driver_gender  \\\n",
       "0      30013.0            US 89 N MM10 (SB)                NaN             F   \n",
       "1      30063.0  HWY 93 SO AND ANNS LANE S/B                NaN             M   \n",
       "2      30063.0        P007 HWY 93 MM 77 N/B                NaN             M   \n",
       "\n",
       "              ...                     lon  ethnicity city out_of_state  \\\n",
       "0             ...             -111.802932          N  NaN        False   \n",
       "1             ...             -114.081142          N  NaN        False   \n",
       "2             ...             -114.073505          N  NaN        False   \n",
       "\n",
       "  vehicle_year vehicle_make  vehicle_model  vehicle_style search_reason  \\\n",
       "0         1994         FORD       EXPLORER  SPORT UTILITY           NaN   \n",
       "1         1996          GMC             TK          TRUCK           NaN   \n",
       "2         1999          GMC          YUKON  SPORT UTILITY           NaN   \n",
       "\n",
       "             stop_outcome_raw  \n",
       "0    TRAFFIC CITATION,WARNING  \n",
       "1  INFFRACTION ARREST,WARNING  \n",
       "2          INFFRACTION ARREST  \n",
       "\n",
       "[3 rows x 33 columns]"
      ]
     },
     "execution_count": 22,
     "metadata": {},
     "output_type": "execute_result"
    }
   ],
   "source": [
    "df2.head(3)"
   ]
  },
  {
   "cell_type": "code",
   "execution_count": 23,
   "metadata": {},
   "outputs": [
    {
     "data": {
      "text/plain": [
       "(825118, 33)"
      ]
     },
     "execution_count": 23,
     "metadata": {},
     "output_type": "execute_result"
    }
   ],
   "source": [
    "np.shape(df2)"
   ]
  },
  {
   "cell_type": "code",
   "execution_count": 24,
   "metadata": {},
   "outputs": [
    {
     "data": {
      "text/plain": [
       "id                       False\n",
       "state                    False\n",
       "stop_date                 True\n",
       "stop_time                 True\n",
       "location_raw              True\n",
       "county_name               True\n",
       "county_fips               True\n",
       "fine_grained_location     True\n",
       "police_department         True\n",
       "driver_gender             True\n",
       "driver_age_raw           False\n",
       "driver_age                True\n",
       "driver_race_raw           True\n",
       "driver_race               True\n",
       "violation_raw             True\n",
       "violation                 True\n",
       "search_conducted         False\n",
       "search_type_raw           True\n",
       "search_type               True\n",
       "contraband_found          True\n",
       "stop_outcome              True\n",
       "is_arrested              False\n",
       "lat                       True\n",
       "lon                       True\n",
       "ethnicity                 True\n",
       "city                      True\n",
       "out_of_state              True\n",
       "vehicle_year              True\n",
       "vehicle_make              True\n",
       "vehicle_model             True\n",
       "vehicle_style             True\n",
       "search_reason             True\n",
       "stop_outcome_raw          True\n",
       "dtype: bool"
      ]
     },
     "execution_count": 24,
     "metadata": {},
     "output_type": "execute_result"
    }
   ],
   "source": [
    "df2.isnull().any()"
   ]
  },
  {
   "cell_type": "code",
   "execution_count": 25,
   "metadata": {},
   "outputs": [
    {
     "data": {
      "text/plain": [
       "id                            0\n",
       "state                         0\n",
       "stop_date                    11\n",
       "stop_time                    11\n",
       "location_raw                  4\n",
       "county_name                4056\n",
       "county_fips                4056\n",
       "fine_grained_location      3741\n",
       "police_department        825118\n",
       "driver_gender               119\n",
       "driver_age_raw                0\n",
       "driver_age                 3480\n",
       "driver_race_raw             106\n",
       "driver_race                2739\n",
       "violation_raw                73\n",
       "violation                    73\n",
       "search_conducted              0\n",
       "search_type_raw          822092\n",
       "search_type              822092\n",
       "contraband_found           3026\n",
       "stop_outcome                 53\n",
       "is_arrested                   0\n",
       "lat                         436\n",
       "lon                         436\n",
       "ethnicity                    98\n",
       "city                     549630\n",
       "out_of_state               4699\n",
       "vehicle_year               6610\n",
       "vehicle_make               4268\n",
       "vehicle_model             23801\n",
       "vehicle_style             65362\n",
       "search_reason            822309\n",
       "stop_outcome_raw             53\n",
       "dtype: int64"
      ]
     },
     "execution_count": 25,
     "metadata": {},
     "output_type": "execute_result"
    }
   ],
   "source": [
    "df2.isnull().sum()"
   ]
  },
  {
   "cell_type": "code",
   "execution_count": 26,
   "metadata": {
    "scrolled": true
   },
   "outputs": [
    {
     "data": {
      "text/plain": [
       "id                       0.000000\n",
       "state                    0.000000\n",
       "stop_date                0.000013\n",
       "stop_time                0.000013\n",
       "location_raw             0.000005\n",
       "county_name              0.004916\n",
       "county_fips              0.004916\n",
       "fine_grained_location    0.004534\n",
       "police_department        1.000000\n",
       "driver_gender            0.000144\n",
       "driver_age_raw           0.000000\n",
       "driver_age               0.004218\n",
       "driver_race_raw          0.000128\n",
       "driver_race              0.003320\n",
       "violation_raw            0.000088\n",
       "violation                0.000088\n",
       "search_conducted         0.000000\n",
       "search_type_raw          0.996333\n",
       "search_type              0.996333\n",
       "contraband_found         0.003667\n",
       "stop_outcome             0.000064\n",
       "is_arrested              0.000000\n",
       "lat                      0.000528\n",
       "lon                      0.000528\n",
       "ethnicity                0.000119\n",
       "city                     0.666123\n",
       "out_of_state             0.005695\n",
       "vehicle_year             0.008011\n",
       "vehicle_make             0.005173\n",
       "vehicle_model            0.028846\n",
       "vehicle_style            0.079215\n",
       "search_reason            0.996596\n",
       "stop_outcome_raw         0.000064\n",
       "dtype: float64"
      ]
     },
     "execution_count": 26,
     "metadata": {},
     "output_type": "execute_result"
    }
   ],
   "source": [
    "df2.isnull().sum()/len(df2)"
   ]
  },
  {
   "cell_type": "markdown",
   "metadata": {},
   "source": [
    "mmm there are four variables we gonna delete them from the dataframe .. \n",
    "cause their majorities are empty cells .. "
   ]
  },
  {
   "cell_type": "code",
   "execution_count": 27,
   "metadata": {},
   "outputs": [],
   "source": [
    "del df2['police_department']\n",
    "del df2['search_type_raw']\n",
    "del df2['search_type']\n",
    "del df2['search_reason']"
   ]
  },
  {
   "cell_type": "code",
   "execution_count": 28,
   "metadata": {},
   "outputs": [
    {
     "data": {
      "text/plain": [
       "(825118, 29)"
      ]
     },
     "execution_count": 28,
     "metadata": {},
     "output_type": "execute_result"
    }
   ],
   "source": [
    "np.shape(df2)"
   ]
  },
  {
   "cell_type": "markdown",
   "metadata": {},
   "source": [
    "variables are removed ! "
   ]
  },
  {
   "cell_type": "code",
   "execution_count": 29,
   "metadata": {},
   "outputs": [
    {
     "name": "stdout",
     "output_type": "stream",
     "text": [
      "<class 'pandas.core.frame.DataFrame'>\n",
      "RangeIndex: 825118 entries, 0 to 825117\n",
      "Data columns (total 29 columns):\n",
      "id                       825118 non-null object\n",
      "state                    825118 non-null object\n",
      "stop_date                825107 non-null object\n",
      "stop_time                825107 non-null object\n",
      "location_raw             825114 non-null object\n",
      "county_name              821062 non-null object\n",
      "county_fips              821062 non-null float64\n",
      "fine_grained_location    821377 non-null object\n",
      "driver_gender            824999 non-null object\n",
      "driver_age_raw           825118 non-null float64\n",
      "driver_age               821638 non-null float64\n",
      "driver_race_raw          825012 non-null object\n",
      "driver_race              822379 non-null object\n",
      "violation_raw            825045 non-null object\n",
      "violation                825045 non-null object\n",
      "search_conducted         825118 non-null bool\n",
      "contraband_found         822092 non-null object\n",
      "stop_outcome             825065 non-null object\n",
      "is_arrested              825118 non-null bool\n",
      "lat                      824682 non-null float64\n",
      "lon                      824682 non-null float64\n",
      "ethnicity                825020 non-null object\n",
      "city                     275488 non-null object\n",
      "out_of_state             820419 non-null object\n",
      "vehicle_year             818508 non-null object\n",
      "vehicle_make             820850 non-null object\n",
      "vehicle_model            801317 non-null object\n",
      "vehicle_style            759756 non-null object\n",
      "stop_outcome_raw         825065 non-null object\n",
      "dtypes: bool(2), float64(5), object(22)\n",
      "memory usage: 171.5+ MB\n"
     ]
    }
   ],
   "source": [
    "df2.info()"
   ]
  },
  {
   "cell_type": "markdown",
   "metadata": {},
   "source": [
    "## Filling NAs:"
   ]
  },
  {
   "cell_type": "code",
   "execution_count": 30,
   "metadata": {},
   "outputs": [
    {
     "data": {
      "text/html": [
       "<div>\n",
       "<style>\n",
       "    .dataframe thead tr:only-child th {\n",
       "        text-align: right;\n",
       "    }\n",
       "\n",
       "    .dataframe thead th {\n",
       "        text-align: left;\n",
       "    }\n",
       "\n",
       "    .dataframe tbody tr th {\n",
       "        vertical-align: top;\n",
       "    }\n",
       "</style>\n",
       "<table border=\"1\" class=\"dataframe\">\n",
       "  <thead>\n",
       "    <tr style=\"text-align: right;\">\n",
       "      <th></th>\n",
       "      <th>search_conducted</th>\n",
       "      <th>is_arrested</th>\n",
       "    </tr>\n",
       "  </thead>\n",
       "  <tbody>\n",
       "    <tr>\n",
       "      <th>0</th>\n",
       "      <td>False</td>\n",
       "      <td>False</td>\n",
       "    </tr>\n",
       "    <tr>\n",
       "      <th>1</th>\n",
       "      <td>False</td>\n",
       "      <td>True</td>\n",
       "    </tr>\n",
       "    <tr>\n",
       "      <th>2</th>\n",
       "      <td>False</td>\n",
       "      <td>True</td>\n",
       "    </tr>\n",
       "    <tr>\n",
       "      <th>3</th>\n",
       "      <td>False</td>\n",
       "      <td>True</td>\n",
       "    </tr>\n",
       "    <tr>\n",
       "      <th>4</th>\n",
       "      <td>False</td>\n",
       "      <td>True</td>\n",
       "    </tr>\n",
       "  </tbody>\n",
       "</table>\n",
       "</div>"
      ],
      "text/plain": [
       "   search_conducted  is_arrested\n",
       "0             False        False\n",
       "1             False         True\n",
       "2             False         True\n",
       "3             False         True\n",
       "4             False         True"
      ]
     },
     "execution_count": 30,
     "metadata": {},
     "output_type": "execute_result"
    }
   ],
   "source": [
    "## bool\n",
    "int_var2 = df2.select_dtypes(include=['bool'])\n",
    "int_var2.head()"
   ]
  },
  {
   "cell_type": "code",
   "execution_count": 31,
   "metadata": {},
   "outputs": [],
   "source": [
    "int_var2.search_conducted.fillna(int_var2.search_conducted.mode()[0], inplace=True)\n",
    "int_var2.is_arrested.fillna(int_var2.is_arrested.mode()[0], inplace=True)"
   ]
  },
  {
   "cell_type": "code",
   "execution_count": 32,
   "metadata": {},
   "outputs": [
    {
     "data": {
      "text/html": [
       "<div>\n",
       "<style>\n",
       "    .dataframe thead tr:only-child th {\n",
       "        text-align: right;\n",
       "    }\n",
       "\n",
       "    .dataframe thead th {\n",
       "        text-align: left;\n",
       "    }\n",
       "\n",
       "    .dataframe tbody tr th {\n",
       "        vertical-align: top;\n",
       "    }\n",
       "</style>\n",
       "<table border=\"1\" class=\"dataframe\">\n",
       "  <thead>\n",
       "    <tr style=\"text-align: right;\">\n",
       "      <th></th>\n",
       "      <th>county_fips</th>\n",
       "      <th>driver_age_raw</th>\n",
       "      <th>driver_age</th>\n",
       "      <th>lat</th>\n",
       "      <th>lon</th>\n",
       "    </tr>\n",
       "  </thead>\n",
       "  <tbody>\n",
       "    <tr>\n",
       "      <th>0</th>\n",
       "      <td>30013.0</td>\n",
       "      <td>16.0</td>\n",
       "      <td>16.0</td>\n",
       "      <td>47.572738</td>\n",
       "      <td>-111.802932</td>\n",
       "    </tr>\n",
       "    <tr>\n",
       "      <th>1</th>\n",
       "      <td>30063.0</td>\n",
       "      <td>19.0</td>\n",
       "      <td>19.0</td>\n",
       "      <td>46.761225</td>\n",
       "      <td>-114.081142</td>\n",
       "    </tr>\n",
       "    <tr>\n",
       "      <th>2</th>\n",
       "      <td>30063.0</td>\n",
       "      <td>17.0</td>\n",
       "      <td>17.0</td>\n",
       "      <td>46.694683</td>\n",
       "      <td>-114.073505</td>\n",
       "    </tr>\n",
       "    <tr>\n",
       "      <th>3</th>\n",
       "      <td>30063.0</td>\n",
       "      <td>17.0</td>\n",
       "      <td>17.0</td>\n",
       "      <td>46.727388</td>\n",
       "      <td>-114.079027</td>\n",
       "    </tr>\n",
       "    <tr>\n",
       "      <th>4</th>\n",
       "      <td>30063.0</td>\n",
       "      <td>31.0</td>\n",
       "      <td>31.0</td>\n",
       "      <td>46.729518</td>\n",
       "      <td>-114.079150</td>\n",
       "    </tr>\n",
       "  </tbody>\n",
       "</table>\n",
       "</div>"
      ],
      "text/plain": [
       "   county_fips  driver_age_raw  driver_age        lat         lon\n",
       "0      30013.0            16.0        16.0  47.572738 -111.802932\n",
       "1      30063.0            19.0        19.0  46.761225 -114.081142\n",
       "2      30063.0            17.0        17.0  46.694683 -114.073505\n",
       "3      30063.0            17.0        17.0  46.727388 -114.079027\n",
       "4      30063.0            31.0        31.0  46.729518 -114.079150"
      ]
     },
     "execution_count": 32,
     "metadata": {},
     "output_type": "execute_result"
    }
   ],
   "source": [
    "## float ..\n",
    "\n",
    "float_var2 = df2.select_dtypes(include=['float'])\n",
    "float_var2.head()"
   ]
  },
  {
   "cell_type": "code",
   "execution_count": 33,
   "metadata": {},
   "outputs": [
    {
     "data": {
      "text/plain": [
       "<matplotlib.axes._subplots.AxesSubplot at 0x7fb40c560450>"
      ]
     },
     "execution_count": 33,
     "metadata": {},
     "output_type": "execute_result"
    },
    {
     "data": {
      "image/png": "[encoded data removed]",
      "text/plain": [
       "<matplotlib.figure.Figure at 0x7fb434ac8d50>"
      ]
     },
     "metadata": {},
     "output_type": "display_data"
    }
   ],
   "source": [
    "float_var2.boxplot()"
   ]
  },
  {
   "cell_type": "code",
   "execution_count": 34,
   "metadata": {},
   "outputs": [
    {
     "data": {
      "text/html": [
       "<div>\n",
       "<style>\n",
       "    .dataframe thead tr:only-child th {\n",
       "        text-align: right;\n",
       "    }\n",
       "\n",
       "    .dataframe thead th {\n",
       "        text-align: left;\n",
       "    }\n",
       "\n",
       "    .dataframe tbody tr th {\n",
       "        vertical-align: top;\n",
       "    }\n",
       "</style>\n",
       "<table border=\"1\" class=\"dataframe\">\n",
       "  <thead>\n",
       "    <tr style=\"text-align: right;\">\n",
       "      <th></th>\n",
       "      <th>county_fips</th>\n",
       "      <th>driver_age_raw</th>\n",
       "      <th>driver_age</th>\n",
       "      <th>lat</th>\n",
       "      <th>lon</th>\n",
       "    </tr>\n",
       "  </thead>\n",
       "  <tbody>\n",
       "    <tr>\n",
       "      <th>count</th>\n",
       "      <td>821062.000000</td>\n",
       "      <td>825118.000000</td>\n",
       "      <td>821638.000000</td>\n",
       "      <td>824682.000000</td>\n",
       "      <td>824682.000000</td>\n",
       "    </tr>\n",
       "    <tr>\n",
       "      <th>mean</th>\n",
       "      <td>30051.789626</td>\n",
       "      <td>39.240020</td>\n",
       "      <td>39.401292</td>\n",
       "      <td>46.871360</td>\n",
       "      <td>-110.993188</td>\n",
       "    </tr>\n",
       "    <tr>\n",
       "      <th>std</th>\n",
       "      <td>31.660891</td>\n",
       "      <td>15.884145</td>\n",
       "      <td>15.716828</td>\n",
       "      <td>1.216404</td>\n",
       "      <td>3.694875</td>\n",
       "    </tr>\n",
       "    <tr>\n",
       "      <th>min</th>\n",
       "      <td>30001.000000</td>\n",
       "      <td>0.000000</td>\n",
       "      <td>15.000000</td>\n",
       "      <td>0.000000</td>\n",
       "      <td>-122.131522</td>\n",
       "    </tr>\n",
       "    <tr>\n",
       "      <th>25%</th>\n",
       "      <td>30029.000000</td>\n",
       "      <td>26.000000</td>\n",
       "      <td>26.000000</td>\n",
       "      <td>45.914703</td>\n",
       "      <td>-114.015515</td>\n",
       "    </tr>\n",
       "    <tr>\n",
       "      <th>50%</th>\n",
       "      <td>30047.000000</td>\n",
       "      <td>37.000000</td>\n",
       "      <td>37.000000</td>\n",
       "      <td>46.757568</td>\n",
       "      <td>-111.541818</td>\n",
       "    </tr>\n",
       "    <tr>\n",
       "      <th>75%</th>\n",
       "      <td>30077.000000</td>\n",
       "      <td>51.000000</td>\n",
       "      <td>51.000000</td>\n",
       "      <td>47.687818</td>\n",
       "      <td>-108.884178</td>\n",
       "    </tr>\n",
       "    <tr>\n",
       "      <th>max</th>\n",
       "      <td>30111.000000</td>\n",
       "      <td>240.000000</td>\n",
       "      <td>99.000000</td>\n",
       "      <td>89.999720</td>\n",
       "      <td>179.000000</td>\n",
       "    </tr>\n",
       "  </tbody>\n",
       "</table>\n",
       "</div>"
      ],
      "text/plain": [
       "         county_fips  driver_age_raw     driver_age            lat  \\\n",
       "count  821062.000000   825118.000000  821638.000000  824682.000000   \n",
       "mean    30051.789626       39.240020      39.401292      46.871360   \n",
       "std        31.660891       15.884145      15.716828       1.216404   \n",
       "min     30001.000000        0.000000      15.000000       0.000000   \n",
       "25%     30029.000000       26.000000      26.000000      45.914703   \n",
       "50%     30047.000000       37.000000      37.000000      46.757568   \n",
       "75%     30077.000000       51.000000      51.000000      47.687818   \n",
       "max     30111.000000      240.000000      99.000000      89.999720   \n",
       "\n",
       "                 lon  \n",
       "count  824682.000000  \n",
       "mean     -110.993188  \n",
       "std         3.694875  \n",
       "min      -122.131522  \n",
       "25%      -114.015515  \n",
       "50%      -111.541818  \n",
       "75%      -108.884178  \n",
       "max       179.000000  "
      ]
     },
     "execution_count": 34,
     "metadata": {},
     "output_type": "execute_result"
    }
   ],
   "source": [
    "float_var2.describe()"
   ]
  },
  {
   "cell_type": "markdown",
   "metadata": {},
   "source": [
    "The range of values county_fips \td is far more than the other float variables .. \n",
    "\n",
    "however, the distribution of all variables is almost normal .. "
   ]
  },
  {
   "cell_type": "code",
   "execution_count": 35,
   "metadata": {},
   "outputs": [],
   "source": [
    "for i in float_var2:\n",
    "    float_var2[i].fillna(float_var2[i].mean(), inplace=True)"
   ]
  },
  {
   "cell_type": "code",
   "execution_count": 36,
   "metadata": {},
   "outputs": [
    {
     "data": {
      "text/plain": [
       "county_fips       False\n",
       "driver_age_raw    False\n",
       "driver_age        False\n",
       "lat               False\n",
       "lon               False\n",
       "dtype: bool"
      ]
     },
     "execution_count": 36,
     "metadata": {},
     "output_type": "execute_result"
    }
   ],
   "source": [
    "float_var2.isnull().any()"
   ]
  },
  {
   "cell_type": "code",
   "execution_count": 37,
   "metadata": {},
   "outputs": [
    {
     "data": {
      "text/html": [
       "<div>\n",
       "<style>\n",
       "    .dataframe thead tr:only-child th {\n",
       "        text-align: right;\n",
       "    }\n",
       "\n",
       "    .dataframe thead th {\n",
       "        text-align: left;\n",
       "    }\n",
       "\n",
       "    .dataframe tbody tr th {\n",
       "        vertical-align: top;\n",
       "    }\n",
       "</style>\n",
       "<table border=\"1\" class=\"dataframe\">\n",
       "  <thead>\n",
       "    <tr style=\"text-align: right;\">\n",
       "      <th></th>\n",
       "      <th>id</th>\n",
       "      <th>state</th>\n",
       "      <th>stop_date</th>\n",
       "      <th>stop_time</th>\n",
       "      <th>location_raw</th>\n",
       "      <th>county_name</th>\n",
       "      <th>fine_grained_location</th>\n",
       "      <th>driver_gender</th>\n",
       "      <th>driver_race_raw</th>\n",
       "      <th>driver_race</th>\n",
       "      <th>...</th>\n",
       "      <th>contraband_found</th>\n",
       "      <th>stop_outcome</th>\n",
       "      <th>ethnicity</th>\n",
       "      <th>city</th>\n",
       "      <th>out_of_state</th>\n",
       "      <th>vehicle_year</th>\n",
       "      <th>vehicle_make</th>\n",
       "      <th>vehicle_model</th>\n",
       "      <th>vehicle_style</th>\n",
       "      <th>stop_outcome_raw</th>\n",
       "    </tr>\n",
       "  </thead>\n",
       "  <tbody>\n",
       "    <tr>\n",
       "      <th>0</th>\n",
       "      <td>MT-2009-00001</td>\n",
       "      <td>MT</td>\n",
       "      <td>2009-01-01</td>\n",
       "      <td>02:10</td>\n",
       "      <td>CASCADE</td>\n",
       "      <td>Cascade County</td>\n",
       "      <td>US 89 N MM10 (SB)</td>\n",
       "      <td>F</td>\n",
       "      <td>White</td>\n",
       "      <td>White</td>\n",
       "      <td>...</td>\n",
       "      <td>False</td>\n",
       "      <td>Citation</td>\n",
       "      <td>N</td>\n",
       "      <td>NaN</td>\n",
       "      <td>False</td>\n",
       "      <td>1994</td>\n",
       "      <td>FORD</td>\n",
       "      <td>EXPLORER</td>\n",
       "      <td>SPORT UTILITY</td>\n",
       "      <td>TRAFFIC CITATION,WARNING</td>\n",
       "    </tr>\n",
       "    <tr>\n",
       "      <th>1</th>\n",
       "      <td>MT-2009-00002</td>\n",
       "      <td>MT</td>\n",
       "      <td>2009-01-02</td>\n",
       "      <td>11:34</td>\n",
       "      <td>MISSOULA</td>\n",
       "      <td>Missoula County</td>\n",
       "      <td>HWY 93 SO AND ANNS LANE S/B</td>\n",
       "      <td>M</td>\n",
       "      <td>White</td>\n",
       "      <td>White</td>\n",
       "      <td>...</td>\n",
       "      <td>False</td>\n",
       "      <td>Arrest</td>\n",
       "      <td>N</td>\n",
       "      <td>NaN</td>\n",
       "      <td>False</td>\n",
       "      <td>1996</td>\n",
       "      <td>GMC</td>\n",
       "      <td>TK</td>\n",
       "      <td>TRUCK</td>\n",
       "      <td>INFFRACTION ARREST,WARNING</td>\n",
       "    </tr>\n",
       "    <tr>\n",
       "      <th>2</th>\n",
       "      <td>MT-2009-00003</td>\n",
       "      <td>MT</td>\n",
       "      <td>2009-01-03</td>\n",
       "      <td>11:36</td>\n",
       "      <td>MISSOULA</td>\n",
       "      <td>Missoula County</td>\n",
       "      <td>P007 HWY 93 MM 77 N/B</td>\n",
       "      <td>M</td>\n",
       "      <td>White</td>\n",
       "      <td>White</td>\n",
       "      <td>...</td>\n",
       "      <td>False</td>\n",
       "      <td>Arrest</td>\n",
       "      <td>N</td>\n",
       "      <td>NaN</td>\n",
       "      <td>False</td>\n",
       "      <td>1999</td>\n",
       "      <td>GMC</td>\n",
       "      <td>YUKON</td>\n",
       "      <td>SPORT UTILITY</td>\n",
       "      <td>INFFRACTION ARREST</td>\n",
       "    </tr>\n",
       "    <tr>\n",
       "      <th>3</th>\n",
       "      <td>MT-2009-00004</td>\n",
       "      <td>MT</td>\n",
       "      <td>2009-01-04</td>\n",
       "      <td>10:33</td>\n",
       "      <td>MISSOULA</td>\n",
       "      <td>Missoula County</td>\n",
       "      <td>P007 HWY 93 MM 81 S/B</td>\n",
       "      <td>F</td>\n",
       "      <td>NaN</td>\n",
       "      <td>NaN</td>\n",
       "      <td>...</td>\n",
       "      <td>False</td>\n",
       "      <td>Arrest</td>\n",
       "      <td>NaN</td>\n",
       "      <td>NaN</td>\n",
       "      <td>False</td>\n",
       "      <td>2002</td>\n",
       "      <td>HOND</td>\n",
       "      <td>CR-V</td>\n",
       "      <td>SPORT UTILITY</td>\n",
       "      <td>INFFRACTION ARREST</td>\n",
       "    </tr>\n",
       "    <tr>\n",
       "      <th>4</th>\n",
       "      <td>MT-2009-00005</td>\n",
       "      <td>MT</td>\n",
       "      <td>2009-01-04</td>\n",
       "      <td>10:46</td>\n",
       "      <td>MISSOULA</td>\n",
       "      <td>Missoula County</td>\n",
       "      <td>P007 HWY 93 MM 81 N/B</td>\n",
       "      <td>M</td>\n",
       "      <td>NaN</td>\n",
       "      <td>NaN</td>\n",
       "      <td>...</td>\n",
       "      <td>False</td>\n",
       "      <td>Arrest</td>\n",
       "      <td>NaN</td>\n",
       "      <td>NaN</td>\n",
       "      <td>False</td>\n",
       "      <td>1992</td>\n",
       "      <td>TOYT</td>\n",
       "      <td>TERCEL</td>\n",
       "      <td>SEDAN</td>\n",
       "      <td>INFFRACTION ARREST</td>\n",
       "    </tr>\n",
       "  </tbody>\n",
       "</table>\n",
       "<p>5 rows × 22 columns</p>\n",
       "</div>"
      ],
      "text/plain": [
       "              id state   stop_date stop_time location_raw      county_name  \\\n",
       "0  MT-2009-00001    MT  2009-01-01     02:10      CASCADE   Cascade County   \n",
       "1  MT-2009-00002    MT  2009-01-02     11:34     MISSOULA  Missoula County   \n",
       "2  MT-2009-00003    MT  2009-01-03     11:36     MISSOULA  Missoula County   \n",
       "3  MT-2009-00004    MT  2009-01-04     10:33     MISSOULA  Missoula County   \n",
       "4  MT-2009-00005    MT  2009-01-04     10:46     MISSOULA  Missoula County   \n",
       "\n",
       "         fine_grained_location driver_gender driver_race_raw driver_race  \\\n",
       "0            US 89 N MM10 (SB)             F           White       White   \n",
       "1  HWY 93 SO AND ANNS LANE S/B             M           White       White   \n",
       "2        P007 HWY 93 MM 77 N/B             M           White       White   \n",
       "3        P007 HWY 93 MM 81 S/B             F             NaN         NaN   \n",
       "4        P007 HWY 93 MM 81 N/B             M             NaN         NaN   \n",
       "\n",
       "              ...             contraband_found stop_outcome ethnicity city  \\\n",
       "0             ...                        False     Citation         N  NaN   \n",
       "1             ...                        False       Arrest         N  NaN   \n",
       "2             ...                        False       Arrest         N  NaN   \n",
       "3             ...                        False       Arrest       NaN  NaN   \n",
       "4             ...                        False       Arrest       NaN  NaN   \n",
       "\n",
       "  out_of_state vehicle_year vehicle_make vehicle_model  vehicle_style  \\\n",
       "0        False         1994         FORD      EXPLORER  SPORT UTILITY   \n",
       "1        False         1996          GMC            TK          TRUCK   \n",
       "2        False         1999          GMC         YUKON  SPORT UTILITY   \n",
       "3        False         2002         HOND          CR-V  SPORT UTILITY   \n",
       "4        False         1992         TOYT        TERCEL          SEDAN   \n",
       "\n",
       "             stop_outcome_raw  \n",
       "0    TRAFFIC CITATION,WARNING  \n",
       "1  INFFRACTION ARREST,WARNING  \n",
       "2          INFFRACTION ARREST  \n",
       "3          INFFRACTION ARREST  \n",
       "4          INFFRACTION ARREST  \n",
       "\n",
       "[5 rows x 22 columns]"
      ]
     },
     "execution_count": 37,
     "metadata": {},
     "output_type": "execute_result"
    }
   ],
   "source": [
    "cat_var2 = df2.select_dtypes(include=['object'])\n",
    "cat_var2.head()"
   ]
  },
  {
   "cell_type": "code",
   "execution_count": 38,
   "metadata": {},
   "outputs": [],
   "source": [
    "for i in cat_var2:\n",
    "    cat_var2[i].fillna(cat_var2[i].mode()[0], inplace=True)"
   ]
  },
  {
   "cell_type": "code",
   "execution_count": 39,
   "metadata": {},
   "outputs": [
    {
     "data": {
      "text/plain": [
       "id                       False\n",
       "state                    False\n",
       "stop_date                False\n",
       "stop_time                False\n",
       "location_raw             False\n",
       "county_name              False\n",
       "fine_grained_location    False\n",
       "driver_gender            False\n",
       "driver_race_raw          False\n",
       "driver_race              False\n",
       "violation_raw            False\n",
       "violation                False\n",
       "contraband_found         False\n",
       "stop_outcome             False\n",
       "ethnicity                False\n",
       "city                     False\n",
       "out_of_state             False\n",
       "vehicle_year             False\n",
       "vehicle_make             False\n",
       "vehicle_model            False\n",
       "vehicle_style            False\n",
       "stop_outcome_raw         False\n",
       "dtype: bool"
      ]
     },
     "execution_count": 39,
     "metadata": {},
     "output_type": "execute_result"
    }
   ],
   "source": [
    "cat_var2.isnull().any()"
   ]
  },
  {
   "cell_type": "markdown",
   "metadata": {},
   "source": [
    "## Data cleaning and Exploration:"
   ]
  },
  {
   "cell_type": "markdown",
   "metadata": {},
   "source": [
    "## Q_1:\n",
    "What proportion of traffic stops in Montana involved male drivers? In other words, divide the number of traffic stops involving male drivers by the total number of stops. "
   ]
  },
  {
   "cell_type": "code",
   "execution_count": 40,
   "metadata": {},
   "outputs": [
    {
     "data": {
      "text/plain": [
       "<matplotlib.axes._subplots.AxesSubplot at 0x7fb434618050>"
      ]
     },
     "execution_count": 40,
     "metadata": {},
     "output_type": "execute_result"
    },
    {
     "data": {
      "image/png": "[encoded data removed]",
      "text/plain": [
       "<matplotlib.figure.Figure at 0x7fb434ac8550>"
      ]
     },
     "metadata": {},
     "output_type": "display_data"
    }
   ],
   "source": [
    "sns.countplot(cat_var2.driver_gender)"
   ]
  },
  {
   "cell_type": "code",
   "execution_count": 41,
   "metadata": {},
   "outputs": [
    {
     "data": {
      "text/plain": [
       "M    0.674975\n",
       "F    0.324881\n",
       "Name: driver_gender, dtype: float64"
      ]
     },
     "execution_count": 41,
     "metadata": {},
     "output_type": "execute_result"
    }
   ],
   "source": [
    "df2.driver_gender.value_counts()/len(df2)"
   ]
  },
  {
   "cell_type": "markdown",
   "metadata": {},
   "source": [
    "Answer: 0.674975"
   ]
  },
  {
   "cell_type": "code",
   "execution_count": null,
   "metadata": {},
   "outputs": [],
   "source": []
  },
  {
   "cell_type": "markdown",
   "metadata": {},
   "source": [
    "## Q_3:\n",
    "\n",
    "How much more likely does a traffic stop in Montana result in a DUI than a traffic stop in Vermont? To compute the proportion of traffic stops that result in a DUI, divide the number of stops with \"DUI\" in the violation description by the total number of stops. "
   ]
  },
  {
   "cell_type": "code",
   "execution_count": 42,
   "metadata": {},
   "outputs": [
    {
     "data": {
      "text/plain": [
       "Moving violation      218302\n",
       "Equipment              51934\n",
       "Other                  10120\n",
       "DUI                      749\n",
       "Other (non-mapped)         2\n",
       "Name: violation, dtype: int64"
      ]
     },
     "execution_count": 42,
     "metadata": {},
     "output_type": "execute_result"
    }
   ],
   "source": [
    "df.violation.value_counts()"
   ]
  },
  {
   "cell_type": "code",
   "execution_count": 43,
   "metadata": {},
   "outputs": [
    {
     "data": {
      "text/plain": [
       "Speeding                                                336980\n",
       "License,Speeding                                         58572\n",
       "Paperwork,Speeding                                       46513\n",
       "Lights                                                   42809\n",
       "License,Paperwork,Speeding                               28708\n",
       "Safe movement                                            26136\n",
       "License                                                  20602\n",
       "Seat belt,Speeding                                       16473\n",
       "Registration/plates                                      15988\n",
       "License,Lights                                           12442\n",
       "Stop sign/light                                          11239\n",
       "License,Paperwork                                         9645\n",
       "Other                                                     9118\n",
       "Lights,Paperwork                                          7947\n",
       "Truck                                                     7353\n",
       "License,Lights,Paperwork                                  7296\n",
       "Paperwork,Seat belt,Speeding                              6805\n",
       "License,Seat belt,Speeding                                6612\n",
       "Equipment,Speeding                                        6418\n",
       "Equipment                                                 5862\n",
       "License,Registration/plates                               4896\n",
       "License,Safe movement                                     4831\n",
       "Safe movement,Speeding                                    4305\n",
       "Lights,Speeding                                           4264\n",
       "License,Paperwork,Seat belt                               4023\n",
       "Registration/plates,Seat belt                             3980\n",
       "Paperwork,Registration/plates                             3640\n",
       "License,Seat belt                                         3413\n",
       "License,Paperwork,Registration/plates                     3292\n",
       "Paperwork,Safe movement                                   3194\n",
       "                                                         ...  \n",
       "DUI,Other,Truck                                              2\n",
       "DUI,Other (non-mapped),Paperwork                             2\n",
       "Registration/plates,Speeding,Truck                           2\n",
       "Lights,Other (non-mapped),Seat belt                          2\n",
       "Equipment,Other,Stop sign/light                              2\n",
       "Equipment,Other (non-mapped),Seat belt                       2\n",
       "Lights,Seat belt,Truck                                       2\n",
       "Other (non-mapped),Registration/plates,Seat belt             2\n",
       "DUI,Equipment,Registration/plates                            2\n",
       "Other (non-mapped),Safe movement,Speeding                    2\n",
       "DUI,Lights,Registration/plates                               1\n",
       "DUI,Other (non-mapped),Safe movement                         1\n",
       "Other,Other (non-mapped),Safe movement                       1\n",
       "Speeding,Stop sign/light,Truck                               1\n",
       "Other (non-mapped),Speeding,Truck                            1\n",
       "Other (non-mapped),Registration/plates                       1\n",
       "License,Other (non-mapped),Truck                             1\n",
       "Other (non-mapped),Seat belt,Stop sign/light                 1\n",
       "Equipment,Safe movement,Truck                                1\n",
       "DUI,Safe movement,Truck                                      1\n",
       "Other (non-mapped),Registration/plates,Safe movement         1\n",
       "Other (non-mapped),Safe movement,Seat belt                   1\n",
       "DUI,Paperwork,Truck                                          1\n",
       "Other,Stop sign/light,Truck                                  1\n",
       "Other (non-mapped),Safe movement,Stop sign/light             1\n",
       "License,Registration/plates,Truck                            1\n",
       "Equipment,Other (non-mapped),Truck                           1\n",
       "DUI,Other (non-mapped),Truck                                 1\n",
       "Other (non-mapped),Stop sign/light                           1\n",
       "Equipment,Other (non-mapped),Paperwork                       1\n",
       "Name: violation, Length: 332, dtype: int64"
      ]
     },
     "execution_count": 43,
     "metadata": {},
     "output_type": "execute_result"
    }
   ],
   "source": [
    "df2.violation.value_counts()"
   ]
  },
  {
   "cell_type": "code",
   "execution_count": 44,
   "metadata": {},
   "outputs": [
    {
     "data": {
      "text/plain": [
       "8914"
      ]
     },
     "execution_count": 44,
     "metadata": {},
     "output_type": "execute_result"
    }
   ],
   "source": [
    "len(cat_var2[cat_var2['violation'].str.contains('DUI')])  # value_counts if the violation cell contains DUI "
   ]
  },
  {
   "cell_type": "code",
   "execution_count": 45,
   "metadata": {},
   "outputs": [
    {
     "data": {
      "text/plain": [
       "11.901201602136181"
      ]
     },
     "execution_count": 45,
     "metadata": {},
     "output_type": "execute_result"
    }
   ],
   "source": [
    "montana_vermont_ratio = 8914.0/749.0\n",
    "montana_vermont_ratio"
   ]
  },
  {
   "cell_type": "code",
   "execution_count": 46,
   "metadata": {},
   "outputs": [
    {
     "data": {
      "text/plain": [
       "0.010803303285105887"
      ]
     },
     "execution_count": 46,
     "metadata": {},
     "output_type": "execute_result"
    }
   ],
   "source": [
    "749.0/8914.0\n",
    "8914.0/len(df2)"
   ]
  },
  {
   "cell_type": "code",
   "execution_count": null,
   "metadata": {},
   "outputs": [],
   "source": []
  },
  {
   "cell_type": "code",
   "execution_count": 47,
   "metadata": {},
   "outputs": [],
   "source": [
    "# # Create linear regression object\n",
    "# regr = linear_model.LinearRegression()\n",
    "\n",
    "# # Train the model using the training sets\n",
    "# regr.fit(diabetes_X_train, diabetes_y_train)"
   ]
  },
  {
   "cell_type": "markdown",
   "metadata": {},
   "source": [
    "## Q5:\n",
    "\n",
    "Perform a (χ2) test to determine whether the proportions of arrests in these two populations are equal. What is the value of the test statistic? "
   ]
  },
  {
   "cell_type": "code",
   "execution_count": 48,
   "metadata": {},
   "outputs": [],
   "source": [
    "# import scipy.stats as scs\n",
    "\n",
    "\n",
    "# def categories(series):\n",
    "#     return range(int(series.min()), int(series.max()) + 1)\n",
    "\n",
    "\n",
    "# def chi_square_of_df_cols(col1, col2):\n",
    "#     df_col1, df_col2 = col1, col2\n",
    "\n",
    "#     result = [[sum((df_col1 == cat1) & (df_col2 == cat2))\n",
    "#                for cat2 in categories(df_col2)]\n",
    "#               for cat1 in categories(df_col1)]\n",
    "\n",
    "#     return scs.chi2_contingency(result)\n",
    "\n"
   ]
  },
  {
   "cell_type": "markdown",
   "metadata": {},
   "source": [
    "## Q6: \n",
    "\n",
    "How many more times likely are you to be arrested in Montana during a traffic stop if you have out of state plates? "
   ]
  },
  {
   "cell_type": "code",
   "execution_count": 49,
   "metadata": {},
   "outputs": [
    {
     "data": {
      "text/plain": [
       "array([False,  True], dtype=bool)"
      ]
     },
     "execution_count": 49,
     "metadata": {},
     "output_type": "execute_result"
    }
   ],
   "source": [
    "df2.is_arrested.unique()"
   ]
  },
  {
   "cell_type": "code",
   "execution_count": 50,
   "metadata": {},
   "outputs": [
    {
     "data": {
      "text/plain": [
       "False    807923\n",
       "True      17195\n",
       "Name: is_arrested, dtype: int64"
      ]
     },
     "execution_count": 50,
     "metadata": {},
     "output_type": "execute_result"
    }
   ],
   "source": [
    "df2.is_arrested.value_counts()"
   ]
  },
  {
   "cell_type": "code",
   "execution_count": 51,
   "metadata": {},
   "outputs": [
    {
     "data": {
      "text/plain": [
       "0.020839443570495372"
      ]
     },
     "execution_count": 51,
     "metadata": {},
     "output_type": "execute_result"
    }
   ],
   "source": [
    "arrested_ratio = 17195.0/len(int_var2)\n",
    "arrested_ratio"
   ]
  },
  {
   "cell_type": "markdown",
   "metadata": {},
   "source": [
    "## Q7:\n",
    "\n",
    "What proportion of traffic stops in Montana resulted in speeding violations? In other words, find the number of violations that include \"Speeding\" in the violation description and divide that number by the total number of stops (or rows in the Montana dataset). "
   ]
  },
  {
   "cell_type": "code",
   "execution_count": 52,
   "metadata": {},
   "outputs": [
    {
     "data": {
      "text/plain": [
       "543083"
      ]
     },
     "execution_count": 52,
     "metadata": {},
     "output_type": "execute_result"
    }
   ],
   "source": [
    "len(cat_var2[cat_var2['violation'].str.contains('Speeding')])  # value_counts if the violation cell contains DUI "
   ]
  },
  {
   "cell_type": "code",
   "execution_count": 53,
   "metadata": {},
   "outputs": [
    {
     "data": {
      "text/plain": [
       "0.6581882833728024"
      ]
     },
     "execution_count": 53,
     "metadata": {},
     "output_type": "execute_result"
    }
   ],
   "source": [
    "speeding_ratio = 543083.0/len(cat_var2)\n",
    "speeding_ratio"
   ]
  },
  {
   "cell_type": "markdown",
   "metadata": {},
   "source": [
    "## Q8:\n",
    "What is the extrapolated, average manufacture year of vehicles involved in traffic stops in Montana in 2020? To answer this question, calculate the average vehicle manufacture year for each year's traffic stops. Extrapolate using a linear regression. "
   ]
  },
  {
   "cell_type": "code",
   "execution_count": 54,
   "metadata": {},
   "outputs": [
    {
     "data": {
      "text/plain": [
       "Index([u'id', u'state', u'stop_date', u'stop_time', u'location_raw',\n",
       "       u'county_name', u'county_fips', u'fine_grained_location',\n",
       "       u'driver_gender', u'driver_age_raw', u'driver_age', u'driver_race_raw',\n",
       "       u'driver_race', u'violation_raw', u'violation', u'search_conducted',\n",
       "       u'contraband_found', u'stop_outcome', u'is_arrested', u'lat', u'lon',\n",
       "       u'ethnicity', u'city', u'out_of_state', u'vehicle_year',\n",
       "       u'vehicle_make', u'vehicle_model', u'vehicle_style',\n",
       "       u'stop_outcome_raw'],\n",
       "      dtype='object')"
      ]
     },
     "execution_count": 54,
     "metadata": {},
     "output_type": "execute_result"
    }
   ],
   "source": [
    "df2.columns"
   ]
  },
  {
   "cell_type": "code",
   "execution_count": 55,
   "metadata": {},
   "outputs": [
    {
     "data": {
      "text/html": [
       "<div>\n",
       "<style>\n",
       "    .dataframe thead tr:only-child th {\n",
       "        text-align: right;\n",
       "    }\n",
       "\n",
       "    .dataframe thead th {\n",
       "        text-align: left;\n",
       "    }\n",
       "\n",
       "    .dataframe tbody tr th {\n",
       "        vertical-align: top;\n",
       "    }\n",
       "</style>\n",
       "<table border=\"1\" class=\"dataframe\">\n",
       "  <thead>\n",
       "    <tr style=\"text-align: right;\">\n",
       "      <th></th>\n",
       "      <th>county_fips</th>\n",
       "      <th>driver_age_raw</th>\n",
       "      <th>driver_age</th>\n",
       "      <th>search_conducted</th>\n",
       "      <th>is_arrested</th>\n",
       "      <th>lat</th>\n",
       "      <th>lon</th>\n",
       "    </tr>\n",
       "    <tr>\n",
       "      <th>vehicle_year</th>\n",
       "      <th></th>\n",
       "      <th></th>\n",
       "      <th></th>\n",
       "      <th></th>\n",
       "      <th></th>\n",
       "      <th></th>\n",
       "      <th></th>\n",
       "    </tr>\n",
       "  </thead>\n",
       "  <tbody>\n",
       "    <tr>\n",
       "      <th>1915.0</th>\n",
       "      <td>30051.0</td>\n",
       "      <td>43.0</td>\n",
       "      <td>43.0</td>\n",
       "      <td>0.0</td>\n",
       "      <td>0.0</td>\n",
       "      <td>47.639858</td>\n",
       "      <td>-113.370168</td>\n",
       "    </tr>\n",
       "    <tr>\n",
       "      <th>1925.0</th>\n",
       "      <td>30029.0</td>\n",
       "      <td>52.0</td>\n",
       "      <td>52.0</td>\n",
       "      <td>0.0</td>\n",
       "      <td>1.0</td>\n",
       "      <td>48.112402</td>\n",
       "      <td>-114.251067</td>\n",
       "    </tr>\n",
       "    <tr>\n",
       "      <th>1926.0</th>\n",
       "      <td>30029.0</td>\n",
       "      <td>56.0</td>\n",
       "      <td>56.0</td>\n",
       "      <td>0.0</td>\n",
       "      <td>0.0</td>\n",
       "      <td>48.291848</td>\n",
       "      <td>-114.254808</td>\n",
       "    </tr>\n",
       "  </tbody>\n",
       "</table>\n",
       "</div>"
      ],
      "text/plain": [
       "              county_fips  driver_age_raw  driver_age  search_conducted  \\\n",
       "vehicle_year                                                              \n",
       "1915.0            30051.0            43.0        43.0               0.0   \n",
       "1925.0            30029.0            52.0        52.0               0.0   \n",
       "1926.0            30029.0            56.0        56.0               0.0   \n",
       "\n",
       "              is_arrested        lat         lon  \n",
       "vehicle_year                                      \n",
       "1915.0                0.0  47.639858 -113.370168  \n",
       "1925.0                1.0  48.112402 -114.251067  \n",
       "1926.0                0.0  48.291848 -114.254808  "
      ]
     },
     "execution_count": 55,
     "metadata": {},
     "output_type": "execute_result"
    }
   ],
   "source": [
    "temp = df2.groupby('vehicle_year').mean()\n",
    "temp.head(3)"
   ]
  },
  {
   "cell_type": "code",
   "execution_count": 56,
   "metadata": {},
   "outputs": [],
   "source": [
    "# df2.replace(df2['vehicle_year'].loc[df2['vehicle_year'] == 'NON-'], df2['vehicle_year'].mode()[0])\n",
    "# df2.replace(df2['vehicle_year'].loc[df2['vehicle_year'] == 'UNK'], df2['vehicle_year'].mode()[0])\n",
    "\n",
    "# df2.vehicle_year.unique()\n",
    "\n",
    "# df2['vehicle_year'].mode()[0]"
   ]
  },
  {
   "cell_type": "code",
   "execution_count": 57,
   "metadata": {},
   "outputs": [],
   "source": [
    "# # Create linear regression object\n",
    "# regr = linear_model.LinearRegression()\n",
    "\n",
    "# # Train the model using the training sets\n",
    "# regr.fit(temp, df2.vehicle_year)"
   ]
  },
  {
   "cell_type": "markdown",
   "metadata": {},
   "source": [
    "## Q9:\n",
    "\n",
    "Combining both the Vermont and Montana datasets, find the hours when the most and least number of traffic stops occurred. What is the difference in the total number of stops that occurred in these two hours? Hours range from 00 to 23. Round stop times down to compute this difference. "
   ]
  },
  {
   "cell_type": "code",
   "execution_count": null,
   "metadata": {},
   "outputs": [],
   "source": []
  },
  {
   "cell_type": "markdown",
   "metadata": {},
   "source": [
    "## Q10:\n",
    "\n",
    "We can use the traffic stop locations to estimate the areas of the counties in Montana. Represent each county as an ellipse with semi-axes given by a single standard deviation of the longitude and latitude of stops within that county. What is the area, in square kilometers, of the largest county measured in this manner? Please ignore unrealistic latitude and longitude coordinates. "
   ]
  },
  {
   "cell_type": "code",
   "execution_count": 111,
   "metadata": {},
   "outputs": [
    {
     "data": {
      "text/plain": [
       "Index([u'id', u'state', u'stop_date', u'stop_time', u'location_raw',\n",
       "       u'county_name', u'county_fips', u'fine_grained_location',\n",
       "       u'driver_gender', u'driver_age_raw', u'driver_age', u'driver_race_raw',\n",
       "       u'driver_race', u'violation_raw', u'violation', u'search_conducted',\n",
       "       u'contraband_found', u'stop_outcome', u'is_arrested', u'lat', u'lon',\n",
       "       u'ethnicity', u'city', u'out_of_state', u'vehicle_year',\n",
       "       u'vehicle_make', u'vehicle_model', u'vehicle_style',\n",
       "       u'stop_outcome_raw'],\n",
       "      dtype='object')"
      ]
     },
     "execution_count": 111,
     "metadata": {},
     "output_type": "execute_result"
    }
   ],
   "source": [
    "df2.columns"
   ]
  },
  {
   "cell_type": "code",
   "execution_count": null,
   "metadata": {},
   "outputs": [],
   "source": []
  }
 ],
 "metadata": {
  "kernelspec": {
   "display_name": "Python 2",
   "language": "python",
   "name": "python2"
  },
  "language_info": {
   "codemirror_mode": {
    "name": "ipython",
    "version": 2
   },
   "file_extension": ".py",
   "mimetype": "text/x-python",
   "name": "python",
   "nbconvert_exporter": "python",
   "pygments_lexer": "ipython2",
   "version": "2.7.12"
  }
 },
 "nbformat": 4,
 "nbformat_minor": 2
}
